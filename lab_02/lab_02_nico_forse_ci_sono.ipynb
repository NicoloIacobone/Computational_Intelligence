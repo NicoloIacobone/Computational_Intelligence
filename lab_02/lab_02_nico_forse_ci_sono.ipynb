{
 "cells": [
  {
   "cell_type": "markdown",
   "metadata": {},
   "source": [
    "## Evolution Strategy - Nim\n",
    "\n",
    "1. Rappresentazione dello stato del gioco -> Nimply, Nim\n",
    "2. Generazione delle mosse valide -> possible_moves(state)\n",
    "3. Funzione di valutazione -> fitness_function(strategy)\n",
    "    * fai giocare la strategia contro un'altra strategia e incrementa il punteggio se vince\n",
    "    * possibilità di organizzare un torneo\n",
    "    * possibilità di far giocare ogni strategia della popolazione contro tutte le altre strategie e prendere le migliori strategie per generare la nuova popolazione\n",
    "4. Algoritmo evolutivo -> generation and evaluation of a population of strategies\n",
    "    * Strategy -> a set of parameters that influence the behaviour of the agent\n",
    "        * Probabilità di selezionare una mossa casuale\n",
    "        * Punteggi assegnati a ciascuna riga\n",
    "        * Livello di aggressività -> percentuale di oggetti da rimuovere dalla riga\n",
    "5. Selezione, crossover e mutazione\n",
    "6. Partita tra gli agents\n",
    "7. Iterazione dell'algoritmo evolutivo\n",
    "8. Test e valutazione\n",
    "9. Ottimizzazione e affinamento\n",
    "10. Documentazione e presentazione"
   ]
  },
  {
   "cell_type": "markdown",
   "metadata": {},
   "source": [
    "This is a first + second try: with evolve() I basically obtain an almost random strategy, with evolve2() I obtain a strategy that is able to almost lose every match (it loses around >80% of the matches).\n",
    "I think the problem is in the function that evaluates the strategy and chooses the move to make (evolution_strategy())."
   ]
  },
  {
   "cell_type": "code",
   "execution_count": 126,
   "metadata": {},
   "outputs": [],
   "source": [
    "import logging\n",
    "from pprint import pprint, pformat\n",
    "from collections import namedtuple\n",
    "import random\n",
    "from copy import deepcopy\n",
    "from dataclasses import dataclass\n",
    "import math\n",
    "import copy\n",
    "from tqdm.notebook import tqdm"
   ]
  },
  {
   "cell_type": "markdown",
   "metadata": {},
   "source": [
    "## The *Nim* and *Nimply* classes"
   ]
  },
  {
   "cell_type": "code",
   "execution_count": 4,
   "metadata": {},
   "outputs": [],
   "source": [
    "# A way to represent a state of the game\n",
    "Nimply = namedtuple(\"Nimply\", \"row, num_objects\")"
   ]
  },
  {
   "cell_type": "code",
   "execution_count": 5,
   "metadata": {},
   "outputs": [],
   "source": [
    "# A way to represent a game itself\n",
    "class Nim:\n",
    "    # The constructor: it builds the rows and defines the upper bound for the number of objects that can be removed\n",
    "    def __init__(self, num_rows: int, k: int = None) -> None:\n",
    "        self._rows = [i * 2 + 1 for i in range(num_rows)]\n",
    "        self._k = k\n",
    "\n",
    "    def __bool__(self):\n",
    "        return sum(self._rows) > 0\n",
    "\n",
    "    # ToString method\n",
    "    def __str__(self):\n",
    "        return \"<\" + \" \".join(str(_) for _ in self._rows) + \">\"\n",
    "\n",
    "    @property\n",
    "    # Returns the rows as a tuple\n",
    "    def rows(self) -> tuple:\n",
    "        return tuple(self._rows)\n",
    "\n",
    "    # Checks if the move is valid and applies it\n",
    "    def nimming(self, ply: Nimply) -> None:\n",
    "        row, num_objects = ply\n",
    "        assert self._rows[row] >= num_objects\n",
    "        assert self._k is None or num_objects <= self._k\n",
    "        self._rows[row] -= num_objects"
   ]
  },
  {
   "cell_type": "code",
   "execution_count": 427,
   "metadata": {},
   "outputs": [],
   "source": [
    "NIM_SIZE = 5\n",
    "MAX_OBJECTS = NIM_SIZE * 2 + 1\n"
   ]
  },
  {
   "cell_type": "markdown",
   "metadata": {},
   "source": [
    "### Rule-Based Agent"
   ]
  },
  {
   "cell_type": "code",
   "execution_count": 7,
   "metadata": {},
   "outputs": [],
   "source": [
    "import numpy as np\n",
    "\n",
    "# Generates a \"score\" for the state of the game based on the transformation of the rows into binary strings and the xor of the rows\n",
    "def nim_sum(state: Nim) -> int:\n",
    "    # Transforms the rows into binary strings of length 32\n",
    "    tmp = np.array([tuple(int(x) for x in f\"{c:032b}\") for c in state.rows])\n",
    "    # Xor of the rows\n",
    "    xor = tmp.sum(axis=0) % 2\n",
    "    # Return the value of the xor as an integer (0 means that the game is lost)\n",
    "    return int(\"\".join(str(_) for _ in xor), base=2)\n",
    "\n",
    "# Generates a dictionary with the nim_sum (score) associated to all possible moves\n",
    "def analize(raw: Nim) -> dict:\n",
    "    cooked = dict()\n",
    "    cooked[\"possible_moves\"] = dict()\n",
    "    # For each possible move\n",
    "    for ply in (Nimply(r, o) for r, c in enumerate(raw.rows) for o in range(1, c + 1)):\n",
    "        tmp = deepcopy(raw)\n",
    "        tmp.nimming(ply)\n",
    "        cooked[\"possible_moves\"][ply] = nim_sum(tmp)\n",
    "    return cooked\n",
    "\n",
    "# Selects a move from the possible moves\n",
    "def optimal(state: Nim) -> Nimply:\n",
    "    # Generates the possible moves and their score\n",
    "    analysis = analize(state)\n",
    "    logging.debug(f\"analysis:\\n{pformat(analysis)}\")\n",
    "    # Filters for moves that don't make the game lost (score = 0)\n",
    "    spicy_moves = [ply for ply, ns in analysis[\"possible_moves\"].items() if ns != 0]\n",
    "    if not spicy_moves:\n",
    "        spicy_moves = list(analysis[\"possible_moves\"].keys())\n",
    "    # Selects a random move from the possible moves\n",
    "    ply = random.choice(spicy_moves)\n",
    "    return ply"
   ]
  },
  {
   "cell_type": "markdown",
   "metadata": {},
   "source": [
    "### Evolutionary Agent"
   ]
  },
  {
   "cell_type": "code",
   "execution_count": 8,
   "metadata": {},
   "outputs": [],
   "source": [
    "@dataclass\n",
    "class Strategy:\n",
    "    randomness: float\n",
    "    rows_scores: list[float]\n",
    "    objects_to_take: float\n",
    "    aggressive: bool"
   ]
  },
  {
   "cell_type": "code",
   "execution_count": 432,
   "metadata": {},
   "outputs": [],
   "source": [
    "# Definition of parameters\n",
    "NUMBER_OF_FITNESS_GAMES = 50\n",
    "INITIAL_POPULATION = 10 * 2 # always divisible by 2\n",
    "NUMBER_OF_GENERATIONS = 50\n",
    "best_strategy = None"
   ]
  },
  {
   "cell_type": "code",
   "execution_count": 10,
   "metadata": {},
   "outputs": [],
   "source": [
    "# Generates the initial population of strategies\n",
    "def generate_initial_population(number_of_individuals: int) -> list[Strategy]:\n",
    "    population = []\n",
    "    for _ in range(number_of_individuals):\n",
    "        population.append(\n",
    "            Strategy(random.random(), \n",
    "                     [random.random() for _ in range(NIM_SIZE)], \n",
    "                     random.random(), \n",
    "                     random.choice([True, False])))\n",
    "    return population"
   ]
  },
  {
   "cell_type": "code",
   "execution_count": 11,
   "metadata": {},
   "outputs": [],
   "source": [
    "# generates a list with all the possible moves (of type Nimply) at the current state of the game\n",
    "def possible_moves(state: Nim) -> list:\n",
    "    possible_moves = []\n",
    "    for ply in (Nimply(r, o) for r, c in enumerate(state.rows) for o in range(1, c + 1)):\n",
    "        try:\n",
    "            tmp = deepcopy(state)\n",
    "            tmp.nimming(ply)\n",
    "            possible_moves.append(ply)\n",
    "            # print(\"assertion ok\")\n",
    "        except AssertionError:\n",
    "            print(\"assertion error\")\n",
    "    return possible_moves"
   ]
  },
  {
   "cell_type": "code",
   "execution_count": 444,
   "metadata": {},
   "outputs": [],
   "source": [
    "# this should let strategies play against each other and assign a score to each of them based on the number of wins\n",
    "def fitness_function(strategy1: Strategy, strategy2: Strategy, num_games = NUMBER_OF_FITNESS_GAMES) -> int:\n",
    "    score = 0\n",
    "    for _ in range(num_games):\n",
    "        # everytime the strategy wins it gets a point\n",
    "        if nim_match(strategy1, strategy2, fitness = True) == 1:\n",
    "            score += 1\n",
    "    return score"
   ]
  },
  {
   "cell_type": "code",
   "execution_count": 442,
   "metadata": {},
   "outputs": [],
   "source": [
    "# this should let strategies play against each other and assign a score to each of them based on the number of wins\n",
    "# version 2: this is used by evolve_2()\n",
    "def fitness_function_2(strategy: Strategy, num_games = NUMBER_OF_FITNESS_GAMES) -> int:\n",
    "    score = 0\n",
    "    for _ in range(num_games):\n",
    "        # everytime the strategy wins it gets a point\n",
    "        if nim_match_2(optimal, strategy, fitness = True) == 1:\n",
    "            score += 1\n",
    "    return score"
   ]
  },
  {
   "cell_type": "code",
   "execution_count": 13,
   "metadata": {},
   "outputs": [],
   "source": [
    "# still implemented in the code, todo: call this external function\n",
    "def crossover(mother: Strategy, father: Strategy):\n",
    "    child1 = Strategy(randomness = random.choice([mother.randomness, father.randomness]),\n",
    "                      rows_scores = random.choice([mother.rows_scores, father.rows_scores]),\n",
    "                      objects_to_take = random.choice([mother.objects_to_take, father.objects_to_take]),\n",
    "                      aggressive = random.choice([mother.aggressive, father.aggressive]))\n",
    "    child2 = Strategy(randomness = random.choice([mother.randomness, father.randomness]),\n",
    "                        rows_scores = random.choice([mother.rows_scores, father.rows_scores]),\n",
    "                        objects_to_take = random.choice([mother.objects_to_take, father.objects_to_take]),\n",
    "                        aggressive = random.choice([mother.aggressive, father.aggressive]))\n",
    "    return child1, child2"
   ]
  },
  {
   "cell_type": "code",
   "execution_count": 252,
   "metadata": {},
   "outputs": [],
   "source": [
    "# this returns the best strategy in a population after the application of the genetic algorithm\n",
    "# version 1.0 : the strategies play against each other and the best one is returned\n",
    "def evolve() -> Strategy:\n",
    "    # print(\"Evolve starting\")\n",
    "    # generate random strategies (initial population)\n",
    "    population = generate_initial_population(INITIAL_POPULATION)\n",
    "    # print(\"initial population:\", population)\n",
    "\n",
    "    # calculate the fitness of each strategy\n",
    "    # each strategy plays against each other and itself NUMBER_OF_FITNESS_GAMES times\n",
    "    scores = []\n",
    "    for strategy1 in population:\n",
    "        score = 0\n",
    "        for strategy2 in population:\n",
    "            score += fitness_function(strategy1, strategy2)\n",
    "        scores.append((strategy1, score))\n",
    "    \n",
    "    # sort scores by fitnes descending\n",
    "    scores.sort(key=lambda x: x[1], reverse=True)\n",
    "    # print(\"scores:\", scores)\n",
    "\n",
    "    # start the genetic algorithm\n",
    "    for _ in tqdm(range(NUMBER_OF_GENERATIONS)):\n",
    "        new_generation = []\n",
    "\n",
    "        # select the best strategies\n",
    "        # we take the first half of the population (the best half)\n",
    "        best_half = scores[:len(scores)//2]\n",
    "        # print(\"best_half:\", best_half)\n",
    "\n",
    "        # for _ in range(INITIAL_POPULATION/2):\n",
    "        while len(best_half) > 0:\n",
    "            # crossover\n",
    "            # we pick randomly the mother and the father from the best half\n",
    "            # mother = random.choice(best_half)[0]\n",
    "            mother = random.choice(best_half)\n",
    "            best_half.pop(best_half.index(mother))\n",
    "            # print(\"mother:\", mother)\n",
    "            # father = random.choice(best_half)[0]\n",
    "            father = random.choice(best_half)\n",
    "            best_half.pop(best_half.index(father))\n",
    "            # print(\"father:\", father)\n",
    "            child1, child2 = crossover(mother[0], father[0])\n",
    "            # print(\"child1:\", child1)\n",
    "            # print(\"child2:\", child2)\n",
    "\n",
    "            new_generation.append(child1)\n",
    "            new_generation.append(child2)\n",
    "            new_generation.append(mother[0])\n",
    "            new_generation.append(father[0])\n",
    "\n",
    "            # print(\"index mother:\", best_half.index(mother)[0])\n",
    "            # # print(\"index father:\", best_half.index(father))\n",
    "            # best_half.pop(best_half.index(mother)[0])\n",
    "            # best_half.pop(best_half.index(father))\n",
    "\n",
    "            # mutation\n",
    "            # to be implemented\n",
    "\n",
    "        # calculate the fitness of each strategy\n",
    "        scores = []\n",
    "        # print(\"new_generation:\", new_generation)\n",
    "        for strategy1 in new_generation:\n",
    "            score = 0\n",
    "            for strategy2 in new_generation:\n",
    "                score += fitness_function(strategy1, strategy2)\n",
    "            scores.append((strategy1, score))\n",
    "\n",
    "        # sort scores by fitnes descending\n",
    "        scores.sort(key=lambda x: x[1], reverse=True)\n",
    "\n",
    "    # return the best strategy\n",
    "    return scores[0][0]"
   ]
  },
  {
   "cell_type": "code",
   "execution_count": 446,
   "metadata": {},
   "outputs": [],
   "source": [
    "# this returns the best strategy in a population after the application of the genetic algorithm\n",
    "# version 2.0: each strategy plays against the optimal function strategy given by the teacher, this because that is the strategy to beat\n",
    "def evolve_2() -> Strategy:\n",
    "    # print(\"Evolve starting\")\n",
    "    # generate random strategies (initial population)\n",
    "    population = generate_initial_population(INITIAL_POPULATION)\n",
    "    # print(\"initial population:\", population)\n",
    "\n",
    "    # calculate the fitness of each strategy\n",
    "    # each strategy plays against each other and itself NUMBER_OF_FITNESS_GAMES times\n",
    "    scores = []\n",
    "    for strategy in population:\n",
    "        score = fitness_function_2(strategy)\n",
    "        scores.append((strategy, score))\n",
    "    \n",
    "    # sort scores by fitnes descending\n",
    "    scores.sort(key=lambda x: x[1], reverse=True)\n",
    "    # print(\"scores before training:\", scores)\n",
    "    # print(\"best strategy before training:\", scores[0][0])\n",
    "\n",
    "    # start the genetic algorithm\n",
    "    for _ in tqdm(range(NUMBER_OF_GENERATIONS)):\n",
    "        new_generation = []\n",
    "\n",
    "        # select the best strategies\n",
    "        # we take the first half of the population (the best half)\n",
    "        best_half = scores[:len(scores)//2]\n",
    "        # print(\"best_half:\", best_half)\n",
    "\n",
    "        # for _ in range(INITIAL_POPULATION/2):\n",
    "        while len(best_half) > 0:\n",
    "            # crossover\n",
    "            # we pick randomly the mother and the father from the best half\n",
    "            # mother = random.choice(best_half)[0]\n",
    "            mother = random.choice(best_half)\n",
    "            best_half.pop(best_half.index(mother))\n",
    "            # print(\"mother:\", mother)\n",
    "            # father = random.choice(best_half)[0]\n",
    "            father = random.choice(best_half)\n",
    "            best_half.pop(best_half.index(father))\n",
    "            # print(\"father:\", father)\n",
    "            child1, child2 = crossover(mother[0], father[0])\n",
    "            # print(\"child1:\", child1)\n",
    "            # print(\"child2:\", child2)\n",
    "\n",
    "            new_generation.append(child1)\n",
    "            new_generation.append(child2)\n",
    "            new_generation.append(mother[0])\n",
    "            new_generation.append(father[0])\n",
    "\n",
    "            # print(\"index mother:\", best_half.index(mother)[0])\n",
    "            # # print(\"index father:\", best_half.index(father))\n",
    "            # best_half.pop(best_half.index(mother)[0])\n",
    "            # best_half.pop(best_half.index(father))\n",
    "\n",
    "            # mutation\n",
    "            # to be implemented\n",
    "\n",
    "        # calculate the fitness of each strategy\n",
    "        scores = []\n",
    "        # print(\"new_generation:\", new_generation)\n",
    "        for strategy in new_generation:\n",
    "            score = fitness_function_2(strategy)\n",
    "            scores.append((strategy, score))\n",
    "\n",
    "        # sort scores by fitnes descending\n",
    "        scores.sort(key=lambda x: x[1], reverse=True)\n",
    "\n",
    "    # return the best strategy\n",
    "    # print(\"scores after training: \", scores)\n",
    "    # print(\"best strategy after training: \", scores[0][0])\n",
    "    return scores[0][0]"
   ]
  },
  {
   "cell_type": "code",
   "execution_count": 128,
   "metadata": {},
   "outputs": [],
   "source": [
    "def choose_based_on_scores(rows_scores: list[float]) -> int:\n",
    "    # calculates a weighted probability for each row based on the scores\n",
    "    total = sum(rows_scores)\n",
    "    probabilities = [score / total for score in rows_scores]\n",
    "    indices = list(range(len(rows_scores)))\n",
    "    chosen_index = random.choices(indices, probabilities)[0]\n",
    "    return chosen_index"
   ]
  },
  {
   "cell_type": "markdown",
   "metadata": {},
   "source": [
    "## Command to train the agent"
   ]
  },
  {
   "cell_type": "code",
   "execution_count": 447,
   "metadata": {},
   "outputs": [
    {
     "data": {
      "application/vnd.jupyter.widget-view+json": {
       "model_id": "1df94503eef447e5acb94269328c7711",
       "version_major": 2,
       "version_minor": 0
      },
      "text/plain": [
       "  0%|          | 0/50 [00:00<?, ?it/s]"
      ]
     },
     "metadata": {},
     "output_type": "display_data"
    },
    {
     "data": {
      "application/vnd.jupyter.widget-view+json": {
       "model_id": "1e7e6b0b897445cfba87a7cb6c2a1d8a",
       "version_major": 2,
       "version_minor": 0
      },
      "text/plain": [
       "  0%|          | 0/50 [00:00<?, ?it/s]"
      ]
     },
     "metadata": {},
     "output_type": "display_data"
    },
    {
     "name": "stdout",
     "output_type": "stream",
     "text": [
      "best_strategy_1: Strategy(randomness=0.06841591523179158, rows_scores=[0.038533038928596275, 0.16839356357893087, 0.8888780511830323, 0.9872259243037497, 0.9317777569986282], objects_to_take=0.8170411861026605, aggressive=True)\n",
      "best_strategy_2: Strategy(randomness=0.0716015790481781, rows_scores=[0.32976586329763113, 0.37873854523753214, 0.7145812175502192, 0.349582870681972, 0.6456632133582212], objects_to_take=0.8756517306377082, aggressive=False)\n"
     ]
    }
   ],
   "source": [
    "best_strategy_1 = evolve()\n",
    "best_strategy_2 = evolve_2()\n",
    "\n",
    "print(\"best_strategy_1:\", best_strategy_1)\n",
    "print(\"best_strategy_2:\", best_strategy_2)\n"
   ]
  },
  {
   "cell_type": "markdown",
   "metadata": {},
   "source": [
    "## Function that returns the move to do based on the strategy and the actual state"
   ]
  },
  {
   "cell_type": "code",
   "execution_count": 451,
   "metadata": {},
   "outputs": [],
   "source": [
    "# def evolution_strategy(state: Nim, strategy: Strategy = best_strategy) -> Nimply:\n",
    "def evolution_strategy(state: Nim, strategy: Strategy) -> Nimply:\n",
    "    # generate the possible moves\n",
    "    allowed_moves = possible_moves(state)\n",
    "    # print(allowed_moves)\n",
    "\n",
    "    # decide whether to pick a random move or the best one\n",
    "    # print(\"strategy: \", strategy)\n",
    "    # print(\"strategy.randomness: \", strategy.randomness)\n",
    "    if random.random() < strategy.randomness:\n",
    "        # raise Exception(\"Debug: Entrato nel ciclo if\") \n",
    "        selected_move = random.choice(allowed_moves)\n",
    "        return selected_move\n",
    "    \n",
    "    # pick the best move based on the other parameters\n",
    "    # select the rows that are involved in the possible moves\n",
    "    not_allowed_rows = set(range(NIM_SIZE)) - set(move.row for move in allowed_moves)\n",
    "    # print(\"not_allowed_rows: \", not_allowed_rows)\n",
    "    \n",
    "    # select the scores of the rows that are involved in the possible moves\n",
    "    selected_rows_scores = deepcopy(strategy.rows_scores)\n",
    "    for i in not_allowed_rows:\n",
    "        selected_rows_scores[i] = 0\n",
    "    # print(\"selected_rows_scores: \", selected_rows_scores)\n",
    "    \n",
    "    # choose the best row\n",
    "    selected_row = choose_based_on_scores(selected_rows_scores)\n",
    "    # print(\"selected_row: \", selected_row)\n",
    "\n",
    "    # choose the best number of objects to take\n",
    "    # count the number of objects in the selected row at the actual state\n",
    "    number_of_objects = len([move for move in allowed_moves if move.row == selected_row])\n",
    "    # print(\"number_of_objects: \", number_of_objects)\n",
    "\n",
    "    if strategy.aggressive:\n",
    "        # choose by rounding up\n",
    "        selected_objects = math.ceil(strategy.objects_to_take * number_of_objects)\n",
    "    else:\n",
    "        # choose by rounding down\n",
    "        selected_objects = math.floor(strategy.objects_to_take * number_of_objects)\n",
    "    # print(\"selected_objects: \", selected_objects)\n",
    "    # if the result of picking obkects is 0, pick 1 (minimum)\n",
    "    if selected_objects == 0:\n",
    "        selected_objects = 1\n",
    "    elif selected_objects > MAX_OBJECTS:\n",
    "        selected_objects = MAX_OBJECTS\n",
    "\n",
    "    # reconstruct the corresponding move\n",
    "    selected_move = Nimply(selected_row, selected_objects)\n",
    "    # print(\"selected_move: \", selected_move)\n",
    "    return selected_move"
   ]
  },
  {
   "cell_type": "code",
   "execution_count": 450,
   "metadata": {},
   "outputs": [],
   "source": [
    "# prova versione 2 di evolution_strategy\n",
    "# # def evolution_strategy(state: Nim, strategy: Strategy = best_strategy) -> Nimply:\n",
    "# def evolution_strategy(state: Nim, strategy: Strategy) -> Nimply:\n",
    "#     # generate the possible moves\n",
    "#     allowed_moves = possible_moves(state)\n",
    "#     # print(allowed_moves)\n",
    "\n",
    "#     # decide whether to pick a random move or the best one\n",
    "#     # print(\"strategy: \", strategy)\n",
    "#     # print(\"strategy.randomness: \", strategy.randomness)\n",
    "#     if random.random() < strategy.randomness:\n",
    "#         selected_move = random.choice(allowed_moves)\n",
    "#         return selected_move\n",
    "    \n",
    "#     # pick the best move based on the other parameters\n",
    "#     # select the rows that are involved in the possible moves\n",
    "#     not_allowed_rows = set(range(NIM_SIZE)) - set(move.row for move in allowed_moves)\n",
    "#     # print(\"not_allowed_rows: \", not_allowed_rows)\n",
    "    \n",
    "#     # select the scores of the rows that are involved in the possible moves\n",
    "#     selected_rows_scores = deepcopy(strategy.rows_scores)\n",
    "#     for i in not_allowed_rows:\n",
    "#         selected_rows_scores[i] = 0\n",
    "#     # print(\"selected_rows_scores: \", selected_rows_scores)\n",
    "    \n",
    "#     # choose the best row\n",
    "#     selected_row = choose_based_on_scores(selected_rows_scores)\n",
    "#     # print(\"selected_row: \", selected_row)\n",
    "\n",
    "#     # choose the best number of objects to take\n",
    "#     # count the number of objects in the selected row at the actual state\n",
    "#     number_of_objects = len([move for move in allowed_moves if move.row == selected_row])\n",
    "#     # print(\"number_of_objects: \", number_of_objects)\n",
    "\n",
    "#     if strategy.aggressive:\n",
    "#         # choose by rounding up\n",
    "#         selected_objects = math.ceil(strategy.objects_to_take * number_of_objects)\n",
    "#     else:\n",
    "#         # choose by rounding down\n",
    "#         selected_objects = math.floor(strategy.objects_to_take * number_of_objects)\n",
    "#     # print(\"selected_objects: \", selected_objects)\n",
    "#     # if the result of picking obkects is 0, pick 1 (minimum)\n",
    "#     if selected_objects == 0:\n",
    "#         selected_objects = 1\n",
    "#     elif selected_objects > MAX_OBJECTS:\n",
    "#         selected_objects = MAX_OBJECTS\n",
    "\n",
    "#     # reconstruct the corresponding move\n",
    "#     selected_move = Nimply(selected_row, selected_objects)\n",
    "#     # print(\"selected_move: \", selected_move)\n",
    "#     return selected_move"
   ]
  },
  {
   "cell_type": "code",
   "execution_count": 452,
   "metadata": {},
   "outputs": [],
   "source": [
    "def nim_match(strategy1, strategy2, nim_size = NIM_SIZE, player = 0, fitness = False, debug = False):\n",
    "    agents = (strategy1, strategy2)\n",
    "    if debug:\n",
    "        print(\"agent1: \", agents[0])\n",
    "        print(\"agent2: \", agents[1])\n",
    "    nim = Nim(nim_size)\n",
    "    logging.info(f\"init : {nim}\")\n",
    "    if debug:\n",
    "        print(f\"init : {nim}\")\n",
    "    while nim:\n",
    "        selected_move = evolution_strategy(nim, agents[player])\n",
    "        logging.info(f\"ply: player {player} plays {selected_move}\")\n",
    "        if debug:\n",
    "            print(f\"ply: player {player} plays {selected_move}\")\n",
    "        nim.nimming(selected_move)\n",
    "        logging.info(f\"status: {nim}\")\n",
    "        if debug:\n",
    "            print(f\"status: {nim}\")\n",
    "        player = 1 - player\n",
    "    logging.info(f\"status: Player {player} won!\")\n",
    "    if debug:\n",
    "        print(f\"status: Player {player} won!\")\n",
    "    if fitness:\n",
    "        return player"
   ]
  },
  {
   "cell_type": "code",
   "execution_count": 453,
   "metadata": {},
   "outputs": [],
   "source": [
    "# used for testing evolve_2\n",
    "def nim_match_2(strategy1, strategy2, nim_size = NIM_SIZE, player = 0, fitness = False, debug = False, winner = False):\n",
    "    agents = (strategy1, strategy2)\n",
    "    if debug:\n",
    "        print(\"agent1: \", agents[0])\n",
    "        print(\"agent2: \", agents[1])\n",
    "    nim = Nim(nim_size)\n",
    "    logging.info(f\"init : {nim}\")\n",
    "    if debug:\n",
    "        print(f\"init : {nim}\")\n",
    "    while nim:\n",
    "        if player == 0:\n",
    "            selected_move = agents[player](nim)\n",
    "        else: \n",
    "            selected_move = evolution_strategy(nim, agents[player])\n",
    "        logging.info(f\"ply: player {player} plays {selected_move}\")\n",
    "        if debug:\n",
    "            print(f\"ply: player {player} plays {selected_move}\")\n",
    "        nim.nimming(selected_move)\n",
    "        logging.info(f\"status: {nim}\")\n",
    "        if debug:\n",
    "            print(f\"status: {nim}\")\n",
    "        player = 1 - player\n",
    "    logging.info(f\"status: Player {player} won!\")\n",
    "    if debug or winner:\n",
    "        print(f\"status: Player {player} won!\")\n",
    "    if fitness:\n",
    "        return player"
   ]
  },
  {
   "cell_type": "code",
   "execution_count": 469,
   "metadata": {},
   "outputs": [
    {
     "data": {
      "application/vnd.jupyter.widget-view+json": {
       "model_id": "1f66f1ab01584ecebc528e13f1c5cd3f",
       "version_major": 2,
       "version_minor": 0
      },
      "text/plain": [
       "  0%|          | 0/100 [00:00<?, ?it/s]"
      ]
     },
     "metadata": {},
     "output_type": "display_data"
    },
    {
     "name": "stdout",
     "output_type": "stream",
     "text": [
      "matches played:  100\n",
      "---------------------------------\n",
      "wins_1:  29\n",
      "percentage of wins_1:  28.999999999999996 %\n",
      "---------------------------------\n",
      "wins_2:  36\n",
      "percentage of wins_2:  36.0 %\n"
     ]
    }
   ],
   "source": [
    "# nim_match(optimal, best_strategy, debug = True)\n",
    "matches = 500\n",
    "wins_1 = 0\n",
    "wins_2 = 0\n",
    "\n",
    "for _ in tqdm(range(matches)):\n",
    "    wins_1 += nim_match_2(optimal, best_strategy_1, debug = False, fitness = True)\n",
    "    wins_2 += nim_match_2(optimal, best_strategy_2, debug = False, fitness = True)\n",
    "\n",
    "print(\"matches played: \", matches)\n",
    "print(\"---------------------------------\")\n",
    "print(\"wins_1: \", wins_1)\n",
    "print(\"percentage of wins_1: \", wins_1/matches * 100, \"%\")\n",
    "print(\"---------------------------------\")\n",
    "print(\"wins_2: \", wins_2)\n",
    "print(\"percentage of wins_2: \", wins_2/matches * 100, \"%\")"
   ]
  }
 ],
 "metadata": {
  "kernelspec": {
   "display_name": "Computational_Intelligence",
   "language": "python",
   "name": "python3"
  },
  "language_info": {
   "codemirror_mode": {
    "name": "ipython",
    "version": 3
   },
   "file_extension": ".py",
   "mimetype": "text/x-python",
   "name": "python",
   "nbconvert_exporter": "python",
   "pygments_lexer": "ipython3",
   "version": "3.10.13"
  }
 },
 "nbformat": 4,
 "nbformat_minor": 2
}
