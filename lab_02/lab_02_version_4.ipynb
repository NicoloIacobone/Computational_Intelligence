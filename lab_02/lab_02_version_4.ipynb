{
 "cells": [
  {
   "cell_type": "code",
   "execution_count": 2,
   "metadata": {},
   "outputs": [],
   "source": [
    "import logging\n",
    "from pprint import pformat\n",
    "from collections import namedtuple\n",
    "import random\n",
    "from copy import deepcopy\n",
    "from dataclasses import dataclass\n",
    "import math\n",
    "from tqdm.notebook import tqdm\n",
    "import numpy as np"
   ]
  },
  {
   "cell_type": "code",
   "execution_count": 3,
   "metadata": {},
   "outputs": [],
   "source": [
    "# A way to represent a state of the game\n",
    "Nimply = namedtuple(\"Nimply\", \"row, num_objects\")"
   ]
  },
  {
   "cell_type": "code",
   "execution_count": 4,
   "metadata": {},
   "outputs": [],
   "source": [
    "# A way to represent a game itself\n",
    "class Nim:\n",
    "    # The constructor: it builds the rows and defines the upper bound for the number of objects that can be removed\n",
    "    def __init__(self, num_rows: int, k: int = None) -> None:\n",
    "        self._rows = [i * 2 + 1 for i in range(num_rows)]\n",
    "        self._k = k\n",
    "\n",
    "    def __bool__(self):\n",
    "        return sum(self._rows) > 0\n",
    "\n",
    "    # ToString method\n",
    "    def __str__(self):\n",
    "        return \"<\" + \" \".join(str(_) for _ in self._rows) + \">\"\n",
    "\n",
    "    @property\n",
    "    # Returns the rows as a tuple\n",
    "    def rows(self) -> tuple:\n",
    "        return tuple(self._rows)\n",
    "\n",
    "    # Checks if the move is valid and applies it\n",
    "    def nimming(self, ply: Nimply) -> None:\n",
    "        row, num_objects = ply\n",
    "        assert self._rows[row] >= num_objects\n",
    "        assert self._k is None or num_objects <= self._k\n",
    "        self._rows[row] -= num_objects"
   ]
  },
  {
   "cell_type": "code",
   "execution_count": 5,
   "metadata": {},
   "outputs": [],
   "source": [
    "NIM_SIZE = 5\n",
    "MAX_OBJECTS = NIM_SIZE * 2 + 1"
   ]
  },
  {
   "cell_type": "code",
   "execution_count": 6,
   "metadata": {},
   "outputs": [],
   "source": [
    "# Generates a \"score\" for the state of the game based on the transformation of the rows into binary strings and the xor of the rows\n",
    "def nim_sum(state: Nim) -> int:\n",
    "    # Transforms the rows into binary strings of length 32\n",
    "    tmp = np.array([tuple(int(x) for x in f\"{c:032b}\") for c in state.rows])\n",
    "    # Xor of the rows\n",
    "    xor = tmp.sum(axis=0) % 2\n",
    "    # Return the value of the xor as an integer (0 means that the game is lost)\n",
    "    return int(\"\".join(str(_) for _ in xor), base=2)\n",
    "\n",
    "# Generates a dictionary with the nim_sum (score) associated to all possible moves\n",
    "def analize(raw: Nim) -> dict:\n",
    "    cooked = dict()\n",
    "    cooked[\"possible_moves\"] = dict()\n",
    "    # For each possible move\n",
    "    for ply in (Nimply(r, o) for r, c in enumerate(raw.rows) for o in range(1, c + 1)):\n",
    "        tmp = deepcopy(raw)\n",
    "        tmp.nimming(ply)\n",
    "        cooked[\"possible_moves\"][ply] = nim_sum(tmp)\n",
    "    return cooked\n",
    "\n",
    "# Selects a move from the possible moves\n",
    "def optimal(state: Nim) -> Nimply:\n",
    "    # Generates the possible moves and their score\n",
    "    analysis = analize(state)\n",
    "    logging.debug(f\"analysis:\\n{pformat(analysis)}\")\n",
    "    # Filters for moves that don't make the game lost (score = 0)\n",
    "    spicy_moves = [ply for ply, ns in analysis[\"possible_moves\"].items() if ns != 0]\n",
    "    if not spicy_moves:\n",
    "        spicy_moves = list(analysis[\"possible_moves\"].keys())\n",
    "    # Selects a random move from the possible moves\n",
    "    ply = random.choice(spicy_moves)\n",
    "    return ply"
   ]
  },
  {
   "cell_type": "code",
   "execution_count": 7,
   "metadata": {},
   "outputs": [],
   "source": [
    "# in version 3 removed randomness\n",
    "@dataclass\n",
    "class Strategy:\n",
    "    # randomness: float\n",
    "    rows_scores: list[float]\n",
    "    objects_to_take: float\n",
    "    aggressive: bool"
   ]
  },
  {
   "cell_type": "code",
   "execution_count": 42,
   "metadata": {},
   "outputs": [],
   "source": [
    "# Definition of parameters\n",
    "NUMBER_OF_FITNESS_GAMES = 50\n",
    "INITIAL_POPULATION = 10 * 2 # always divisible by 2\n",
    "NUMBER_OF_GENERATIONS = 30\n",
    "best_strategy = None"
   ]
  },
  {
   "cell_type": "code",
   "execution_count": 9,
   "metadata": {},
   "outputs": [],
   "source": [
    "# Generates the initial population of strategies\n",
    "def generate_initial_population(number_of_individuals: int) -> list[Strategy]:\n",
    "    population = []\n",
    "    for _ in range(number_of_individuals):\n",
    "        population.append(\n",
    "            Strategy([random.random() for _ in range(NIM_SIZE)], \n",
    "                     random.random(), \n",
    "                     random.choice([True, False])))\n",
    "    return population"
   ]
  },
  {
   "cell_type": "code",
   "execution_count": 10,
   "metadata": {},
   "outputs": [],
   "source": [
    "# generates a list with all the possible moves (of type Nimply) at the current state of the game\n",
    "def possible_moves(state: Nim) -> list:\n",
    "    possible_moves = []\n",
    "    for ply in (Nimply(r, o) for r, c in enumerate(state.rows) for o in range(1, c + 1)):\n",
    "        try:\n",
    "            tmp = deepcopy(state)\n",
    "            tmp.nimming(ply)\n",
    "            possible_moves.append(ply)\n",
    "            # print(\"assertion ok\")\n",
    "        except AssertionError:\n",
    "            print(\"assertion error\")\n",
    "    return possible_moves"
   ]
  },
  {
   "cell_type": "code",
   "execution_count": 104,
   "metadata": {},
   "outputs": [],
   "source": [
    "def describe_game(actual_state: Nim):\n",
    "    state = deepcopy(actual_state)\n",
    "    legal_moves = possible_moves(state)\n",
    "    number_of_possible_moves = len(legal_moves)\n",
    "    number_of_residual_rows = len(set([ply.row for ply in legal_moves]))\n",
    "    set_of_legal_rows = set([ply.row for ply in legal_moves])\n",
    "    \n",
    "    # number_of_even_rows is the number of rows with an even number of objects (pari)\n",
    "    number_of_even_rows = len([row for row in state.rows if row != 0 and row % 2 == 0])\n",
    "    # number_of_odd_rows is the number of rows with an odd number of objects (dispari)\n",
    "    number_of_odd_rows = number_of_residual_rows - number_of_even_rows\n",
    "\n",
    "    # print(f\"number of possible moves: {number_of_possible_moves}\")\n",
    "    # print(f\"number of residual rows: {number_of_residual_rows}\")\n",
    "    # print(f\"set of legal rows: {set_of_legal_rows}\")\n",
    "    # print(f\"number of even rows: {number_of_even_rows}\")\n",
    "    # print(f\"number of odd rows: {number_of_odd_rows}\")\n",
    "\n",
    "    return number_of_residual_rows, number_of_even_rows, number_of_odd_rows"
   ]
  },
  {
   "cell_type": "code",
   "execution_count": 102,
   "metadata": {},
   "outputs": [],
   "source": [
    "def describe_move(state: Nim, move: Nimply):\n",
    "    row_chosen = move.row\n",
    "    actual_state = deepcopy(state)\n",
    "    actual_residual_rows, actual_state_even_rows, actual_state_odd_rows = describe_game(actual_state)\n",
    "    future_state = deepcopy(state)\n",
    "    future_state.nimming(move)\n",
    "    future_residual_rows, future_state_even_rows, future_state_odd_rows = describe_game(future_state)\n",
    "\n",
    "    # neutral_move = 0\n",
    "    # remove_row_move = 1 (removes a row)\n",
    "    # leave_one_move = 2 (leaves one object in a row)\n",
    "    move_descriptor = None\n",
    "    if actual_residual_rows > future_residual_rows:\n",
    "        move_descriptor = 1\n",
    "    elif actual_state.rows[row_chosen] != 1 and future_state.rows[row_chosen] == 1:\n",
    "        move_descriptor = 2\n",
    "    else:\n",
    "        move_descriptor = 0\n",
    "\n",
    "    return move_descriptor"
   ]
  },
  {
   "cell_type": "code",
   "execution_count": 105,
   "metadata": {},
   "outputs": [
    {
     "data": {
      "text/plain": [
       "2"
      ]
     },
     "execution_count": 105,
     "metadata": {},
     "output_type": "execute_result"
    }
   ],
   "source": [
    "game = Nim(5)\n",
    "describe_game(game)\n",
    "describe_move(game, Nimply(1, 2))"
   ]
  },
  {
   "cell_type": "code",
   "execution_count": 11,
   "metadata": {},
   "outputs": [],
   "source": [
    "# this should let strategies play against each other and assign a score to each of them based on the number of wins\n",
    "# version 3: give a penalty for who loses\n",
    "def fitness_function_3(strategy: Strategy, num_games = NUMBER_OF_FITNESS_GAMES) -> int:\n",
    "    score = 0\n",
    "    for _ in range(num_games):\n",
    "        # everytime the strategy wins it gets a point\n",
    "        if nim_match_2(optimal, strategy, fitness = True) == 1:\n",
    "            score += 1\n",
    "        else:\n",
    "            score -= 1\n",
    "    return score"
   ]
  },
  {
   "cell_type": "code",
   "execution_count": 12,
   "metadata": {},
   "outputs": [],
   "source": [
    "def crossover(mother: Strategy, father: Strategy):\n",
    "    child1 = Strategy(rows_scores = father.rows_scores[0:2] + mother.rows_scores[2:],\n",
    "                      objects_to_take = father.objects_to_take,\n",
    "                      aggressive = random.choice([mother.aggressive, father.aggressive]))\n",
    "    child2 = Strategy(rows_scores = mother.rows_scores[0:2] + father.rows_scores[2:],\n",
    "                        objects_to_take = mother.objects_to_take,\n",
    "                        aggressive = random.choice([mother.aggressive, father.aggressive]))\n",
    "    return child1, child2"
   ]
  },
  {
   "cell_type": "code",
   "execution_count": 13,
   "metadata": {},
   "outputs": [],
   "source": [
    "def calculate_scores(population: list[Strategy]) -> list:\n",
    "    scores = []\n",
    "    for strategy in population:\n",
    "        score = fitness_function_3(strategy)\n",
    "        scores.append((strategy, score))\n",
    "    \n",
    "    # sort scores by fitnes descending\n",
    "    scores.sort(key=lambda x: x[1], reverse=True)\n",
    "    return scores"
   ]
  },
  {
   "cell_type": "code",
   "execution_count": 14,
   "metadata": {},
   "outputs": [],
   "source": [
    "def mutate(strategy: Strategy) -> Strategy:\n",
    "    mutated_strategy = deepcopy(strategy)\n",
    "    index_of_mutation = random.choice([i for i in range(len(mutated_strategy.rows_scores))])\n",
    "    actual_value = mutated_strategy.rows_scores[index_of_mutation]\n",
    "    if random.random() < 0.5:\n",
    "        mutated_strategy.rows_scores[index_of_mutation] -= actual_value * 0.1\n",
    "    else:\n",
    "        mutated_strategy.rows_scores[index_of_mutation] += actual_value * 0.1\n",
    "    return mutated_strategy\n",
    "    "
   ]
  },
  {
   "cell_type": "code",
   "execution_count": 15,
   "metadata": {},
   "outputs": [],
   "source": [
    "# this returns the best strategy in a population after the application of the genetic algorithm\n",
    "# version 3.0: cleaned code, more function calls, removed randomness\n",
    "def evolve_3() -> Strategy:\n",
    "    # generate random strategies (initial population)\n",
    "    population = generate_initial_population(INITIAL_POPULATION)\n",
    "    # print(\"initial population:\", population)\n",
    "\n",
    "    # calculate the fitness of each strategy\n",
    "    scores = []\n",
    "    scores = calculate_scores(population)\n",
    "\n",
    "    # start the genetic algorithm\n",
    "    for _ in tqdm(range(NUMBER_OF_GENERATIONS)):\n",
    "        new_generation = []\n",
    "\n",
    "        # select the best strategies\n",
    "        # we take the first half of the population (the best half)\n",
    "        best_half = scores[:len(scores)//2]\n",
    "\n",
    "        while len(best_half) > 0:\n",
    "            # crossover\n",
    "            # we pick randomly the mother and the father from the best half\n",
    "            mother = random.choice(best_half)\n",
    "            best_half.pop(best_half.index(mother))\n",
    "            father = random.choice(best_half)\n",
    "            best_half.pop(best_half.index(father))\n",
    "\n",
    "            # generate two children\n",
    "            child1, child2 = crossover(mother[0], father[0])\n",
    "\n",
    "            # mutation\n",
    "            # parameters of the mutation to try:\n",
    "            # number of parameters: 1, 2, 3, 4\n",
    "            # type of mutation: random, gaussian\n",
    "            # mutation probability: 0.1, 0.2, 0.3, 0.4, 0.5\n",
    "            # mutation amplitude: 0.1, 0.2, 0.3, 0.4, 0.5\n",
    "\n",
    "            child1 = mutate(child1)\n",
    "            child2 = mutate(child2)\n",
    "\n",
    "            new_generation.append(child1)\n",
    "            new_generation.append(child2)\n",
    "            new_generation.append(mother[0])\n",
    "            new_generation.append(father[0])\n",
    "\n",
    "        # calculate the fitness of each strategy\n",
    "        scores = []\n",
    "        scores = calculate_scores(new_generation)\n",
    "\n",
    "    # return the best strategy\n",
    "    # print(\"scores after training: \", scores)\n",
    "    # print(\"best strategy after training: \", scores[0][0])\n",
    "    return scores[0][0]"
   ]
  },
  {
   "cell_type": "code",
   "execution_count": 16,
   "metadata": {},
   "outputs": [],
   "source": [
    "def choose_based_on_scores(rows_scores: list[float]) -> int:\n",
    "    # calculates a weighted probability for each row based on the scores\n",
    "    total = sum(rows_scores)\n",
    "    probabilities = [score / total for score in rows_scores]\n",
    "    indices = list(range(len(rows_scores)))\n",
    "    chosen_index = random.choices(indices, probabilities)[0]\n",
    "    return chosen_index"
   ]
  },
  {
   "cell_type": "code",
   "execution_count": 37,
   "metadata": {},
   "outputs": [],
   "source": [
    "# I think the bottleneck is here, the evolution strategy does not works as expected\n",
    "def evolution_strategy_3(state: Nim, strategy: Strategy) -> Nimply:\n",
    "    # generate the possible moves\n",
    "    allowed_moves = possible_moves(state)\n",
    "    # print(allowed_moves)\n",
    "    \n",
    "    # calculate the nim_sum for each move, choose the best one\n",
    "    selected_move = random.choice(allowed_moves)\n",
    "    score = 0\n",
    "    for move in allowed_moves:\n",
    "        tmp = deepcopy(state)\n",
    "        tmp.nimming(move)\n",
    "        if nim_sum(tmp) > score:\n",
    "            score = nim_sum(tmp)\n",
    "            selected_move = move\n",
    "\n",
    "    # print(\"selected_move: \", selected_move)\n",
    "    # print(\"selected move : \", selected_move)\n",
    "    # toreturn = Nimply(selected_move.row, selected_move.num_objects)\n",
    "    return selected_move"
   ]
  },
  {
   "cell_type": "code",
   "execution_count": 20,
   "metadata": {},
   "outputs": [],
   "source": [
    "def nim_match_2(strategy1, strategy2, nim_size = NIM_SIZE, player = 0, fitness = False, debug = False, winner = False):\n",
    "    agents = (strategy1, strategy2)\n",
    "    if debug:\n",
    "        print(\"agent1: \", agents[0])\n",
    "        print(\"agent2: \", agents[1])\n",
    "    nim = Nim(nim_size)\n",
    "    logging.info(f\"init : {nim}\")\n",
    "    if debug:\n",
    "        print(f\"init : {nim}\")\n",
    "    while nim:\n",
    "        if player == 0:\n",
    "            selected_move = agents[player](nim)\n",
    "        else:\n",
    "            selected_move = evolution_strategy_3(nim, agents[player])\n",
    "        logging.info(f\"ply: player {player} plays {selected_move}\")\n",
    "        if debug:\n",
    "            print(f\"ply: player {player} plays {selected_move}\")\n",
    "        nim.nimming(selected_move)\n",
    "        logging.info(f\"status: {nim}\")\n",
    "        if debug:\n",
    "            print(f\"status: {nim}\")\n",
    "        player = 1 - player\n",
    "    logging.info(f\"status: Player {player} won!\")\n",
    "    if debug or winner:\n",
    "        print(f\"status: Player {player} won!\")\n",
    "    if fitness:\n",
    "        return player"
   ]
  },
  {
   "cell_type": "code",
   "execution_count": 43,
   "metadata": {},
   "outputs": [
    {
     "data": {
      "application/vnd.jupyter.widget-view+json": {
       "model_id": "d93a48683ea04e1f8b38840213ed2173",
       "version_major": 2,
       "version_minor": 0
      },
      "text/plain": [
       "  0%|          | 0/30 [00:00<?, ?it/s]"
      ]
     },
     "metadata": {},
     "output_type": "display_data"
    },
    {
     "name": "stdout",
     "output_type": "stream",
     "text": [
      "best_strategy_2: Strategy(rows_scores=[0.6170313268390217, 0.4308766989466982, 0.26649903789765034, 0.08152594142113684, 0.617636341856293], objects_to_take=0.9319648833982943, aggressive=False)\n"
     ]
    }
   ],
   "source": [
    "best_strategy_3 = evolve_3()\n",
    "\n",
    "print(\"best_strategy_2:\", best_strategy_3)"
   ]
  },
  {
   "cell_type": "code",
   "execution_count": 44,
   "metadata": {},
   "outputs": [
    {
     "data": {
      "application/vnd.jupyter.widget-view+json": {
       "model_id": "93148352063f4242ab5907bb23cd7f0a",
       "version_major": 2,
       "version_minor": 0
      },
      "text/plain": [
       "  0%|          | 0/1000 [00:00<?, ?it/s]"
      ]
     },
     "metadata": {},
     "output_type": "display_data"
    },
    {
     "name": "stdout",
     "output_type": "stream",
     "text": [
      "matches played:  1000\n",
      "---------------------------------\n",
      "wins:  293\n",
      "percentage of wins_1:  29.299999999999997 %\n",
      "---------------------------------\n"
     ]
    }
   ],
   "source": [
    "matches = 1000\n",
    "wins = 0\n",
    "\n",
    "for _ in tqdm(range(matches)):\n",
    "    wins += nim_match_2(optimal, best_strategy_3, debug = False, fitness = True)\n",
    "\n",
    "print(\"matches played: \", matches)\n",
    "print(\"---------------------------------\")\n",
    "print(\"wins: \", wins)\n",
    "print(\"percentage of wins_1: \", wins/matches * 100, \"%\")\n",
    "print(\"---------------------------------\")"
   ]
  }
 ],
 "metadata": {
  "kernelspec": {
   "display_name": "Computational_Intelligence",
   "language": "python",
   "name": "python3"
  },
  "language_info": {
   "codemirror_mode": {
    "name": "ipython",
    "version": 3
   },
   "file_extension": ".py",
   "mimetype": "text/x-python",
   "name": "python",
   "nbconvert_exporter": "python",
   "pygments_lexer": "ipython3",
   "version": "3.10.13"
  }
 },
 "nbformat": 4,
 "nbformat_minor": 2
}
