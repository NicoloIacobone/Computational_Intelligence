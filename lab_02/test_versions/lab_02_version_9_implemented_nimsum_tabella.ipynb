{
 "cells": [
  {
   "cell_type": "code",
   "execution_count": 1,
   "metadata": {},
   "outputs": [],
   "source": [
    "import logging\n",
    "from pprint import pformat\n",
    "from collections import namedtuple\n",
    "import random\n",
    "from copy import deepcopy\n",
    "from dataclasses import dataclass\n",
    "from tqdm.notebook import tqdm\n",
    "import numpy as np\n",
    "import sys"
   ]
  },
  {
   "cell_type": "code",
   "execution_count": 2,
   "metadata": {},
   "outputs": [],
   "source": [
    "# A way to represent a state of the game\n",
    "Nimply = namedtuple(\"Nimply\", \"row, num_objects\")"
   ]
  },
  {
   "cell_type": "code",
   "execution_count": 3,
   "metadata": {},
   "outputs": [],
   "source": [
    "class Nim:\n",
    "    def __init__(self, num_rows: int, k: int = sys.maxsize) -> None:\n",
    "        self._rows = [i * 2 + 1 for i in range(num_rows)]\n",
    "        self._k = k\n",
    "        self._finalstage = False\n",
    "\n",
    "    def __bool__(self):\n",
    "        return sum(self._rows) > 0\n",
    "\n",
    "    def __str__(self):\n",
    "        return \"<\" + \" \".join(str(_) for _ in self._rows) + \">\"\n",
    "\n",
    "    @property\n",
    "    def rows(self) -> tuple:\n",
    "        return tuple(self._rows)\n",
    "\n",
    "    def final_stage(self) -> bool:\n",
    "        return self._finalstage\n",
    "\n",
    "    def nimming(self, ply: Nimply) -> None:\n",
    "        row, num_objects = ply\n",
    "        assert self._rows[row] >= num_objects\n",
    "        assert num_objects <= self._k\n",
    "        self._rows[row] -= num_objects\n",
    "        self.__check_final_stage()\n",
    "\n",
    "    def __check_final_stage(self) -> None:\n",
    "        # Check if all the remaining rows are at 1 excepted one\n",
    "        row_not_one = 0\n",
    "\n",
    "        for row in self._rows:\n",
    "            if row > 1:\n",
    "                row_not_one += 1\n",
    "\n",
    "        if row_not_one == 1:\n",
    "            self._finalstage = True"
   ]
  },
  {
   "cell_type": "code",
   "execution_count": 4,
   "metadata": {},
   "outputs": [],
   "source": [
    "def pure_random(state: Nim) -> Nimply:\n",
    "    \"\"\"A completely random move\"\"\"\n",
    "    row = random.choice([r for r, c in enumerate(state.rows) if c > 0])\n",
    "    num_objects = random.randint(1, min(state._k, state._rows[row]))\n",
    "    return Nimply(row, num_objects)\n",
    "\n",
    "def nim_sum(state: Nim) -> int:\n",
    "    tmp = np.array([tuple(int(x) for x in f\"{c:032b}\") for c in state.rows])\n",
    "    xor = tmp.sum(axis=0) % 2\n",
    "    return int(\"\".join(str(_) for _ in xor), base=2)\n",
    "\n",
    "def advanced_nim_sum(state: Nim) -> int:\n",
    "    mex = [x % (state._k + 1) for x in state.rows]\n",
    "    #print(mex)\n",
    "    tmp = np.array([tuple(int(x) for x in f\"{c:032b}\") for c in mex])\n",
    "    xor = tmp.sum(axis=0) % 2\n",
    "    return int(\"\".join(str(_) for _ in xor), base=2)\n",
    "\n",
    "def analize(raw: Nim) -> dict:\n",
    "    cooked = dict()\n",
    "    cooked[\"possible_moves\"] = dict()\n",
    "    for ply in (Nimply(r, o) for r, c in enumerate(raw.rows) for o in range(1, c + 1)):\n",
    "        if raw._k < ply.num_objects:\n",
    "            continue\n",
    "        tmp = deepcopy(raw)\n",
    "        tmp.nimming(ply)\n",
    "        # cooked[\"possible_moves\"][ply] = nim_sum(tmp)\n",
    "        cooked[\"possible_moves\"][ply] = advanced_nim_sum(tmp)\n",
    "        \n",
    "    return cooked\n",
    "\n",
    "def avoid_loosing_final_stage(raw: Nim, analysis: dict) -> dict:\n",
    "    pruned = deepcopy(analysis)\n",
    "    for ply in analysis[\"possible_moves\"]:\n",
    "        tmp = deepcopy(raw)\n",
    "        tmp.nimming(ply)\n",
    "        if tmp._finalstage and advanced_nim_sum(tmp) != 1:\n",
    "            pruned[\"possible_moves\"].pop(ply)\n",
    "\n",
    "    return pruned\n",
    "\n",
    "def force_winning_final_stage(raw: Nim, analysis: dict) -> Nimply:\n",
    "    for ply in analysis[\"possible_moves\"]:\n",
    "        tmp = deepcopy(raw)\n",
    "        tmp.nimming(ply)\n",
    "        if tmp._finalstage and advanced_nim_sum(tmp) == 1:\n",
    "            return ply\n",
    "\n",
    "    return None\n",
    "\n",
    "def optimal(state: Nim) -> Nimply:\n",
    "    analysis = analize(state)\n",
    "    if state._k != sys.maxsize:\n",
    "        analysis = avoid_loosing_final_stage(state, analysis)\n",
    "    if state._finalstage:\n",
    "        spicy_moves = [ply for ply, ns in analysis[\"possible_moves\"].items() if ns == 1]\n",
    "    else:\n",
    "        spicy_moves = [ply for ply, ns in analysis[\"possible_moves\"].items() if ns == 0]\n",
    "    \n",
    "    if not spicy_moves:\n",
    "        ply = pure_random(state)\n",
    "    else:\n",
    "        ply = random.choice(spicy_moves)\n",
    "        \n",
    "    return ply"
   ]
  },
  {
   "cell_type": "code",
   "execution_count": 5,
   "metadata": {},
   "outputs": [],
   "source": [
    "class CustomHashTable:\n",
    "    def __init__(self):\n",
    "        self.hash_table = {}\n",
    "\n",
    "    def hash_function(self, key):\n",
    "        hash_value = ord(key[0]) * 10000 + ord(key[1]) * 1000 + ord(key[2]) * 100 + ord(key[3]) * 10 + ord(key[4])\n",
    "        return hash_value\n",
    "\n",
    "    def insert(self, key, value):\n",
    "        # index = self.hash_function(key)\n",
    "        index = key\n",
    "        if index not in self.hash_table:\n",
    "            scores = []\n",
    "            for _ in range(10):\n",
    "                scores.append(random.randint(1, 10))\n",
    "            self.hash_table[index] = scores\n",
    "        self.hash_table[index] = value\n",
    "\n",
    "    # if index not yet discovered, create it and initialize it with a random value between 1 and 10\n",
    "    def get(self, key):\n",
    "        # index = self.hash_function(key)\n",
    "        index = key\n",
    "        if index not in self.hash_table:\n",
    "            scores = []\n",
    "            for _ in range(10):\n",
    "                scores.append(random.randint(1, 10))\n",
    "            self.hash_table[index] = scores\n",
    "        return self.hash_table[index]\n",
    "    \n",
    "    def get_keys(self):\n",
    "        # here it should reconstruct the keys from numbers to strings\n",
    "        return list(self.hash_table.keys())"
   ]
  },
  {
   "cell_type": "code",
   "execution_count": 6,
   "metadata": {},
   "outputs": [],
   "source": [
    "@dataclass\n",
    "class Strategy:\n",
    "    def __init__(self):\n",
    "        self.hash_table = CustomHashTable()"
   ]
  },
  {
   "cell_type": "code",
   "execution_count": 7,
   "metadata": {},
   "outputs": [],
   "source": [
    "# Generates the initial population of strategies\n",
    "def generate_initial_population(number_of_individuals: int) -> list[Strategy]:\n",
    "    population = []\n",
    "    for _ in range(number_of_individuals):\n",
    "        population.append(\n",
    "            Strategy())\n",
    "    return population"
   ]
  },
  {
   "cell_type": "code",
   "execution_count": 8,
   "metadata": {},
   "outputs": [],
   "source": [
    "# generates a list with all the possible moves (of type Nimply) at the current state of the game\n",
    "def possible_moves(state: Nim) -> list:\n",
    "    possible_moves = []\n",
    "    for ply in (Nimply(r, o) for r, c in enumerate(state.rows) for o in range(1, c + 1)):\n",
    "        try:\n",
    "            tmp = deepcopy(state)\n",
    "            tmp.nimming(ply)\n",
    "            possible_moves.append(ply)\n",
    "            # print(\"assertion ok\")\n",
    "        except AssertionError:\n",
    "            print(\"assertion error\")\n",
    "    return possible_moves"
   ]
  },
  {
   "cell_type": "markdown",
   "metadata": {},
   "source": [
    "#### How I describe the state:\n",
    "There are 4 possible types of actions: a, b, c, d.\n",
    "They are described with the number of elements left after applying the move:\n",
    "* a: 0\n",
    "* b: 1\n",
    "* c: >1 && even\n",
    "* d: >1 && odd\n",
    "\n",
    "There are 4 possible types of state: A, B, C, D.\n",
    "They are described with the number of possible actions applicable:\n",
    "* A: 1 (a)\n",
    "* B: 2 (a, b)\n",
    "* C: 3 (a, b, c)\n",
    "* D: 4 (a, b, c, d)\n",
    "\n",
    "There are 2 possible types of number of rows: even, odd.\n",
    "* even\n",
    "* odd\n",
    "\n",
    "The flow of game is D --> C --> B --> A\n",
    "\n",
    "It is not possible to go back so that this can be used to understand the distance from the end of a game"
   ]
  },
  {
   "cell_type": "code",
   "execution_count": 9,
   "metadata": {},
   "outputs": [],
   "source": [
    "def describe_game(actual_state: Nim):\n",
    "    state = deepcopy(actual_state)\n",
    "    max_value = max(state.rows)\n",
    "\n",
    "    if max_value > 3:\n",
    "        return 4\n",
    "    else:\n",
    "        return max_value"
   ]
  },
  {
   "cell_type": "code",
   "execution_count": 10,
   "metadata": {},
   "outputs": [],
   "source": [
    "def describe_move(actual_state: Nim, move: Nimply):\n",
    "    element_before_move = actual_state.rows[move.row]\n",
    "    state = deepcopy(actual_state)\n",
    "    state.nimming(move)\n",
    "    new_elements = state.rows[move.row]\n",
    "\n",
    "    move_description = \"\"\n",
    "    if element_before_move > 3:\n",
    "        move_description += \"D\"\n",
    "    elif element_before_move == 3:\n",
    "        move_description += \"C\"\n",
    "    elif element_before_move == 2:\n",
    "        move_description += \"B\"\n",
    "    else:\n",
    "        move_description += \"A\"\n",
    "\n",
    "    if new_elements > 1:\n",
    "        if new_elements % 2 == 0:\n",
    "            move_description += \"C\"\n",
    "        else:\n",
    "            move_description += \"D\"\n",
    "    else:\n",
    "        move_description += chr(64 + 1 + new_elements)\n",
    "\n",
    "    return move_description"
   ]
  },
  {
   "cell_type": "code",
   "execution_count": 11,
   "metadata": {},
   "outputs": [],
   "source": [
    "def generate_hash_key(actual_state: Nim):\n",
    "    state = deepcopy(actual_state)\n",
    "    key = \"\"\n",
    "\n",
    "    # first character = [A, B, C, D] = category of the actual state\n",
    "    state_category = max(state.rows)\n",
    "    if state_category > 3:\n",
    "        key += \"D\"\n",
    "    else:\n",
    "        key += chr(state_category + 64)\n",
    "\n",
    "    # second character = [U, P, D, Z] = uno, pari, dispari or zero for rows of category A\n",
    "    # third character = [U, P, D, Z] = uno, pari, dispari or zero for rows of category B\n",
    "    # fourth character = [U, P, D, Z] = uno, pari, dispari or zero for rows of category C\n",
    "    # fifth character = [U, P, D] = uno, pari, dispari for rows of category D\n",
    "    a_category_rows = 0\n",
    "    b_category_rows = 0\n",
    "    c_category_rows = 0\n",
    "    d_category_rows = 0\n",
    "    for row in state.rows:\n",
    "        if row > 3:\n",
    "            d_category_rows += 1\n",
    "        elif row == 3:\n",
    "            c_category_rows += 1\n",
    "        elif row == 2:\n",
    "            b_category_rows += 1\n",
    "        else:\n",
    "            a_category_rows += 1\n",
    "\n",
    "    if a_category_rows > 0:\n",
    "        if a_category_rows == 1:\n",
    "            key += \"U\"\n",
    "        elif a_category_rows % 2 == 0:\n",
    "            key += \"P\"\n",
    "        else:\n",
    "            key += \"D\"\n",
    "    else:\n",
    "        key += \"Z\"\n",
    "\n",
    "    if b_category_rows > 0:\n",
    "        if b_category_rows == 1:\n",
    "            key += \"U\"\n",
    "        elif b_category_rows % 2 == 0:\n",
    "            key += \"P\"\n",
    "        else:\n",
    "            key += \"D\"\n",
    "    else:\n",
    "        key += \"Z\"\n",
    "\n",
    "    if c_category_rows > 0:\n",
    "        if c_category_rows == 1:\n",
    "            key += \"U\"\n",
    "        elif c_category_rows % 2 == 0:\n",
    "            key += \"P\"\n",
    "        else:\n",
    "            key += \"D\"\n",
    "    else:\n",
    "        key += \"Z\"\n",
    "\n",
    "    if d_category_rows > 0:\n",
    "        if d_category_rows == 1:\n",
    "            key += \"U\"\n",
    "        elif d_category_rows % 2 == 0:\n",
    "            key += \"P\"\n",
    "        else:\n",
    "            key += \"D\"\n",
    "    else:\n",
    "        key += \"Z\"\n",
    "\n",
    "    return key  \n",
    "    "
   ]
  },
  {
   "cell_type": "markdown",
   "metadata": {},
   "source": [
    "#### How to choose a move\n",
    "The idea is based on attaching a coefficient that varies during training to the type of row and type of move that are multiplied by type of state and even or odd rows number\n",
    "\n",
    "type_of_row_chosen = A, B, C, D  (row chosen)\n",
    "type_of_move_chosen = a, b, c, d (number of elements from row chosen)\n",
    "\n",
    "type_of_state = A, B, C, D\n",
    "even_or_odd_rows = even, odd\n",
    "\n",
    "Strategy parameters (coefficients):\n",
    "    state_score"
   ]
  },
  {
   "cell_type": "markdown",
   "metadata": {},
   "source": [
    "La classe CustomHashTable è utilizzata per gestire i geni delle strategie:\n",
    "ogni gene è una hash table che, per ogni entry, possiede una lista in cui ci sono le mosse possibili in un determinato stato.\n",
    "\n",
    "L'idea consiste nel codificare nella hash table tutte le possibili situazioni di gioco che, dopo un'analisi possono essere categorizzate per ridurre drasticamente il numero di combinazioni che, altrimenti, crescerebbe in maniera incontrollabile.\n",
    "L'idea alla base è che, dato uno stato, esso può essere univocamente descritto con una stringa di 5 lettere:\n",
    "1. A, B, C, D: rappresenta il tipo di stato\n",
    "2. P,D,Z: rappresenta se le righe di tipo A sono pari, dispari o non presenti (Zero)\n",
    "3. P,D,Z: rappresenta se le righe di tipo B sono pari, dispari o non presenti (Zero)\n",
    "4. P,D,Z: rappresenta se le righe di tipo C sono pari, dispari o non presenti (Zero)\n",
    "5. P,D: rappresenta se le righe di tipo D sono pari o dispari (non possono essere zero, altrimenti lo stato sarebbe C)\n",
    "\n",
    "Una volta codificato lo stato, la chiave sarà un array di 5 caratteri che punterà ad una lista che al più potrà avere 10 valori: ogni valore rappresenta il punteggio dato ad una certa mossa.\n",
    "Il valore massimo è 10 in quanto è possibile effettuare un'operazione di categorizzazione anche sulle mosse, le quali vengono descritte dall'effetto che generano:\n",
    "1. tipo a: rimangono 0 elementi nella riga\n",
    "2. tipo b: rimane 1 elemento nella riga\n",
    "3. tipo c: rimane più di un elemento nella riga ma in numero pari\n",
    "4. tipo d: rimane più di un elemento nella riga ma in numero dispari\n",
    "\n",
    "esempio: stato = [1, 3, 5, 7, 9] = DDZZP = stato tipo D, Dispari righe di tipo A, Zero righe di tipo B, Zero righe di tipo C, Pari righe di tipo D.\n",
    "\n",
    "Questa codifica è efficiente in quanto permette di descrivere un numero teoricamente illimitato di stati diversi nello stesso modo:\n",
    "[0, 0, 5, 7, 1, 3, 3] = DDZZP\n",
    "\n",
    "Come si può notare, due stati totalmente diversi sono codificati dallo stesso hash.\n",
    "\n",
    "Allo stesso modo, le mosse possibili in questi due stati sono della stessa tipologia:\n",
    "[(A, a), (D, a), (D, b), (D, c), (D, d)]\n",
    "In ordine: data una riga A, posso lasciare zero elementi nella riga, data una riga D posso lasciare 0, 1, pari o dispari elementi.\n",
    "Ognuna delle codifiche delle mosse viene tradotta da una funzione che seleziona una qualunque delle mosse appartenenti a quella categoria che avranno tutte lo stesso effetto nello stato corrente del gioco.\n",
    "\n",
    "Il numero di chiavi diverse possibili è di 4 * 3 * 3 * 3 * 2 = 216 che viene portato a 80 in quanto molti dei 216 stati sono illegali.\n",
    "* Chiavi che codificano gli stati di tipo A: APZZZ e ADZZZ --> TOT: 2\n",
    "* Chiavi che codificano gli stati di tipo B: BZPZZ, BPPZZ, BDPZZ, BZDZZ, BPDZZ, BDDZZ --> TOT: 6\n",
    "* Chiavi che codificano gli stati di tipo B: CZZPZ, ..., CDDDZ --> TOT: 18\n",
    "* Chiavi che codificano gli stati di tipo B: DZZZP, ..., DDDDD --> TOT: 54\n",
    "Per un totale di 2 + 6 + 18 + 54 = 80\n",
    "\n",
    "Ognuna di queste codifiche ha al più 10 elementi nella lista a cui punta per un limite massimo di 800 valori che, considerando quelli illegali, è sicuramente un dato gestibile."
   ]
  },
  {
   "cell_type": "code",
   "execution_count": 12,
   "metadata": {},
   "outputs": [],
   "source": [
    "NUMBER_OF_FITNESS_GAMES = 200"
   ]
  },
  {
   "cell_type": "code",
   "execution_count": 13,
   "metadata": {},
   "outputs": [],
   "source": [
    "# this should let strategies play against each other and assign a score to each of them based on the number of wins\n",
    "# OPTIMAL PLAYS FIST\n",
    "def fitness_function(strategy: Strategy, k, num_games = NUMBER_OF_FITNESS_GAMES) -> int:\n",
    "    score = 0\n",
    "    for _ in range(num_games):\n",
    "        # everytime the strategy wins it gets a point\n",
    "        if nim_match(optimal, strategy, k, player = 0, fitness = True, ) == 1:\n",
    "            score += 1\n",
    "    return score"
   ]
  },
  {
   "cell_type": "code",
   "execution_count": 14,
   "metadata": {},
   "outputs": [],
   "source": [
    "def crossover(mother: Strategy, father: Strategy):\n",
    "    child1 = Strategy()\n",
    "    child2 = Strategy()\n",
    "\n",
    "    set_keys_mother = set(mother.hash_table.get_keys())\n",
    "    set_keys_father = set(father.hash_table.get_keys())\n",
    "    set_keys_childrend = set_keys_mother.union(set_keys_father)\n",
    "\n",
    "    for key in set_keys_childrend:\n",
    "        if key in set_keys_mother and key in set_keys_father:\n",
    "            child_1_scores = []\n",
    "            child_2_scores = []\n",
    "\n",
    "            mother_scores = mother.hash_table.get(key)\n",
    "            father_scores = father.hash_table.get(key)\n",
    "\n",
    "            i_love_mum = 1\n",
    "            for i in range(10):\n",
    "                if mother_scores[i] == 0 or father_scores[i] == 0:\n",
    "                    child_1_scores.append(0)\n",
    "                    child_2_scores.append(0)\n",
    "                else:\n",
    "                    if i_love_mum == 1:\n",
    "                        child_1_scores.append(mother_scores[i])\n",
    "                        child_2_scores.append(father_scores[i])\n",
    "                        i_love_mum = 0\n",
    "                    else:\n",
    "                        child_1_scores.append(father_scores[i])\n",
    "                        child_2_scores.append(mother_scores[i])\n",
    "                        i_love_mum = 1\n",
    "            child1.hash_table.insert(key, child_1_scores)\n",
    "            child2.hash_table.insert(key, child_2_scores)\n",
    "        elif key in set_keys_mother:\n",
    "            child1.hash_table.insert(key, mother.hash_table.get(key))\n",
    "            child2.hash_table.insert(key, mother.hash_table.get(key))\n",
    "        else:\n",
    "            child1.hash_table.insert(key, father.hash_table.get(key))\n",
    "            child2.hash_table.insert(key, father.hash_table.get(key))\n",
    "\n",
    "    return child1, child2"
   ]
  },
  {
   "cell_type": "code",
   "execution_count": 15,
   "metadata": {},
   "outputs": [],
   "source": [
    "def calculate_scores(population: list[Strategy], k) -> list:\n",
    "    scores = []\n",
    "    for strategy in tqdm(population):\n",
    "        score = fitness_function(strategy, k)\n",
    "        scores.append((strategy, score))\n",
    "    \n",
    "    # sort scores by fitnes descending\n",
    "    scores.sort(key=lambda x: x[1], reverse=True)\n",
    "    return scores"
   ]
  },
  {
   "cell_type": "code",
   "execution_count": 16,
   "metadata": {},
   "outputs": [],
   "source": [
    "# gaussian mutation\n",
    "standard_deviation = 0.6\n",
    "MUTATION_RATE = 0.3"
   ]
  },
  {
   "cell_type": "code",
   "execution_count": 17,
   "metadata": {},
   "outputs": [],
   "source": [
    "def mutate(strategy: Strategy) -> Strategy:\n",
    "    mutated_strategy = Strategy()\n",
    "    set_keys = set(strategy.hash_table.get_keys())\n",
    "    for key in set_keys:\n",
    "        scores = strategy.hash_table.get(key)\n",
    "        for i in range(10):\n",
    "            if scores[i] != 0:\n",
    "                if random.random() < MUTATION_RATE:\n",
    "                    mutation = random.gauss(0, standard_deviation)\n",
    "                    # print(\"mutation: \" + str(mutation))\n",
    "                    mutated_score = scores[i] + mutation\n",
    "                    mutated_score = max(0.01, min(10, mutated_score))\n",
    "                    scores[i] = mutated_score\n",
    "        mutated_strategy.hash_table.insert(key, scores)\n",
    "    return mutated_strategy\n",
    "    "
   ]
  },
  {
   "cell_type": "code",
   "execution_count": 18,
   "metadata": {},
   "outputs": [],
   "source": [
    "INITIAL_POPULATION = 64 # always divisible by 4\n",
    "NUMBER_OF_GENERATIONS = 50"
   ]
  },
  {
   "cell_type": "code",
   "execution_count": 19,
   "metadata": {},
   "outputs": [],
   "source": [
    "# first try (version 7): only evolve for starting second\n",
    "def evolve() -> Strategy:\n",
    "    scores_player_0 = [] # scores of the strategies when optimal plays first\n",
    "    not_growing_counter = 0\n",
    "    for k in tqdm(range(1, 21)):\n",
    "        print(\"-------------------- K = \", k, \"-------------------- \")\n",
    "        # generate random strategies (initial population)\n",
    "        population = generate_initial_population(INITIAL_POPULATION)\n",
    "\n",
    "        # calculate the fitness of each strategy\n",
    "        scores = []\n",
    "        scores = calculate_scores(population, k)\n",
    "\n",
    "        best_score = scores[0][1]\n",
    "        print(\"k: \", k, \"best score: \", scores[0][1])\n",
    "\n",
    "        # start the genetic algorithm\n",
    "        for _ in tqdm(range(NUMBER_OF_GENERATIONS)):\n",
    "            new_generation = []\n",
    "\n",
    "            # select the best strategies\n",
    "            # best_half = scores[:len(scores)//2]\n",
    "            best_quarter = scores[:len(scores)//4]\n",
    "            # best_ten = scores[:len(scores)//10]\n",
    "\n",
    "            # while len(best_quarter) > 0:\n",
    "            for _ in range((INITIAL_POPULATION - len(best_quarter)) // 2):\n",
    "                # crossover\n",
    "                # we pick randomly the mother and the father from the best quarter\n",
    "                mother = random.choice(best_quarter)\n",
    "                # best_quarter.pop(best_quarter.index(mother))\n",
    "                father = random.choice(best_quarter)\n",
    "                # best_quarter.pop(best_quarter.index(father))\n",
    "\n",
    "                # generate two children\n",
    "                child1, child2 = crossover(mother[0], father[0])\n",
    "\n",
    "                # mutation\n",
    "\n",
    "                child1 = mutate(child1)\n",
    "                child2 = mutate(child2)\n",
    "\n",
    "                new_generation.append(child1)\n",
    "                new_generation.append(child2)\n",
    "                # new_generation.append(mother[0])\n",
    "                # new_generation.append(father[0])\n",
    "\n",
    "            # calculate the fitness of each strategy\n",
    "            scores = []\n",
    "            scores = calculate_scores(new_generation, k)\n",
    "\n",
    "            # to not recompute again the fitness of the best quarter\n",
    "            scores += best_quarter\n",
    "            scores.sort(key=lambda x: x[1], reverse=True)\n",
    "            \n",
    "            print(\"k: \", k, \"best score: \", scores[0][1])\n",
    "\n",
    "            if scores[0][1] <= best_score:\n",
    "                not_growing_counter += 1\n",
    "            else:\n",
    "                best_score = scores[0][1]\n",
    "                not_growing_counter = 0\n",
    "\n",
    "            if not_growing_counter == 5:\n",
    "                not_growing_counter = 0\n",
    "                break\n",
    "\n",
    "        scores_player_0.append(scores[0][0])\n",
    "\n",
    "    return scores_player_0"
   ]
  },
  {
   "cell_type": "code",
   "execution_count": 20,
   "metadata": {},
   "outputs": [],
   "source": [
    "# corresponding index of move_scores in the hash_table of strategies\n",
    "MOVES_DICTIONARY = {\n",
    "    0: 'AA',\n",
    "    1: 'BA',\n",
    "    2: 'BB',\n",
    "    3: 'CA',\n",
    "    4: 'CB',\n",
    "    5: 'CC',\n",
    "    6: 'DA',\n",
    "    7: 'DB',\n",
    "    8: 'DC',\n",
    "    9: 'DD',\n",
    "}"
   ]
  },
  {
   "cell_type": "code",
   "execution_count": 21,
   "metadata": {},
   "outputs": [],
   "source": [
    "SET_OF_ALLOWED_MOVES = set()\n",
    "for value in MOVES_DICTIONARY.values():\n",
    "    SET_OF_ALLOWED_MOVES.add(value)"
   ]
  },
  {
   "cell_type": "code",
   "execution_count": 22,
   "metadata": {},
   "outputs": [],
   "source": [
    "# the function that returns the move to do \n",
    "def evolution_strategy(state: Nim, strategy: Strategy) -> Nimply:\n",
    "    # generate the possible moves\n",
    "    allowed_moves = possible_moves(state)\n",
    "\n",
    "    # transform the list of allowed_moves into a list of move_types\n",
    "    allowed_moves_types = []\n",
    "    for move in allowed_moves:\n",
    "        allowed_moves_types.append(describe_move(state, move))\n",
    "\n",
    "    set_of_allowed_moves = set()\n",
    "    for value in allowed_moves_types:\n",
    "        set_of_allowed_moves.add(value)\n",
    "\n",
    "    set_of_not_allowed_moves = SET_OF_ALLOWED_MOVES - set_of_allowed_moves\n",
    "\n",
    "    # generate the hash_key of the state\n",
    "    hash_key = generate_hash_key(state)\n",
    "    # print(\"hash_key: \", hash_key)\n",
    "\n",
    "    # retrieve the scores of the moves from the hash_table\n",
    "    moves_scores = strategy.hash_table.get(hash_key)\n",
    "\n",
    "    # for each index retrieved from calling MOVES_DICTIONARY with the index of set_of_not_allowed_moves we set the score to 0 of moves_scores\n",
    "    for index in set_of_not_allowed_moves:\n",
    "        for key, value in MOVES_DICTIONARY.items():\n",
    "            if value == index:\n",
    "                moves_scores[key] = 0\n",
    "\n",
    "    # order moves_scores as a tuple of type (score, move_type) in descending order\n",
    "    moves_scores = list(zip(moves_scores, allowed_moves_types))\n",
    "    moves_scores.sort(key=lambda x: x[0], reverse=True)\n",
    "\n",
    "    # starting from the first move, check if it is in the list of allowed moves, if yes, return it\n",
    "    for move in moves_scores:\n",
    "        if move[1] in allowed_moves_types:\n",
    "            return allowed_moves[allowed_moves_types.index(move[1])]\n",
    "        \n",
    "    print(\"random move\")\n",
    "    return random.choice(allowed_moves)"
   ]
  },
  {
   "cell_type": "code",
   "execution_count": 23,
   "metadata": {},
   "outputs": [],
   "source": [
    "NIM_SIZE = 3"
   ]
  },
  {
   "cell_type": "code",
   "execution_count": 24,
   "metadata": {},
   "outputs": [],
   "source": [
    "# player = 0 -> strategy1 plays first\n",
    "# player = 1 -> strategy2 plays first\n",
    "def nim_match(strategy1, strategy2, nim_size = NIM_SIZE, player = 0, fitness = False, debug = False, winner = False):\n",
    "    agents = (strategy1, strategy2)\n",
    "    if debug:\n",
    "        print(\"agent1: \", agents[0])\n",
    "        print(\"agent2: \", agents[1])\n",
    "    nim = Nim(nim_size)\n",
    "    logging.info(f\"init : {nim}\")\n",
    "    if debug:\n",
    "        print(f\"init : {nim}\")\n",
    "    while nim:\n",
    "        if player == 0:\n",
    "            selected_move = agents[player](nim)\n",
    "        else:\n",
    "            selected_move = evolution_strategy(nim, agents[player])\n",
    "        logging.info(f\"ply: player {player} plays {selected_move}\")\n",
    "        if debug:\n",
    "            print(f\"ply: player {player} plays {selected_move}\")\n",
    "        nim.nimming(selected_move)\n",
    "        logging.info(f\"status: {nim}\")\n",
    "        if debug:\n",
    "            print(f\"status: {nim}\")\n",
    "        player = 1 - player\n",
    "    logging.info(f\"status: Player {player} won!\")\n",
    "    if debug or winner:\n",
    "        print(f\"status: Player {player} won!\")\n",
    "    if fitness:\n",
    "        return player"
   ]
  },
  {
   "cell_type": "code",
   "execution_count": 25,
   "metadata": {},
   "outputs": [
    {
     "data": {
      "application/vnd.jupyter.widget-view+json": {
       "model_id": "e4056577eb9b49a68eca650d14fab766",
       "version_major": 2,
       "version_minor": 0
      },
      "text/plain": [
       "  0%|          | 0/20 [00:00<?, ?it/s]"
      ]
     },
     "metadata": {},
     "output_type": "display_data"
    },
    {
     "name": "stdout",
     "output_type": "stream",
     "text": [
      "-------------------- K =  1 -------------------- \n"
     ]
    },
    {
     "data": {
      "application/vnd.jupyter.widget-view+json": {
       "model_id": "6ac50fb8ffc6470b948bac654e13af0f",
       "version_major": 2,
       "version_minor": 0
      },
      "text/plain": [
       "  0%|          | 0/64 [00:00<?, ?it/s]"
      ]
     },
     "metadata": {},
     "output_type": "display_data"
    },
    {
     "name": "stdout",
     "output_type": "stream",
     "text": [
      "k:  1 best score:  200\n"
     ]
    },
    {
     "data": {
      "application/vnd.jupyter.widget-view+json": {
       "model_id": "5f02e8221e584b8aabb55f60ea7ade68",
       "version_major": 2,
       "version_minor": 0
      },
      "text/plain": [
       "  0%|          | 0/50 [00:00<?, ?it/s]"
      ]
     },
     "metadata": {},
     "output_type": "display_data"
    },
    {
     "data": {
      "application/vnd.jupyter.widget-view+json": {
       "model_id": "54bb5332202d4b9cb89d56bd86fd84f8",
       "version_major": 2,
       "version_minor": 0
      },
      "text/plain": [
       "  0%|          | 0/48 [00:00<?, ?it/s]"
      ]
     },
     "metadata": {},
     "output_type": "display_data"
    },
    {
     "name": "stdout",
     "output_type": "stream",
     "text": [
      "k:  1 best score:  200\n"
     ]
    },
    {
     "data": {
      "application/vnd.jupyter.widget-view+json": {
       "model_id": "f78f411399bf4c1188e6b7ad8001277e",
       "version_major": 2,
       "version_minor": 0
      },
      "text/plain": [
       "  0%|          | 0/48 [00:00<?, ?it/s]"
      ]
     },
     "metadata": {},
     "output_type": "display_data"
    },
    {
     "name": "stdout",
     "output_type": "stream",
     "text": [
      "k:  1 best score:  200\n"
     ]
    },
    {
     "data": {
      "application/vnd.jupyter.widget-view+json": {
       "model_id": "2dd1edd97d724a619e928e4717cbb888",
       "version_major": 2,
       "version_minor": 0
      },
      "text/plain": [
       "  0%|          | 0/48 [00:00<?, ?it/s]"
      ]
     },
     "metadata": {},
     "output_type": "display_data"
    },
    {
     "name": "stdout",
     "output_type": "stream",
     "text": [
      "k:  1 best score:  200\n"
     ]
    },
    {
     "data": {
      "application/vnd.jupyter.widget-view+json": {
       "model_id": "4001dcd50bae4895a214f64f7fa149aa",
       "version_major": 2,
       "version_minor": 0
      },
      "text/plain": [
       "  0%|          | 0/48 [00:00<?, ?it/s]"
      ]
     },
     "metadata": {},
     "output_type": "display_data"
    },
    {
     "name": "stdout",
     "output_type": "stream",
     "text": [
      "k:  1 best score:  200\n"
     ]
    },
    {
     "data": {
      "application/vnd.jupyter.widget-view+json": {
       "model_id": "464e695ad7d047229acd014abf0ee118",
       "version_major": 2,
       "version_minor": 0
      },
      "text/plain": [
       "  0%|          | 0/48 [00:00<?, ?it/s]"
      ]
     },
     "metadata": {},
     "output_type": "display_data"
    },
    {
     "name": "stdout",
     "output_type": "stream",
     "text": [
      "k:  1 best score:  200\n",
      "-------------------- K =  2 -------------------- \n"
     ]
    },
    {
     "data": {
      "application/vnd.jupyter.widget-view+json": {
       "model_id": "c7bad558dd0a43fda8f6aa459f0cd526",
       "version_major": 2,
       "version_minor": 0
      },
      "text/plain": [
       "  0%|          | 0/64 [00:00<?, ?it/s]"
      ]
     },
     "metadata": {},
     "output_type": "display_data"
    },
    {
     "name": "stdout",
     "output_type": "stream",
     "text": [
      "k:  2 best score:  200\n"
     ]
    },
    {
     "data": {
      "application/vnd.jupyter.widget-view+json": {
       "model_id": "f4f1af3a66b24b15852e61810cde9958",
       "version_major": 2,
       "version_minor": 0
      },
      "text/plain": [
       "  0%|          | 0/50 [00:00<?, ?it/s]"
      ]
     },
     "metadata": {},
     "output_type": "display_data"
    },
    {
     "data": {
      "application/vnd.jupyter.widget-view+json": {
       "model_id": "d7be2d2fc43e4f95a960995e80f79f6c",
       "version_major": 2,
       "version_minor": 0
      },
      "text/plain": [
       "  0%|          | 0/48 [00:00<?, ?it/s]"
      ]
     },
     "metadata": {},
     "output_type": "display_data"
    },
    {
     "name": "stdout",
     "output_type": "stream",
     "text": [
      "k:  2 best score:  200\n"
     ]
    },
    {
     "data": {
      "application/vnd.jupyter.widget-view+json": {
       "model_id": "9a319bd5fdb244fa88f71bd382a60ef1",
       "version_major": 2,
       "version_minor": 0
      },
      "text/plain": [
       "  0%|          | 0/48 [00:00<?, ?it/s]"
      ]
     },
     "metadata": {},
     "output_type": "display_data"
    },
    {
     "ename": "KeyboardInterrupt",
     "evalue": "",
     "output_type": "error",
     "traceback": [
      "\u001b[0;31m---------------------------------------------------------------------------\u001b[0m",
      "\u001b[0;31mKeyboardInterrupt\u001b[0m                         Traceback (most recent call last)",
      "Cell \u001b[0;32mIn[25], line 1\u001b[0m\n\u001b[0;32m----> 1\u001b[0m best_strategy \u001b[38;5;241m=\u001b[39m \u001b[43mevolve\u001b[49m\u001b[43m(\u001b[49m\u001b[43m)\u001b[49m\n",
      "Cell \u001b[0;32mIn[19], line 50\u001b[0m, in \u001b[0;36mevolve\u001b[0;34m()\u001b[0m\n\u001b[1;32m     45\u001b[0m     \u001b[38;5;66;03m# new_generation.append(mother[0])\u001b[39;00m\n\u001b[1;32m     46\u001b[0m     \u001b[38;5;66;03m# new_generation.append(father[0])\u001b[39;00m\n\u001b[1;32m     47\u001b[0m \n\u001b[1;32m     48\u001b[0m \u001b[38;5;66;03m# calculate the fitness of each strategy\u001b[39;00m\n\u001b[1;32m     49\u001b[0m scores \u001b[38;5;241m=\u001b[39m []\n\u001b[0;32m---> 50\u001b[0m scores \u001b[38;5;241m=\u001b[39m \u001b[43mcalculate_scores\u001b[49m\u001b[43m(\u001b[49m\u001b[43mnew_generation\u001b[49m\u001b[43m,\u001b[49m\u001b[43m \u001b[49m\u001b[43mk\u001b[49m\u001b[43m)\u001b[49m\n\u001b[1;32m     52\u001b[0m \u001b[38;5;66;03m# to not recompute again the fitness of the best quarter\u001b[39;00m\n\u001b[1;32m     53\u001b[0m scores \u001b[38;5;241m+\u001b[39m\u001b[38;5;241m=\u001b[39m best_quarter\n",
      "Cell \u001b[0;32mIn[15], line 4\u001b[0m, in \u001b[0;36mcalculate_scores\u001b[0;34m(population, k)\u001b[0m\n\u001b[1;32m      2\u001b[0m scores \u001b[38;5;241m=\u001b[39m []\n\u001b[1;32m      3\u001b[0m \u001b[38;5;28;01mfor\u001b[39;00m strategy \u001b[38;5;129;01min\u001b[39;00m tqdm(population):\n\u001b[0;32m----> 4\u001b[0m     score \u001b[38;5;241m=\u001b[39m \u001b[43mfitness_function\u001b[49m\u001b[43m(\u001b[49m\u001b[43mstrategy\u001b[49m\u001b[43m,\u001b[49m\u001b[43m \u001b[49m\u001b[43mk\u001b[49m\u001b[43m)\u001b[49m\n\u001b[1;32m      5\u001b[0m     scores\u001b[38;5;241m.\u001b[39mappend((strategy, score))\n\u001b[1;32m      7\u001b[0m \u001b[38;5;66;03m# sort scores by fitnes descending\u001b[39;00m\n",
      "Cell \u001b[0;32mIn[13], line 7\u001b[0m, in \u001b[0;36mfitness_function\u001b[0;34m(strategy, k, num_games)\u001b[0m\n\u001b[1;32m      4\u001b[0m score \u001b[38;5;241m=\u001b[39m \u001b[38;5;241m0\u001b[39m\n\u001b[1;32m      5\u001b[0m \u001b[38;5;28;01mfor\u001b[39;00m _ \u001b[38;5;129;01min\u001b[39;00m \u001b[38;5;28mrange\u001b[39m(num_games):\n\u001b[1;32m      6\u001b[0m     \u001b[38;5;66;03m# everytime the strategy wins it gets a point\u001b[39;00m\n\u001b[0;32m----> 7\u001b[0m     \u001b[38;5;28;01mif\u001b[39;00m \u001b[43mnim_match\u001b[49m\u001b[43m(\u001b[49m\u001b[43moptimal\u001b[49m\u001b[43m,\u001b[49m\u001b[43m \u001b[49m\u001b[43mstrategy\u001b[49m\u001b[43m,\u001b[49m\u001b[43m \u001b[49m\u001b[43mk\u001b[49m\u001b[43m,\u001b[49m\u001b[43m \u001b[49m\u001b[43mplayer\u001b[49m\u001b[43m \u001b[49m\u001b[38;5;241;43m=\u001b[39;49m\u001b[43m \u001b[49m\u001b[38;5;241;43m0\u001b[39;49m\u001b[43m,\u001b[49m\u001b[43m \u001b[49m\u001b[43mfitness\u001b[49m\u001b[43m \u001b[49m\u001b[38;5;241;43m=\u001b[39;49m\u001b[43m \u001b[49m\u001b[38;5;28;43;01mTrue\u001b[39;49;00m\u001b[43m,\u001b[49m\u001b[43m \u001b[49m\u001b[43m)\u001b[49m \u001b[38;5;241m==\u001b[39m \u001b[38;5;241m1\u001b[39m:\n\u001b[1;32m      8\u001b[0m         score \u001b[38;5;241m+\u001b[39m\u001b[38;5;241m=\u001b[39m \u001b[38;5;241m1\u001b[39m\n\u001b[1;32m      9\u001b[0m \u001b[38;5;28;01mreturn\u001b[39;00m score\n",
      "Cell \u001b[0;32mIn[24], line 16\u001b[0m, in \u001b[0;36mnim_match\u001b[0;34m(strategy1, strategy2, nim_size, player, fitness, debug, winner)\u001b[0m\n\u001b[1;32m     14\u001b[0m     selected_move \u001b[38;5;241m=\u001b[39m agents[player](nim)\n\u001b[1;32m     15\u001b[0m \u001b[38;5;28;01melse\u001b[39;00m:\n\u001b[0;32m---> 16\u001b[0m     selected_move \u001b[38;5;241m=\u001b[39m \u001b[43mevolution_strategy\u001b[49m\u001b[43m(\u001b[49m\u001b[43mnim\u001b[49m\u001b[43m,\u001b[49m\u001b[43m \u001b[49m\u001b[43magents\u001b[49m\u001b[43m[\u001b[49m\u001b[43mplayer\u001b[49m\u001b[43m]\u001b[49m\u001b[43m)\u001b[49m\n\u001b[1;32m     17\u001b[0m logging\u001b[38;5;241m.\u001b[39minfo(\u001b[38;5;124mf\u001b[39m\u001b[38;5;124m\"\u001b[39m\u001b[38;5;124mply: player \u001b[39m\u001b[38;5;132;01m{\u001b[39;00mplayer\u001b[38;5;132;01m}\u001b[39;00m\u001b[38;5;124m plays \u001b[39m\u001b[38;5;132;01m{\u001b[39;00mselected_move\u001b[38;5;132;01m}\u001b[39;00m\u001b[38;5;124m\"\u001b[39m)\n\u001b[1;32m     18\u001b[0m \u001b[38;5;28;01mif\u001b[39;00m debug:\n",
      "Cell \u001b[0;32mIn[22], line 9\u001b[0m, in \u001b[0;36mevolution_strategy\u001b[0;34m(state, strategy)\u001b[0m\n\u001b[1;32m      7\u001b[0m allowed_moves_types \u001b[38;5;241m=\u001b[39m []\n\u001b[1;32m      8\u001b[0m \u001b[38;5;28;01mfor\u001b[39;00m move \u001b[38;5;129;01min\u001b[39;00m allowed_moves:\n\u001b[0;32m----> 9\u001b[0m     allowed_moves_types\u001b[38;5;241m.\u001b[39mappend(\u001b[43mdescribe_move\u001b[49m\u001b[43m(\u001b[49m\u001b[43mstate\u001b[49m\u001b[43m,\u001b[49m\u001b[43m \u001b[49m\u001b[43mmove\u001b[49m\u001b[43m)\u001b[49m)\n\u001b[1;32m     11\u001b[0m set_of_allowed_moves \u001b[38;5;241m=\u001b[39m \u001b[38;5;28mset\u001b[39m()\n\u001b[1;32m     12\u001b[0m \u001b[38;5;28;01mfor\u001b[39;00m value \u001b[38;5;129;01min\u001b[39;00m allowed_moves_types:\n",
      "Cell \u001b[0;32mIn[10], line 3\u001b[0m, in \u001b[0;36mdescribe_move\u001b[0;34m(actual_state, move)\u001b[0m\n\u001b[1;32m      1\u001b[0m \u001b[38;5;28;01mdef\u001b[39;00m \u001b[38;5;21mdescribe_move\u001b[39m(actual_state: Nim, move: Nimply):\n\u001b[1;32m      2\u001b[0m     element_before_move \u001b[38;5;241m=\u001b[39m actual_state\u001b[38;5;241m.\u001b[39mrows[move\u001b[38;5;241m.\u001b[39mrow]\n\u001b[0;32m----> 3\u001b[0m     state \u001b[38;5;241m=\u001b[39m \u001b[43mdeepcopy\u001b[49m\u001b[43m(\u001b[49m\u001b[43mactual_state\u001b[49m\u001b[43m)\u001b[49m\n\u001b[1;32m      4\u001b[0m     state\u001b[38;5;241m.\u001b[39mnimming(move)\n\u001b[1;32m      5\u001b[0m     new_elements \u001b[38;5;241m=\u001b[39m state\u001b[38;5;241m.\u001b[39mrows[move\u001b[38;5;241m.\u001b[39mrow]\n",
      "File \u001b[0;32m~/anaconda3/envs/Computational_Intelligence/lib/python3.10/copy.py:172\u001b[0m, in \u001b[0;36mdeepcopy\u001b[0;34m(x, memo, _nil)\u001b[0m\n\u001b[1;32m    170\u001b[0m                 y \u001b[38;5;241m=\u001b[39m x\n\u001b[1;32m    171\u001b[0m             \u001b[38;5;28;01melse\u001b[39;00m:\n\u001b[0;32m--> 172\u001b[0m                 y \u001b[38;5;241m=\u001b[39m \u001b[43m_reconstruct\u001b[49m\u001b[43m(\u001b[49m\u001b[43mx\u001b[49m\u001b[43m,\u001b[49m\u001b[43m \u001b[49m\u001b[43mmemo\u001b[49m\u001b[43m,\u001b[49m\u001b[43m \u001b[49m\u001b[38;5;241;43m*\u001b[39;49m\u001b[43mrv\u001b[49m\u001b[43m)\u001b[49m\n\u001b[1;32m    174\u001b[0m \u001b[38;5;66;03m# If is its own copy, don't memoize.\u001b[39;00m\n\u001b[1;32m    175\u001b[0m \u001b[38;5;28;01mif\u001b[39;00m y \u001b[38;5;129;01mis\u001b[39;00m \u001b[38;5;129;01mnot\u001b[39;00m x:\n",
      "File \u001b[0;32m~/anaconda3/envs/Computational_Intelligence/lib/python3.10/copy.py:271\u001b[0m, in \u001b[0;36m_reconstruct\u001b[0;34m(x, memo, func, args, state, listiter, dictiter, deepcopy)\u001b[0m\n\u001b[1;32m    269\u001b[0m \u001b[38;5;28;01mif\u001b[39;00m state \u001b[38;5;129;01mis\u001b[39;00m \u001b[38;5;129;01mnot\u001b[39;00m \u001b[38;5;28;01mNone\u001b[39;00m:\n\u001b[1;32m    270\u001b[0m     \u001b[38;5;28;01mif\u001b[39;00m deep:\n\u001b[0;32m--> 271\u001b[0m         state \u001b[38;5;241m=\u001b[39m \u001b[43mdeepcopy\u001b[49m\u001b[43m(\u001b[49m\u001b[43mstate\u001b[49m\u001b[43m,\u001b[49m\u001b[43m \u001b[49m\u001b[43mmemo\u001b[49m\u001b[43m)\u001b[49m\n\u001b[1;32m    272\u001b[0m     \u001b[38;5;28;01mif\u001b[39;00m \u001b[38;5;28mhasattr\u001b[39m(y, \u001b[38;5;124m'\u001b[39m\u001b[38;5;124m__setstate__\u001b[39m\u001b[38;5;124m'\u001b[39m):\n\u001b[1;32m    273\u001b[0m         y\u001b[38;5;241m.\u001b[39m__setstate__(state)\n",
      "File \u001b[0;32m~/anaconda3/envs/Computational_Intelligence/lib/python3.10/copy.py:146\u001b[0m, in \u001b[0;36mdeepcopy\u001b[0;34m(x, memo, _nil)\u001b[0m\n\u001b[1;32m    144\u001b[0m copier \u001b[38;5;241m=\u001b[39m _deepcopy_dispatch\u001b[38;5;241m.\u001b[39mget(\u001b[38;5;28mcls\u001b[39m)\n\u001b[1;32m    145\u001b[0m \u001b[38;5;28;01mif\u001b[39;00m copier \u001b[38;5;129;01mis\u001b[39;00m \u001b[38;5;129;01mnot\u001b[39;00m \u001b[38;5;28;01mNone\u001b[39;00m:\n\u001b[0;32m--> 146\u001b[0m     y \u001b[38;5;241m=\u001b[39m \u001b[43mcopier\u001b[49m\u001b[43m(\u001b[49m\u001b[43mx\u001b[49m\u001b[43m,\u001b[49m\u001b[43m \u001b[49m\u001b[43mmemo\u001b[49m\u001b[43m)\u001b[49m\n\u001b[1;32m    147\u001b[0m \u001b[38;5;28;01melse\u001b[39;00m:\n\u001b[1;32m    148\u001b[0m     \u001b[38;5;28;01mif\u001b[39;00m \u001b[38;5;28missubclass\u001b[39m(\u001b[38;5;28mcls\u001b[39m, \u001b[38;5;28mtype\u001b[39m):\n",
      "File \u001b[0;32m~/anaconda3/envs/Computational_Intelligence/lib/python3.10/copy.py:231\u001b[0m, in \u001b[0;36m_deepcopy_dict\u001b[0;34m(x, memo, deepcopy)\u001b[0m\n\u001b[1;32m    229\u001b[0m memo[\u001b[38;5;28mid\u001b[39m(x)] \u001b[38;5;241m=\u001b[39m y\n\u001b[1;32m    230\u001b[0m \u001b[38;5;28;01mfor\u001b[39;00m key, value \u001b[38;5;129;01min\u001b[39;00m x\u001b[38;5;241m.\u001b[39mitems():\n\u001b[0;32m--> 231\u001b[0m     y[deepcopy(key, memo)] \u001b[38;5;241m=\u001b[39m \u001b[43mdeepcopy\u001b[49m\u001b[43m(\u001b[49m\u001b[43mvalue\u001b[49m\u001b[43m,\u001b[49m\u001b[43m \u001b[49m\u001b[43mmemo\u001b[49m\u001b[43m)\u001b[49m\n\u001b[1;32m    232\u001b[0m \u001b[38;5;28;01mreturn\u001b[39;00m y\n",
      "File \u001b[0;32m~/anaconda3/envs/Computational_Intelligence/lib/python3.10/copy.py:134\u001b[0m, in \u001b[0;36mdeepcopy\u001b[0;34m(x, memo, _nil)\u001b[0m\n\u001b[1;32m    128\u001b[0m \u001b[38;5;28;01mdef\u001b[39;00m \u001b[38;5;21mdeepcopy\u001b[39m(x, memo\u001b[38;5;241m=\u001b[39m\u001b[38;5;28;01mNone\u001b[39;00m, _nil\u001b[38;5;241m=\u001b[39m[]):\n\u001b[1;32m    129\u001b[0m \u001b[38;5;250m    \u001b[39m\u001b[38;5;124;03m\"\"\"Deep copy operation on arbitrary Python objects.\u001b[39;00m\n\u001b[1;32m    130\u001b[0m \n\u001b[1;32m    131\u001b[0m \u001b[38;5;124;03m    See the module's __doc__ string for more info.\u001b[39;00m\n\u001b[1;32m    132\u001b[0m \u001b[38;5;124;03m    \"\"\"\u001b[39;00m\n\u001b[0;32m--> 134\u001b[0m     \u001b[38;5;28;01mif\u001b[39;00m memo \u001b[38;5;129;01mis\u001b[39;00m \u001b[38;5;28;01mNone\u001b[39;00m:\n\u001b[1;32m    135\u001b[0m         memo \u001b[38;5;241m=\u001b[39m {}\n\u001b[1;32m    137\u001b[0m     d \u001b[38;5;241m=\u001b[39m \u001b[38;5;28mid\u001b[39m(x)\n",
      "\u001b[0;31mKeyboardInterrupt\u001b[0m: "
     ]
    }
   ],
   "source": [
    "best_strategy = evolve()"
   ]
  },
  {
   "cell_type": "markdown",
   "metadata": {},
   "source": [
    "todo: \n",
    "per modificare gli scores bisogna tenere traccia delle mosse scelte e, una volta calcolato il verdetto della partita attribuire un punteggio positivo o negativo a tutte le mosse effettuate in quella partita"
   ]
  },
  {
   "cell_type": "code",
   "execution_count": null,
   "metadata": {},
   "outputs": [
    {
     "name": "stdout",
     "output_type": "stream",
     "text": [
      "key:  CUUUZ\n",
      "scores:  [0, 8.014291347787493, 1.6197779597372812, 0.5473928847348642, 3.5573348434560983, 6.70417912607763, 0, 0, 0, 0]\n",
      "key:  CPZUZ\n",
      "scores:  [0, 0, 0, 6.0604073775370475, 3.8722535456740905, 2.654612978418501, 0, 0, 0, 0]\n",
      "key:  BPUZZ\n",
      "scores:  [0, 6.447531640842208, 5.714976523290407, 0, 0, 0, 0, 0, 0, 0]\n",
      "key:  DPZZU\n",
      "scores:  [0, 0, 0, 0, 0, 0, 2.430007878002343, 8.068743561667203, 3.8730076838107017, 3.3630239085123166]\n",
      "key:  ADZZZ\n",
      "scores:  [1.2858792315756387, 0, 0, 0, 0, 0, 0, 0, 0, 0]\n",
      "key:  DUZUU\n",
      "scores:  [0, 0, 0, 8.004058539291117, 5, 10, 1, 0.7616848476632782, 1.5038391511367668, 1.6472281843570267]\n",
      "key:  DUUZU\n",
      "scores:  [0, 4.365907157669755, 7.646167208989563, 0, 0, 0, 8.840585890164366, 10, 4.792040221995923, 7.453648653054761]\n"
     ]
    }
   ],
   "source": [
    "keys = best_strategy.hash_table.get_keys()\n",
    "# print(\"keys: \", keys)\n",
    "\n",
    "for key in keys:\n",
    "    print(\"key: \", key)\n",
    "    print(\"scores: \", best_strategy.hash_table.get(key))"
   ]
  },
  {
   "cell_type": "code",
   "execution_count": null,
   "metadata": {},
   "outputs": [],
   "source": [
    "matches = 1000\n",
    "wins_first = 0\n",
    "wins_second = 0\n",
    "\n",
    "for _ in tqdm(range(matches)):\n",
    "    wins_second += nim_match(optimal, best_strategy, nim_size = 7, debug = False, fitness = True)\n",
    "    wins_first += nim_match(optimal, best_strategy, nim_size = 7, debug = False, player = 1, fitness = True)\n",
    "\n",
    "print(\"matches played: \", matches)\n",
    "print(\"---------------------------------\")\n",
    "print(\"wins playing first: \", wins_first)\n",
    "print(\"percentage of wins playing fist: \", wins_first/matches * 100, \"%\")\n",
    "print(\"---------------------------------\")\n",
    "print(\"wins playing second: \", wins_second)\n",
    "print(\"percentage of wins playing second: \", wins_second/matches * 100, \"%\")\n",
    "print(\"---------------------------------\")"
   ]
  },
  {
   "cell_type": "code",
   "execution_count": 503,
   "metadata": {},
   "outputs": [
    {
     "name": "stdout",
     "output_type": "stream",
     "text": [
      "\tK\t|\tLUI\t|\tIO\t|\n",
      "-------------------------------------------------\n",
      "\t 1 \t|\t 0 \t|\t 100 \t|\n",
      "-------------------------------------------------\n",
      "\t 2 \t|\t 0 \t|\t 100 \t|\n",
      "-------------------------------------------------\n",
      "\t 3 \t|\t 100 \t|\t 0 \t|\n",
      "-------------------------------------------------\n",
      "\t 4 \t|\t 0 \t|\t 100 \t|\n",
      "-------------------------------------------------\n",
      "\t 5 \t|\t 100 \t|\t 0 \t|\n",
      "-------------------------------------------------\n",
      "\t 6 \t|\t 100 \t|\t 0 \t|\n",
      "-------------------------------------------------\n",
      "\t 7 \t|\t 100 \t|\t 0 \t|\n",
      "-------------------------------------------------\n",
      "\t 8 \t|\t 0 \t|\t 100 \t|\n",
      "-------------------------------------------------\n",
      "\t 9 \t|\t 100 \t|\t 0 \t|\n",
      "-------------------------------------------------\n",
      "\t 10 \t|\t 100 \t|\t 0 \t|\n",
      "-------------------------------------------------\n",
      "\t 11 \t|\t 100 \t|\t 0 \t|\n",
      "-------------------------------------------------\n",
      "\t 12 \t|\t 0 \t|\t 100 \t|\n",
      "-------------------------------------------------\n",
      "\t 13 \t|\t 100 \t|\t 0 \t|\n",
      "-------------------------------------------------\n",
      "\t 14 \t|\t 100 \t|\t 0 \t|\n",
      "-------------------------------------------------\n",
      "\t 15 \t|\t 100 \t|\t 0 \t|\n",
      "-------------------------------------------------\n",
      "\t 16 \t|\t 0 \t|\t 100 \t|\n",
      "-------------------------------------------------\n",
      "\t 17 \t|\t 100 \t|\t 0 \t|\n",
      "-------------------------------------------------\n",
      "\t 18 \t|\t 100 \t|\t 0 \t|\n",
      "-------------------------------------------------\n",
      "\t 19 \t|\t 100 \t|\t 0 \t|\n",
      "-------------------------------------------------\n",
      "\t 20 \t|\t 0 \t|\t 100 \t|\n",
      "-------------------------------------------------\n"
     ]
    }
   ],
   "source": [
    "import logging\n",
    "\n",
    "logging.getLogger().setLevel(logging.INFO)\n",
    "\n",
    "strategy = (optimal, optimal)\n",
    "\n",
    "print(\"\\tK\\t|\\tLUI\\t|\\tIO\\t|\")\n",
    "print(\"-------------------------------------------------\")\n",
    "\n",
    "for k in range(1, 21):\n",
    "    print(\"\\t\", k, \"\\t|\", end=\"\")\n",
    "    player_0 = 0\n",
    "    player_1 = 0\n",
    "    for i in range(100): \n",
    "        nim = Nim(k)\n",
    "        # logging.info(f\"init : {nim}\")\n",
    "        player = 0\n",
    "        while nim:\n",
    "            ply = strategy[player](nim)\n",
    "            # logging.info(f\"ply: player {player} plays {ply}\")\n",
    "            nim.nimming(ply)\n",
    "            # logging.info(f\"status: {nim}\")\n",
    "            player = 1 - player\n",
    "        # logging.info(f\"status: Player {player} won!\")\n",
    "        if player == 0:\n",
    "            player_0 += 1\n",
    "        else:\n",
    "            player_1 += 1\n",
    "    print(\"\\t\", player_0, \"\\t|\\t\", player_1, \"\\t|\")\n",
    "    print(\"-------------------------------------------------\")"
   ]
  }
 ],
 "metadata": {
  "kernelspec": {
   "display_name": "Computational_Intelligence",
   "language": "python",
   "name": "python3"
  },
  "language_info": {
   "codemirror_mode": {
    "name": "ipython",
    "version": 3
   },
   "file_extension": ".py",
   "mimetype": "text/x-python",
   "name": "python",
   "nbconvert_exporter": "python",
   "pygments_lexer": "ipython3",
   "version": "3.10.13"
  }
 },
 "nbformat": 4,
 "nbformat_minor": 2
}
