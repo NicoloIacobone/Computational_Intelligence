{
 "cells": [
  {
   "cell_type": "code",
   "execution_count": 2,
   "metadata": {},
   "outputs": [],
   "source": [
    "import logging\n",
    "from pprint import pformat\n",
    "from collections import namedtuple\n",
    "import random\n",
    "from copy import deepcopy\n",
    "from dataclasses import dataclass\n",
    "from tqdm.notebook import tqdm\n",
    "import numpy as np"
   ]
  },
  {
   "cell_type": "code",
   "execution_count": 3,
   "metadata": {},
   "outputs": [],
   "source": [
    "# A way to represent a state of the game\n",
    "Nimply = namedtuple(\"Nimply\", \"row, num_objects\")"
   ]
  },
  {
   "cell_type": "code",
   "execution_count": 4,
   "metadata": {},
   "outputs": [],
   "source": [
    "# A way to represent a game itself\n",
    "class Nim:\n",
    "    # The constructor: it builds the rows and defines the upper bound for the number of objects that can be removed\n",
    "    def __init__(self, num_rows: int, k: int = None) -> None:\n",
    "        self._rows = [i * 2 + 1 for i in range(num_rows)]\n",
    "        self._k = k\n",
    "\n",
    "    def __bool__(self):\n",
    "        return sum(self._rows) > 0\n",
    "\n",
    "    # ToString method\n",
    "    def __str__(self):\n",
    "        return \"<\" + \" \".join(str(_) for _ in self._rows) + \">\"\n",
    "\n",
    "    @property\n",
    "    # Returns the rows as a tuple\n",
    "    def rows(self) -> tuple:\n",
    "        return tuple(self._rows)\n",
    "\n",
    "    # Checks if the move is valid and applies it\n",
    "    def nimming(self, ply: Nimply) -> None:\n",
    "        row, num_objects = ply\n",
    "        assert self._rows[row] >= num_objects\n",
    "        assert self._k is None or num_objects <= self._k\n",
    "        self._rows[row] -= num_objects"
   ]
  },
  {
   "cell_type": "code",
   "execution_count": 6,
   "metadata": {},
   "outputs": [],
   "source": [
    "# NIM_SIZE = 10\n",
    "# MAX_OBJECTS = NIM_SIZE * 2 + 1"
   ]
  },
  {
   "cell_type": "code",
   "execution_count": 7,
   "metadata": {},
   "outputs": [],
   "source": [
    "# Generates a \"score\" for the state of the game based on the transformation of the rows into binary strings and the xor of the rows\n",
    "def nim_sum(state: Nim) -> int:\n",
    "    # Transforms the rows into binary strings of length 32\n",
    "    tmp = np.array([tuple(int(x) for x in f\"{c:032b}\") for c in state.rows])\n",
    "    # Xor of the rows\n",
    "    xor = tmp.sum(axis=0) % 2\n",
    "    # Return the value of the xor as an integer (0 means that the game is lost)\n",
    "    return int(\"\".join(str(_) for _ in xor), base=2)\n",
    "\n",
    "# Generates a dictionary with the nim_sum (score) associated to all possible moves\n",
    "def analize(raw: Nim) -> dict:\n",
    "    cooked = dict()\n",
    "    cooked[\"possible_moves\"] = dict()\n",
    "    # For each possible move\n",
    "    for ply in (Nimply(r, o) for r, c in enumerate(raw.rows) for o in range(1, c + 1)):\n",
    "        tmp = deepcopy(raw)\n",
    "        tmp.nimming(ply)\n",
    "        cooked[\"possible_moves\"][ply] = nim_sum(tmp)\n",
    "    return cooked\n",
    "\n",
    "# Selects a move from the possible moves\n",
    "def optimal(state: Nim) -> Nimply:\n",
    "    # Generates the possible moves and their score\n",
    "    analysis = analize(state)\n",
    "    logging.debug(f\"analysis:\\n{pformat(analysis)}\")\n",
    "    # Filters for moves that don't make the game lost (score = 0)\n",
    "    spicy_moves = [ply for ply, ns in analysis[\"possible_moves\"].items() if ns != 0]\n",
    "    if not spicy_moves:\n",
    "        spicy_moves = list(analysis[\"possible_moves\"].keys())\n",
    "    # Selects a random move from the possible moves\n",
    "    ply = random.choice(spicy_moves)\n",
    "    return ply"
   ]
  },
  {
   "cell_type": "code",
   "execution_count": 61,
   "metadata": {},
   "outputs": [],
   "source": [
    "# # corresponding index of move_scores in the hash_table of strategies\n",
    "# MOVES_DICTIONARY = {\n",
    "#     0: 'AA',\n",
    "#     1: 'BA',\n",
    "#     2: 'BB',\n",
    "#     3: 'CA',\n",
    "#     4: 'CB',\n",
    "#     5: 'CC',\n",
    "#     6: 'DA',\n",
    "#     7: 'DB',\n",
    "#     8: 'DC',\n",
    "#     9: 'DD',\n",
    "# }"
   ]
  },
  {
   "cell_type": "code",
   "execution_count": 65,
   "metadata": {},
   "outputs": [],
   "source": [
    "# SET_OF_ALLOWED_MOVES = set()\n",
    "# for value in MOVES_DICTIONARY.values():\n",
    "#     SET_OF_ALLOWED_MOVES.add(value)\n",
    "\n",
    "# print(SET_OF_ALLOWED_MOVES)"
   ]
  },
  {
   "cell_type": "code",
   "execution_count": 8,
   "metadata": {},
   "outputs": [],
   "source": [
    "class CustomHashTable:\n",
    "    def __init__(self):\n",
    "        self.hash_table = {}\n",
    "\n",
    "    def hash_function(self, key):\n",
    "        hash_value = ord(key[0]) * 10000 + ord(key[1]) * 1000 + ord(key[2]) * 100 + ord(key[3]) * 10 + ord(key[4])\n",
    "        return hash_value\n",
    "\n",
    "    def insert(self, key, value):\n",
    "        # index = self.hash_function(key)\n",
    "        index = key\n",
    "        if index not in self.hash_table:\n",
    "            scores = []\n",
    "            for _ in range(10):\n",
    "                scores.append(random.randint(1, 10))\n",
    "            self.hash_table[index] = scores\n",
    "        self.hash_table[index] = value\n",
    "\n",
    "    # if index not yet discovered, create it and initialize it with a random value between 1 and 10\n",
    "    def get(self, key):\n",
    "        # index = self.hash_function(key)\n",
    "        index = key\n",
    "        if index not in self.hash_table:\n",
    "            scores = []\n",
    "            for _ in range(10):\n",
    "                scores.append(random.randint(1, 10))\n",
    "            self.hash_table[index] = scores\n",
    "        return self.hash_table[index]\n",
    "    \n",
    "    def get_keys(self):\n",
    "        # here it should reconstruct the keys from numbers to strings\n",
    "        return list(self.hash_table.keys())"
   ]
  },
  {
   "cell_type": "code",
   "execution_count": 10,
   "metadata": {},
   "outputs": [
    {
     "name": "stdout",
     "output_type": "stream",
     "text": [
      "['DDZDD', 'DDZDP', 'DDZDQ', 'DDDDD']\n"
     ]
    }
   ],
   "source": [
    "hash_table = CustomHashTable()\n",
    "hash_table.get(\"DDZDD\")\n",
    "hash_table.get(\"DDZDP\")\n",
    "hash_table.get(\"DDZDQ\")\n",
    "hash_table.get(\"DDDDD\")\n",
    "\n",
    "keys = hash_table.get_keys()\n",
    "print(keys)"
   ]
  },
  {
   "cell_type": "code",
   "execution_count": 11,
   "metadata": {},
   "outputs": [
    {
     "name": "stdout",
     "output_type": "stream",
     "text": [
      "1\n"
     ]
    }
   ],
   "source": [
    "def generate_gaussian_value(mean = 0, std_dev = 1):\n",
    "    # Genera un valore casuale basato sulla distribuzione normale (gaussiana)\n",
    "    value = random.gauss(mean, std_dev)\n",
    "\n",
    "    # Normalizza il valore nel range [0, 1] utilizzando la funzione di distribuzione cumulativa\n",
    "    # normalized_value = (value - mean) / std_dev\n",
    "\n",
    "    # Assicurati che il valore sia compreso tra 0 e 1\n",
    "    value = max(0, min(1, value))\n",
    "\n",
    "    return value\n",
    "\n",
    "generated_value = generate_gaussian_value()\n",
    "\n",
    "print(generated_value)"
   ]
  },
  {
   "cell_type": "code",
   "execution_count": 9,
   "metadata": {},
   "outputs": [],
   "source": [
    "# in version 3 removed randomness\n",
    "# @dataclass\n",
    "# class Strategy:\n",
    "#     # randomness: float\n",
    "#     hash_table: CustomHashTable = CustomHashTable()\n",
    "@dataclass\n",
    "class Strategy:\n",
    "    def __init__(self):\n",
    "        self.hash_table = CustomHashTable()"
   ]
  },
  {
   "cell_type": "code",
   "execution_count": 13,
   "metadata": {},
   "outputs": [
    {
     "name": "stdout",
     "output_type": "stream",
     "text": [
      "[3, 3, 7, 2, 7, 10, 9, 2, 5, 2]\n",
      "[1, 4, 7, 7, 5, 9, 6, 4, 2, 8]\n"
     ]
    }
   ],
   "source": [
    "strat = Strategy()\n",
    "print(strat.hash_table.get(\"AAAAA\"))\n",
    "\n",
    "strat2 = Strategy()\n",
    "print(strat2.hash_table.get(\"AAAAA\"))"
   ]
  },
  {
   "cell_type": "code",
   "execution_count": 10,
   "metadata": {},
   "outputs": [],
   "source": [
    "# Definition of parameters\n",
    "# NUMBER_OF_FITNESS_GAMES = 50\n",
    "# INITIAL_POPULATION = 100 * 2 # always divisible by 2\n",
    "# NUMBER_OF_GENERATIONS = 50\n",
    "best_strategy = None"
   ]
  },
  {
   "cell_type": "code",
   "execution_count": 11,
   "metadata": {},
   "outputs": [],
   "source": [
    "# Generates the initial population of strategies\n",
    "def generate_initial_population(number_of_individuals: int) -> list[Strategy]:\n",
    "    population = []\n",
    "    for _ in range(number_of_individuals):\n",
    "        population.append(\n",
    "            Strategy())\n",
    "    return population"
   ]
  },
  {
   "cell_type": "code",
   "execution_count": 12,
   "metadata": {},
   "outputs": [],
   "source": [
    "# generates a list with all the possible moves (of type Nimply) at the current state of the game\n",
    "def possible_moves(state: Nim) -> list:\n",
    "    possible_moves = []\n",
    "    for ply in (Nimply(r, o) for r, c in enumerate(state.rows) for o in range(1, c + 1)):\n",
    "        try:\n",
    "            tmp = deepcopy(state)\n",
    "            tmp.nimming(ply)\n",
    "            possible_moves.append(ply)\n",
    "            # print(\"assertion ok\")\n",
    "        except AssertionError:\n",
    "            print(\"assertion error\")\n",
    "    return possible_moves"
   ]
  },
  {
   "cell_type": "markdown",
   "metadata": {},
   "source": [
    "#### How I describe the state:\n",
    "There are 4 possible types of actions: a, b, c, d.\n",
    "They are described with the number of elements left after applying the move:\n",
    "* a: 0\n",
    "* b: 1\n",
    "* c: >1 && even\n",
    "* d: >1 && odd\n",
    "\n",
    "There are 4 possible types of state: A, B, C, D.\n",
    "They are described with the number of possible actions applicable:\n",
    "* A: 1 (a)\n",
    "* B: 2 (a, b)\n",
    "* C: 3 (a, b, c)\n",
    "* D: 4 (a, b, c, d)\n",
    "\n",
    "There are 2 possible types of number of rows: even, odd.\n",
    "* even\n",
    "* odd\n",
    "\n",
    "The flow of game is D --> C --> B --> A\n",
    "\n",
    "It is not possible to go back so that this can be used to understand the distance from the end of a game"
   ]
  },
  {
   "cell_type": "code",
   "execution_count": 13,
   "metadata": {},
   "outputs": [],
   "source": [
    "def describe_game(actual_state: Nim):\n",
    "    state = deepcopy(actual_state)\n",
    "    max_value = max(state.rows)\n",
    "\n",
    "    if max_value > 3:\n",
    "        return 4\n",
    "    else:\n",
    "        return max_value"
   ]
  },
  {
   "cell_type": "code",
   "execution_count": 44,
   "metadata": {},
   "outputs": [
    {
     "name": "stdout",
     "output_type": "stream",
     "text": [
      "4\n",
      "4\n"
     ]
    }
   ],
   "source": [
    "nim = Nim(4)\n",
    "print(describe_game(nim))\n",
    "nim.nimming(Nimply(2, 3))\n",
    "print(describe_game(nim))"
   ]
  },
  {
   "cell_type": "code",
   "execution_count": 45,
   "metadata": {},
   "outputs": [
    {
     "name": "stdout",
     "output_type": "stream",
     "text": [
      "2\n"
     ]
    }
   ],
   "source": [
    "move = Nimply(2, 3)\n",
    "print(move.row)"
   ]
  },
  {
   "cell_type": "code",
   "execution_count": 14,
   "metadata": {},
   "outputs": [],
   "source": [
    "def describe_move(actual_state: Nim, move: Nimply):\n",
    "    element_before_move = actual_state.rows[move.row]\n",
    "    state = deepcopy(actual_state)\n",
    "    state.nimming(move)\n",
    "    new_elements = state.rows[move.row]\n",
    "\n",
    "    move_description = \"\"\n",
    "    if element_before_move > 3:\n",
    "        move_description += \"D\"\n",
    "    elif element_before_move == 3:\n",
    "        move_description += \"C\"\n",
    "    elif element_before_move == 2:\n",
    "        move_description += \"B\"\n",
    "    else:\n",
    "        move_description += \"A\"\n",
    "\n",
    "    if new_elements > 1:\n",
    "        if new_elements % 2 == 0:\n",
    "            move_description += \"C\"\n",
    "        else:\n",
    "            move_description += \"D\"\n",
    "    else:\n",
    "        move_description += chr(64 + 1 + new_elements)\n",
    "\n",
    "    return move_description"
   ]
  },
  {
   "cell_type": "code",
   "execution_count": 46,
   "metadata": {},
   "outputs": [
    {
     "name": "stdout",
     "output_type": "stream",
     "text": [
      "CC\n"
     ]
    }
   ],
   "source": [
    "nim = Nim(3)\n",
    "move = Nimply(1, 1)\n",
    "print(describe_move(nim, move))"
   ]
  },
  {
   "cell_type": "code",
   "execution_count": 15,
   "metadata": {},
   "outputs": [],
   "source": [
    "def generate_hash_key(actual_state: Nim):\n",
    "    state = deepcopy(actual_state)\n",
    "    key = \"\"\n",
    "\n",
    "    # first character = [A, B, C, D] = category of the actual state\n",
    "    state_category = max(state.rows)\n",
    "    if state_category > 3:\n",
    "        key += \"D\"\n",
    "    else:\n",
    "        key += chr(state_category + 64)\n",
    "\n",
    "    # second character = [U, P, D, Z] = uno, pari, dispari or zero for rows of category A\n",
    "    # third character = [U, P, D, Z] = uno, pari, dispari or zero for rows of category B\n",
    "    # fourth character = [U, P, D, Z] = uno, pari, dispari or zero for rows of category C\n",
    "    # fifth character = [U, P, D] = uno, pari, dispari for rows of category D\n",
    "    a_category_rows = 0\n",
    "    b_category_rows = 0\n",
    "    c_category_rows = 0\n",
    "    d_category_rows = 0\n",
    "    for row in state.rows:\n",
    "        if row > 3:\n",
    "            d_category_rows += 1\n",
    "        elif row == 3:\n",
    "            c_category_rows += 1\n",
    "        elif row == 2:\n",
    "            b_category_rows += 1\n",
    "        else:\n",
    "            a_category_rows += 1\n",
    "\n",
    "    if a_category_rows > 0:\n",
    "        if a_category_rows == 1:\n",
    "            key += \"U\"\n",
    "        elif a_category_rows % 2 == 0:\n",
    "            key += \"P\"\n",
    "        else:\n",
    "            key += \"D\"\n",
    "    else:\n",
    "        key += \"Z\"\n",
    "\n",
    "    if b_category_rows > 0:\n",
    "        if b_category_rows == 1:\n",
    "            key += \"U\"\n",
    "        elif b_category_rows % 2 == 0:\n",
    "            key += \"P\"\n",
    "        else:\n",
    "            key += \"D\"\n",
    "    else:\n",
    "        key += \"Z\"\n",
    "\n",
    "    if c_category_rows > 0:\n",
    "        if c_category_rows == 1:\n",
    "            key += \"U\"\n",
    "        elif c_category_rows % 2 == 0:\n",
    "            key += \"P\"\n",
    "        else:\n",
    "            key += \"D\"\n",
    "    else:\n",
    "        key += \"Z\"\n",
    "\n",
    "    if d_category_rows > 0:\n",
    "        if d_category_rows == 1:\n",
    "            key += \"U\"\n",
    "        elif d_category_rows % 2 == 0:\n",
    "            key += \"P\"\n",
    "        else:\n",
    "            key += \"D\"\n",
    "    else:\n",
    "        key += \"Z\"\n",
    "\n",
    "    return key  \n",
    "    "
   ]
  },
  {
   "cell_type": "code",
   "execution_count": 53,
   "metadata": {},
   "outputs": [
    {
     "name": "stdout",
     "output_type": "stream",
     "text": [
      "BPPZZ\n"
     ]
    }
   ],
   "source": [
    "nim = Nim(4)\n",
    "nim.nimming(Nimply(1, 2))\n",
    "nim.nimming(Nimply(2, 3))\n",
    "nim.nimming(Nimply(3, 5))\n",
    "# nim.nimming(Nimply(4, 7))\n",
    "print(generate_hash_key(nim))"
   ]
  },
  {
   "cell_type": "markdown",
   "metadata": {},
   "source": [
    "#### How to choose a move\n",
    "The idea is based on attaching a coefficient that varies during training to the type of row and type of move that are multiplied by type of state and even or odd rows number\n",
    "\n",
    "type_of_row_chosen = A, B, C, D  (row chosen)\n",
    "type_of_move_chosen = a, b, c, d (number of elements from row chosen)\n",
    "\n",
    "type_of_state = A, B, C, D\n",
    "even_or_odd_rows = even, odd\n",
    "\n",
    "Strategy parameters (coefficients):\n",
    "    state_score"
   ]
  },
  {
   "cell_type": "markdown",
   "metadata": {},
   "source": [
    "La classe CustomHashTable è utilizzata per gestire i geni delle strategie:\n",
    "ogni gene è una hash table che, per ogni entry, possiede una lista in cui ci sono le mosse possibili in un determinato stato.\n",
    "\n",
    "L'idea consiste nel codificare nella hash table tutte le possibili situazioni di gioco che, dopo un'analisi possono essere categorizzate per ridurre drasticamente il numero di combinazioni che, altrimenti, crescerebbe in maniera incontrollabile.\n",
    "L'idea alla base è che, dato uno stato, esso può essere univocamente descritto con una stringa di 5 lettere:\n",
    "1. A, B, C, D: rappresenta il tipo di stato\n",
    "2. P,D,Z: rappresenta se le righe di tipo A sono pari, dispari o non presenti (Zero)\n",
    "3. P,D,Z: rappresenta se le righe di tipo B sono pari, dispari o non presenti (Zero)\n",
    "4. P,D,Z: rappresenta se le righe di tipo C sono pari, dispari o non presenti (Zero)\n",
    "5. P,D: rappresenta se le righe di tipo D sono pari o dispari (non possono essere zero, altrimenti lo stato sarebbe C)\n",
    "\n",
    "Una volta codificato lo stato, la chiave sarà un array di 5 caratteri che punterà ad una lista che al più potrà avere 10 valori: ogni valore rappresenta il punteggio dato ad una certa mossa.\n",
    "Il valore massimo è 10 in quanto è possibile effettuare un'operazione di categorizzazione anche sulle mosse, le quali vengono descritte dall'effetto che generano:\n",
    "1. tipo a: rimangono 0 elementi nella riga\n",
    "2. tipo b: rimane 1 elemento nella riga\n",
    "3. tipo c: rimane più di un elemento nella riga ma in numero pari\n",
    "4. tipo d: rimane più di un elemento nella riga ma in numero dispari\n",
    "\n",
    "esempio: stato = [1, 3, 5, 7, 9] = DDZZP = stato tipo D, Dispari righe di tipo A, Zero righe di tipo B, Zero righe di tipo C, Pari righe di tipo D.\n",
    "\n",
    "Questa codifica è efficiente in quanto permette di descrivere un numero teoricamente illimitato di stati diversi nello stesso modo:\n",
    "[0, 0, 5, 7, 1, 3, 3] = DDZZP\n",
    "\n",
    "Come si può notare, due stati totalmente diversi sono codificati dallo stesso hash.\n",
    "\n",
    "Allo stesso modo, le mosse possibili in questi due stati sono della stessa tipologia:\n",
    "[(A, a), (D, a), (D, b), (D, c), (D, d)]\n",
    "In ordine: data una riga A, posso lasciare zero elementi nella riga, data una riga D posso lasciare 0, 1, pari o dispari elementi.\n",
    "Ognuna delle codifiche delle mosse viene tradotta da una funzione che seleziona una qualunque delle mosse appartenenti a quella categoria che avranno tutte lo stesso effetto nello stato corrente del gioco.\n",
    "\n",
    "Il numero di chiavi diverse possibili è di 4 * 3 * 3 * 3 * 2 = 216 che viene portato a 80 in quanto molti dei 216 stati sono illegali.\n",
    "* Chiavi che codificano gli stati di tipo A: APZZZ e ADZZZ --> TOT: 2\n",
    "* Chiavi che codificano gli stati di tipo B: BZPZZ, BPPZZ, BDPZZ, BZDZZ, BPDZZ, BDDZZ --> TOT: 6\n",
    "* Chiavi che codificano gli stati di tipo B: CZZPZ, ..., CDDDZ --> TOT: 18\n",
    "* Chiavi che codificano gli stati di tipo B: DZZZP, ..., DDDDD --> TOT: 54\n",
    "Per un totale di 2 + 6 + 18 + 54 = 80\n",
    "\n",
    "Ognuna di queste codifiche ha al più 10 elementi nella lista a cui punta per un limite massimo di 800 valori che, considerando quelli illegali, è sicuramente un dato gestibile."
   ]
  },
  {
   "cell_type": "code",
   "execution_count": 44,
   "metadata": {},
   "outputs": [],
   "source": [
    "NUMBER_OF_FITNESS_GAMES = 1000"
   ]
  },
  {
   "cell_type": "code",
   "execution_count": 45,
   "metadata": {},
   "outputs": [],
   "source": [
    "# this should let strategies play against each other and assign a score to each of them based on the number of wins\n",
    "def fitness_function(strategy: Strategy, num_games = NUMBER_OF_FITNESS_GAMES) -> int:\n",
    "    score = 0\n",
    "    for _ in range(num_games):\n",
    "        # everytime the strategy wins it gets a point\n",
    "        # for starting in range(2):\n",
    "        #     # plays half of the times firts and half of the times as second\n",
    "        #     if nim_match(optimal, strategy, player = starting, fitness = True) == 1:\n",
    "        #         score += 1\n",
    "        if nim_match(optimal, strategy, fitness = True) == 1:\n",
    "            score += 1\n",
    "    return score"
   ]
  },
  {
   "cell_type": "code",
   "execution_count": 18,
   "metadata": {},
   "outputs": [],
   "source": [
    "def crossover(mother: Strategy, father: Strategy):\n",
    "    child1 = Strategy()\n",
    "    child2 = Strategy()\n",
    "\n",
    "    # set_keys_mother = set(mother.hash_table.hash_table.keys())\n",
    "    # set_keys_father = set(father.hash_table.hash_table.keys())\n",
    "    # set_keys_childrend = set_keys_mother.union(set_keys_father)\n",
    "    set_keys_mother = set(mother.hash_table.get_keys())\n",
    "    set_keys_father = set(father.hash_table.get_keys())\n",
    "    set_keys_childrend = set_keys_mother.union(set_keys_father)\n",
    "\n",
    "    # print(\"set_keys_mother: \" + str(set_keys_mother))\n",
    "    # print(\"set_keys_father: \" + str(set_keys_father))\n",
    "    # print(\"set_keys_childrend: \" + str(set_keys_childrend))\n",
    "\n",
    "    for key in set_keys_childrend:\n",
    "        # print(\"key: \" + str(key))\n",
    "        if key in set_keys_mother and key in set_keys_father:\n",
    "            # print(\"crossover\")\n",
    "            child_1_scores = []\n",
    "            child_2_scores = []\n",
    "\n",
    "            mother_scores = mother.hash_table.get(key)\n",
    "            # print(\"mother_scores: \" + str(mother_scores))\n",
    "            father_scores = father.hash_table.get(key)\n",
    "            # print(\"father_scores: \" + str(father_scores))\n",
    "\n",
    "            i_love_mum = 1\n",
    "            for i in range(10):\n",
    "                if mother_scores[i] == 0 or father_scores[i] == 0:\n",
    "                    # print(\"zero\")\n",
    "                    child_1_scores.append(0)\n",
    "                    child_2_scores.append(0)\n",
    "                else:\n",
    "                    if i_love_mum == 1:\n",
    "                        child_1_scores.append(mother_scores[i])\n",
    "                        child_2_scores.append(father_scores[i])\n",
    "                        i_love_mum = 0\n",
    "                    else:\n",
    "                        child_1_scores.append(father_scores[i])\n",
    "                        child_2_scores.append(mother_scores[i])\n",
    "                        i_love_mum = 1\n",
    "            child1.hash_table.insert(key, child_1_scores)\n",
    "            child2.hash_table.insert(key, child_2_scores)\n",
    "        elif key in set_keys_mother:\n",
    "            child1.hash_table.insert(key, mother.hash_table.get(key))\n",
    "            child2.hash_table.insert(key, mother.hash_table.get(key))\n",
    "        else:\n",
    "            child1.hash_table.insert(key, father.hash_table.get(key))\n",
    "            child2.hash_table.insert(key, father.hash_table.get(key))\n",
    "\n",
    "    return child1, child2"
   ]
  },
  {
   "cell_type": "code",
   "execution_count": 26,
   "metadata": {},
   "outputs": [
    {
     "name": "stdout",
     "output_type": "stream",
     "text": [
      "mother DDDDD:  [1, 2, 3, 4, 5, 0, 7, 8, 9, 10]\n",
      "mother DDDDP:  [4, 4, 1, 6, 9, 9, 7, 7, 6, 10]\n",
      "father DDDDD:  [10, 9, 0, 7, 6, 5, 4, 3, 2, 1]\n",
      "father DDDPP:  [6, 9, 9, 6, 1, 2, 1, 8, 7, 8]\n",
      "child DDDDD:  [1, 9, 0, 4, 6, 0, 7, 3, 9, 1]\n",
      "child DDDDP:  [4, 4, 1, 6, 9, 9, 7, 7, 6, 10]\n",
      "child DDDDD:  [10, 2, 0, 7, 5, 0, 4, 8, 2, 10]\n",
      "child DDDDP:  [4, 4, 1, 6, 9, 9, 7, 7, 6, 10]\n"
     ]
    }
   ],
   "source": [
    "population = generate_initial_population(2)\n",
    "mother = population[0]\n",
    "mother.hash_table.insert(\"DDDDD\", [1, 2, 3, 4, 5, 0, 7, 8, 9, 10])\n",
    "print(\"mother DDDDD: \", mother.hash_table.get(\"DDDDD\"))\n",
    "# mother.hash_table.insert(\"DDDDP\", [1, 2, 3, 4, 5, 0, 7, 8, 9, 10])\n",
    "print(\"mother DDDDP: \", mother.hash_table.get(\"DDDDP\"))\n",
    "father = population[1]\n",
    "father.hash_table.insert(\"DDDDD\", [10, 9, 0, 7, 6, 5, 4, 3, 2, 1])\n",
    "print(\"father DDDDD: \", father.hash_table.get(\"DDDDD\"))\n",
    "# father.hash_table.insert(\"DPZPD\", [10, 9, 0, 7, 6, 5, 4, 3, 2, 1])\n",
    "print(\"father DDDPP: \", father.hash_table.get(\"DDDPP\"))\n",
    "child1, child2 = crossover(mother, father)\n",
    "print(\"child DDDDD: \", child1.hash_table.get(\"DDDDD\"))\n",
    "print(\"child DDDDP: \", child1.hash_table.get(\"DDDDP\"))\n",
    "print(\"child DDDDD: \", child2.hash_table.get(\"DDDDD\"))\n",
    "print(\"child DDDDP: \", child2.hash_table.get(\"DDDDP\"))"
   ]
  },
  {
   "cell_type": "code",
   "execution_count": 19,
   "metadata": {},
   "outputs": [],
   "source": [
    "def calculate_scores(population: list[Strategy]) -> list:\n",
    "    scores = []\n",
    "    for strategy in tqdm(population):\n",
    "        score = fitness_function(strategy)\n",
    "        scores.append((strategy, score))\n",
    "    \n",
    "    # sort scores by fitnes descending\n",
    "    scores.sort(key=lambda x: x[1], reverse=True)\n",
    "    return scores"
   ]
  },
  {
   "cell_type": "code",
   "execution_count": 20,
   "metadata": {},
   "outputs": [],
   "source": [
    "# gaussian mutation\n",
    "standard_deviation = 0.6\n",
    "MUTATION_RATE = 0.3"
   ]
  },
  {
   "cell_type": "code",
   "execution_count": 21,
   "metadata": {},
   "outputs": [],
   "source": [
    "def mutate(strategy: Strategy) -> Strategy:\n",
    "    mutated_strategy = Strategy()\n",
    "    set_keys = set(strategy.hash_table.get_keys())\n",
    "    for key in set_keys:\n",
    "        scores = strategy.hash_table.get(key)\n",
    "        for i in range(10):\n",
    "            if scores[i] != 0:\n",
    "                if random.random() < MUTATION_RATE:\n",
    "                    mutation = random.gauss(0, standard_deviation)\n",
    "                    # print(\"mutation: \" + str(mutation))\n",
    "                    mutated_score = scores[i] + mutation\n",
    "                    mutated_score = max(0.01, min(10, mutated_score))\n",
    "                    scores[i] = mutated_score\n",
    "        mutated_strategy.hash_table.insert(key, scores)\n",
    "    return mutated_strategy\n",
    "    "
   ]
  },
  {
   "cell_type": "code",
   "execution_count": 29,
   "metadata": {},
   "outputs": [
    {
     "name": "stdout",
     "output_type": "stream",
     "text": [
      "strat DDDDD:  [5, 3, 8, 5, 2, 1, 5, 4, 2, 2]\n",
      "strat DDDDP:  [9, 5, 7, 6, 7, 9, 7, 4, 1, 7]\n",
      "mutated_strat DDDDD:  [5, 3.0265537982091804, 7.593035724535243, 5.495360386840911, 2, 1, 5.19564931702359, 4.100446667545954, 2, 2.2254093488111266]\n",
      "mutated_strat DDDDP:  [9, 5, 6.501731691465317, 6, 7.349916658238208, 9, 6.844669542993761, 4, 1, 7.579698056528255]\n"
     ]
    }
   ],
   "source": [
    "strat = Strategy()\n",
    "print(\"strat DDDDD: \", strat.hash_table.get(\"DDDDD\"))\n",
    "print(\"strat DDDDP: \", strat.hash_table.get(\"DDDDP\"))\n",
    "mutated_strat = mutate(strat)\n",
    "print(\"mutated_strat DDDDD: \", mutated_strat.hash_table.get(\"DDDDD\"))\n",
    "print(\"mutated_strat DDDDP: \", mutated_strat.hash_table.get(\"DDDDP\"))"
   ]
  },
  {
   "cell_type": "code",
   "execution_count": 30,
   "metadata": {},
   "outputs": [],
   "source": [
    "# INITIAL_POPULATION = 200\n",
    "# NUMBER_OF_FITNESS_GAMES = 50 * 2 = 100\n",
    "# NUMBER_OF_GENERATIONS = 50"
   ]
  },
  {
   "cell_type": "code",
   "execution_count": 72,
   "metadata": {},
   "outputs": [],
   "source": [
    "# for score in scores[:5]:\n",
    "#     print(score[1])\n",
    "\n",
    "# print(\"...\")\n",
    "\n",
    "# for score in scores[-5:]:\n",
    "#     print(score[1])\n",
    "\n",
    "# print(\"best score:\", scores[0][1])\n"
   ]
  },
  {
   "cell_type": "code",
   "execution_count": 22,
   "metadata": {},
   "outputs": [],
   "source": [
    "INITIAL_POPULATION = 64 # always divisible by 4\n",
    "NUMBER_OF_GENERATIONS = 50"
   ]
  },
  {
   "cell_type": "code",
   "execution_count": null,
   "metadata": {},
   "outputs": [],
   "source": [
    "population = generate_initial_population(INITIAL_POPULATION)\n",
    "scores = calculate_scores(population)"
   ]
  },
  {
   "cell_type": "code",
   "execution_count": 31,
   "metadata": {},
   "outputs": [],
   "source": [
    "# this returns the best strategy in a population after the application of the genetic algorithm\n",
    "# in version 7 I try to evolve separately for starting first and starting second\n",
    "# in version 8 I will try to change the evolution method into a tournament where strategies play against each other and the best ones are selected\n",
    "\n",
    "# first try (version 7): only evolve for starting second\n",
    "def evolve() -> Strategy:\n",
    "    # generate random strategies (initial population)\n",
    "    population = generate_initial_population(INITIAL_POPULATION)\n",
    "\n",
    "    # calculate the fitness of each strategy\n",
    "    scores = []\n",
    "    scores = calculate_scores(population)\n",
    "\n",
    "    best_score = scores[0][1]\n",
    "    print(\"best score:\", best_score)\n",
    "\n",
    "    # start the genetic algorithm\n",
    "    for _ in tqdm(range(NUMBER_OF_GENERATIONS)):\n",
    "        new_generation = []\n",
    "\n",
    "        # select the best strategies\n",
    "        # best_half = scores[:len(scores)//2]\n",
    "        best_quarter = scores[:len(scores)//4]\n",
    "        # best_ten = scores[:len(scores)//10]\n",
    "\n",
    "        # while len(best_quarter) > 0:\n",
    "        for _ in range((INITIAL_POPULATION - len(best_quarter)) // 2):\n",
    "            # crossover\n",
    "            # we pick randomly the mother and the father from the best quarter\n",
    "            mother = random.choice(best_quarter)\n",
    "            # best_quarter.pop(best_quarter.index(mother))\n",
    "            father = random.choice(best_quarter)\n",
    "            # best_quarter.pop(best_quarter.index(father))\n",
    "\n",
    "            # generate two children\n",
    "            child1, child2 = crossover(mother[0], father[0])\n",
    "\n",
    "            # mutation\n",
    "\n",
    "            child1 = mutate(child1)\n",
    "            child2 = mutate(child2)\n",
    "\n",
    "            new_generation.append(child1)\n",
    "            new_generation.append(child2)\n",
    "            # new_generation.append(mother[0])\n",
    "            # new_generation.append(father[0])\n",
    "\n",
    "        # calculate the fitness of each strategy\n",
    "        scores = []\n",
    "        scores = calculate_scores(new_generation)\n",
    "\n",
    "        # to not recompute again the fitness of the best quarter\n",
    "        scores += best_quarter\n",
    "        scores.sort(key=lambda x: x[1], reverse=True)\n",
    "        \n",
    "        print(\"best score:\", scores[0][1])\n",
    "\n",
    "    # return the best strategy\n",
    "    print(\"scores after training: \", scores)\n",
    "    \n",
    "    return scores[0][0]"
   ]
  },
  {
   "cell_type": "code",
   "execution_count": 46,
   "metadata": {},
   "outputs": [
    {
     "data": {
      "application/vnd.jupyter.widget-view+json": {
       "model_id": "b03cf913e1734de1887f6bd5014edcd4",
       "version_major": 2,
       "version_minor": 0
      },
      "text/plain": [
       "  0%|          | 0/64 [00:00<?, ?it/s]"
      ]
     },
     "metadata": {},
     "output_type": "display_data"
    },
    {
     "name": "stdout",
     "output_type": "stream",
     "text": [
      "best score: 425\n"
     ]
    },
    {
     "data": {
      "application/vnd.jupyter.widget-view+json": {
       "model_id": "d8488dd44c4b4fe480ef58126ffa30b4",
       "version_major": 2,
       "version_minor": 0
      },
      "text/plain": [
       "  0%|          | 0/50 [00:00<?, ?it/s]"
      ]
     },
     "metadata": {},
     "output_type": "display_data"
    },
    {
     "data": {
      "application/vnd.jupyter.widget-view+json": {
       "model_id": "d64a61fd087c47f3a681ee99b4b56a99",
       "version_major": 2,
       "version_minor": 0
      },
      "text/plain": [
       "  0%|          | 0/48 [00:00<?, ?it/s]"
      ]
     },
     "metadata": {},
     "output_type": "display_data"
    },
    {
     "name": "stdout",
     "output_type": "stream",
     "text": [
      "best score: 425\n"
     ]
    },
    {
     "data": {
      "application/vnd.jupyter.widget-view+json": {
       "model_id": "694101939d5347e69d0f18ddc0770908",
       "version_major": 2,
       "version_minor": 0
      },
      "text/plain": [
       "  0%|          | 0/48 [00:00<?, ?it/s]"
      ]
     },
     "metadata": {},
     "output_type": "display_data"
    },
    {
     "name": "stdout",
     "output_type": "stream",
     "text": [
      "best score: 425\n"
     ]
    },
    {
     "data": {
      "application/vnd.jupyter.widget-view+json": {
       "model_id": "fb5c4d480486433da9146387b05fbf42",
       "version_major": 2,
       "version_minor": 0
      },
      "text/plain": [
       "  0%|          | 0/48 [00:00<?, ?it/s]"
      ]
     },
     "metadata": {},
     "output_type": "display_data"
    },
    {
     "name": "stdout",
     "output_type": "stream",
     "text": [
      "best score: 425\n"
     ]
    },
    {
     "data": {
      "application/vnd.jupyter.widget-view+json": {
       "model_id": "aef58d90135c41b987a74be5547ae484",
       "version_major": 2,
       "version_minor": 0
      },
      "text/plain": [
       "  0%|          | 0/48 [00:00<?, ?it/s]"
      ]
     },
     "metadata": {},
     "output_type": "display_data"
    },
    {
     "name": "stdout",
     "output_type": "stream",
     "text": [
      "best score: 425\n"
     ]
    },
    {
     "data": {
      "application/vnd.jupyter.widget-view+json": {
       "model_id": "5f52d8a586a0425f81d42edaecb9a149",
       "version_major": 2,
       "version_minor": 0
      },
      "text/plain": [
       "  0%|          | 0/48 [00:00<?, ?it/s]"
      ]
     },
     "metadata": {},
     "output_type": "display_data"
    },
    {
     "name": "stdout",
     "output_type": "stream",
     "text": [
      "best score: 425\n"
     ]
    },
    {
     "data": {
      "application/vnd.jupyter.widget-view+json": {
       "model_id": "d47fad0fb3754327913e5047c3bd2cb8",
       "version_major": 2,
       "version_minor": 0
      },
      "text/plain": [
       "  0%|          | 0/48 [00:00<?, ?it/s]"
      ]
     },
     "metadata": {},
     "output_type": "display_data"
    },
    {
     "name": "stdout",
     "output_type": "stream",
     "text": [
      "best score: 425\n"
     ]
    },
    {
     "data": {
      "application/vnd.jupyter.widget-view+json": {
       "model_id": "4fdf7bbd777d465cb928949a0738dd08",
       "version_major": 2,
       "version_minor": 0
      },
      "text/plain": [
       "  0%|          | 0/48 [00:00<?, ?it/s]"
      ]
     },
     "metadata": {},
     "output_type": "display_data"
    },
    {
     "name": "stdout",
     "output_type": "stream",
     "text": [
      "best score: 426\n"
     ]
    },
    {
     "data": {
      "application/vnd.jupyter.widget-view+json": {
       "model_id": "0a3add1b25e9482c94863475dd94a544",
       "version_major": 2,
       "version_minor": 0
      },
      "text/plain": [
       "  0%|          | 0/48 [00:00<?, ?it/s]"
      ]
     },
     "metadata": {},
     "output_type": "display_data"
    },
    {
     "name": "stdout",
     "output_type": "stream",
     "text": [
      "best score: 429\n"
     ]
    },
    {
     "data": {
      "application/vnd.jupyter.widget-view+json": {
       "model_id": "a10d3d97b3764efcb3f219d0477447fd",
       "version_major": 2,
       "version_minor": 0
      },
      "text/plain": [
       "  0%|          | 0/48 [00:00<?, ?it/s]"
      ]
     },
     "metadata": {},
     "output_type": "display_data"
    },
    {
     "name": "stdout",
     "output_type": "stream",
     "text": [
      "best score: 429\n"
     ]
    },
    {
     "data": {
      "application/vnd.jupyter.widget-view+json": {
       "model_id": "72b545c7ce8c46f7a0d6bfba530c6771",
       "version_major": 2,
       "version_minor": 0
      },
      "text/plain": [
       "  0%|          | 0/48 [00:00<?, ?it/s]"
      ]
     },
     "metadata": {},
     "output_type": "display_data"
    },
    {
     "name": "stdout",
     "output_type": "stream",
     "text": [
      "best score: 429\n"
     ]
    },
    {
     "data": {
      "application/vnd.jupyter.widget-view+json": {
       "model_id": "3de79ff06ec64a17861e0c903f2af018",
       "version_major": 2,
       "version_minor": 0
      },
      "text/plain": [
       "  0%|          | 0/48 [00:00<?, ?it/s]"
      ]
     },
     "metadata": {},
     "output_type": "display_data"
    },
    {
     "name": "stdout",
     "output_type": "stream",
     "text": [
      "best score: 429\n"
     ]
    },
    {
     "data": {
      "application/vnd.jupyter.widget-view+json": {
       "model_id": "dc26a75025b049acb56177f274dfeaa8",
       "version_major": 2,
       "version_minor": 0
      },
      "text/plain": [
       "  0%|          | 0/48 [00:00<?, ?it/s]"
      ]
     },
     "metadata": {},
     "output_type": "display_data"
    },
    {
     "name": "stdout",
     "output_type": "stream",
     "text": [
      "best score: 429\n"
     ]
    },
    {
     "data": {
      "application/vnd.jupyter.widget-view+json": {
       "model_id": "f4bf0127149c4484bea29c6e93c496f4",
       "version_major": 2,
       "version_minor": 0
      },
      "text/plain": [
       "  0%|          | 0/48 [00:00<?, ?it/s]"
      ]
     },
     "metadata": {},
     "output_type": "display_data"
    },
    {
     "name": "stdout",
     "output_type": "stream",
     "text": [
      "best score: 431\n"
     ]
    },
    {
     "data": {
      "application/vnd.jupyter.widget-view+json": {
       "model_id": "020ede2b21164daaa106998ac7a2a17f",
       "version_major": 2,
       "version_minor": 0
      },
      "text/plain": [
       "  0%|          | 0/48 [00:00<?, ?it/s]"
      ]
     },
     "metadata": {},
     "output_type": "display_data"
    },
    {
     "name": "stdout",
     "output_type": "stream",
     "text": [
      "best score: 431\n"
     ]
    },
    {
     "data": {
      "application/vnd.jupyter.widget-view+json": {
       "model_id": "741c3cf0ad20498ebd4ceb3e3efc627f",
       "version_major": 2,
       "version_minor": 0
      },
      "text/plain": [
       "  0%|          | 0/48 [00:00<?, ?it/s]"
      ]
     },
     "metadata": {},
     "output_type": "display_data"
    },
    {
     "name": "stdout",
     "output_type": "stream",
     "text": [
      "best score: 431\n"
     ]
    },
    {
     "data": {
      "application/vnd.jupyter.widget-view+json": {
       "model_id": "ea411f85d556402cbd7f0610d59e649d",
       "version_major": 2,
       "version_minor": 0
      },
      "text/plain": [
       "  0%|          | 0/48 [00:00<?, ?it/s]"
      ]
     },
     "metadata": {},
     "output_type": "display_data"
    },
    {
     "name": "stdout",
     "output_type": "stream",
     "text": [
      "best score: 431\n"
     ]
    },
    {
     "data": {
      "application/vnd.jupyter.widget-view+json": {
       "model_id": "6f20989f7fac466f8674f7d1ce55d4ce",
       "version_major": 2,
       "version_minor": 0
      },
      "text/plain": [
       "  0%|          | 0/48 [00:00<?, ?it/s]"
      ]
     },
     "metadata": {},
     "output_type": "display_data"
    },
    {
     "name": "stdout",
     "output_type": "stream",
     "text": [
      "best score: 431\n"
     ]
    },
    {
     "data": {
      "application/vnd.jupyter.widget-view+json": {
       "model_id": "5fab99b4ea0b4f699e81498dea9f696d",
       "version_major": 2,
       "version_minor": 0
      },
      "text/plain": [
       "  0%|          | 0/48 [00:00<?, ?it/s]"
      ]
     },
     "metadata": {},
     "output_type": "display_data"
    },
    {
     "name": "stdout",
     "output_type": "stream",
     "text": [
      "best score: 442\n"
     ]
    },
    {
     "data": {
      "application/vnd.jupyter.widget-view+json": {
       "model_id": "76b898af460349d4a3cc788ba8ccd7e2",
       "version_major": 2,
       "version_minor": 0
      },
      "text/plain": [
       "  0%|          | 0/48 [00:00<?, ?it/s]"
      ]
     },
     "metadata": {},
     "output_type": "display_data"
    },
    {
     "name": "stdout",
     "output_type": "stream",
     "text": [
      "best score: 442\n"
     ]
    },
    {
     "data": {
      "application/vnd.jupyter.widget-view+json": {
       "model_id": "1b8f2a37707c474fb86fe5a41759747e",
       "version_major": 2,
       "version_minor": 0
      },
      "text/plain": [
       "  0%|          | 0/48 [00:00<?, ?it/s]"
      ]
     },
     "metadata": {},
     "output_type": "display_data"
    },
    {
     "name": "stdout",
     "output_type": "stream",
     "text": [
      "best score: 442\n"
     ]
    },
    {
     "data": {
      "application/vnd.jupyter.widget-view+json": {
       "model_id": "fbac8eac4eb04996aa57e7cce66d5315",
       "version_major": 2,
       "version_minor": 0
      },
      "text/plain": [
       "  0%|          | 0/48 [00:00<?, ?it/s]"
      ]
     },
     "metadata": {},
     "output_type": "display_data"
    },
    {
     "name": "stdout",
     "output_type": "stream",
     "text": [
      "best score: 442\n"
     ]
    },
    {
     "data": {
      "application/vnd.jupyter.widget-view+json": {
       "model_id": "aa7cc351cb814ed3a2e38b87aef5b2bc",
       "version_major": 2,
       "version_minor": 0
      },
      "text/plain": [
       "  0%|          | 0/48 [00:00<?, ?it/s]"
      ]
     },
     "metadata": {},
     "output_type": "display_data"
    },
    {
     "name": "stdout",
     "output_type": "stream",
     "text": [
      "best score: 442\n"
     ]
    },
    {
     "data": {
      "application/vnd.jupyter.widget-view+json": {
       "model_id": "b979e6fe57fb4ecc8630c15cefd8cade",
       "version_major": 2,
       "version_minor": 0
      },
      "text/plain": [
       "  0%|          | 0/48 [00:00<?, ?it/s]"
      ]
     },
     "metadata": {},
     "output_type": "display_data"
    },
    {
     "name": "stdout",
     "output_type": "stream",
     "text": [
      "best score: 442\n"
     ]
    },
    {
     "data": {
      "application/vnd.jupyter.widget-view+json": {
       "model_id": "94af67ca5d504963a5ad2babf38b24ce",
       "version_major": 2,
       "version_minor": 0
      },
      "text/plain": [
       "  0%|          | 0/48 [00:00<?, ?it/s]"
      ]
     },
     "metadata": {},
     "output_type": "display_data"
    },
    {
     "name": "stdout",
     "output_type": "stream",
     "text": [
      "best score: 442\n"
     ]
    },
    {
     "data": {
      "application/vnd.jupyter.widget-view+json": {
       "model_id": "b4061bc846b34a37b55aea1b7ed024fc",
       "version_major": 2,
       "version_minor": 0
      },
      "text/plain": [
       "  0%|          | 0/48 [00:00<?, ?it/s]"
      ]
     },
     "metadata": {},
     "output_type": "display_data"
    },
    {
     "name": "stdout",
     "output_type": "stream",
     "text": [
      "best score: 442\n"
     ]
    },
    {
     "data": {
      "application/vnd.jupyter.widget-view+json": {
       "model_id": "6c12781a7124421bbc8eff187d851488",
       "version_major": 2,
       "version_minor": 0
      },
      "text/plain": [
       "  0%|          | 0/48 [00:00<?, ?it/s]"
      ]
     },
     "metadata": {},
     "output_type": "display_data"
    },
    {
     "name": "stdout",
     "output_type": "stream",
     "text": [
      "best score: 442\n"
     ]
    },
    {
     "data": {
      "application/vnd.jupyter.widget-view+json": {
       "model_id": "dcd4523f84b94f639b119424841ece3a",
       "version_major": 2,
       "version_minor": 0
      },
      "text/plain": [
       "  0%|          | 0/48 [00:00<?, ?it/s]"
      ]
     },
     "metadata": {},
     "output_type": "display_data"
    },
    {
     "name": "stdout",
     "output_type": "stream",
     "text": [
      "best score: 442\n"
     ]
    },
    {
     "data": {
      "application/vnd.jupyter.widget-view+json": {
       "model_id": "eef156241c97434c970c01112d687aba",
       "version_major": 2,
       "version_minor": 0
      },
      "text/plain": [
       "  0%|          | 0/48 [00:00<?, ?it/s]"
      ]
     },
     "metadata": {},
     "output_type": "display_data"
    },
    {
     "name": "stdout",
     "output_type": "stream",
     "text": [
      "best score: 442\n"
     ]
    },
    {
     "data": {
      "application/vnd.jupyter.widget-view+json": {
       "model_id": "c7514a78493b4d3e8c1faf61e2061a32",
       "version_major": 2,
       "version_minor": 0
      },
      "text/plain": [
       "  0%|          | 0/48 [00:00<?, ?it/s]"
      ]
     },
     "metadata": {},
     "output_type": "display_data"
    },
    {
     "name": "stdout",
     "output_type": "stream",
     "text": [
      "best score: 442\n"
     ]
    },
    {
     "data": {
      "application/vnd.jupyter.widget-view+json": {
       "model_id": "a4236a6605aa4c66b62b5da5cf7016c4",
       "version_major": 2,
       "version_minor": 0
      },
      "text/plain": [
       "  0%|          | 0/48 [00:00<?, ?it/s]"
      ]
     },
     "metadata": {},
     "output_type": "display_data"
    },
    {
     "name": "stdout",
     "output_type": "stream",
     "text": [
      "best score: 442\n"
     ]
    },
    {
     "data": {
      "application/vnd.jupyter.widget-view+json": {
       "model_id": "602527847485492699a7ddff955f4849",
       "version_major": 2,
       "version_minor": 0
      },
      "text/plain": [
       "  0%|          | 0/48 [00:00<?, ?it/s]"
      ]
     },
     "metadata": {},
     "output_type": "display_data"
    },
    {
     "ename": "KeyboardInterrupt",
     "evalue": "",
     "output_type": "error",
     "traceback": [
      "\u001b[0;31m---------------------------------------------------------------------------\u001b[0m",
      "\u001b[0;31mKeyboardInterrupt\u001b[0m                         Traceback (most recent call last)",
      "Cell \u001b[0;32mIn[46], line 1\u001b[0m\n\u001b[0;32m----> 1\u001b[0m best_strategy \u001b[38;5;241m=\u001b[39m \u001b[43mevolve\u001b[49m\u001b[43m(\u001b[49m\u001b[43m)\u001b[49m\n",
      "Cell \u001b[0;32mIn[31], line 50\u001b[0m, in \u001b[0;36mevolve\u001b[0;34m()\u001b[0m\n\u001b[1;32m     45\u001b[0m     \u001b[38;5;66;03m# new_generation.append(mother[0])\u001b[39;00m\n\u001b[1;32m     46\u001b[0m     \u001b[38;5;66;03m# new_generation.append(father[0])\u001b[39;00m\n\u001b[1;32m     47\u001b[0m \n\u001b[1;32m     48\u001b[0m \u001b[38;5;66;03m# calculate the fitness of each strategy\u001b[39;00m\n\u001b[1;32m     49\u001b[0m scores \u001b[38;5;241m=\u001b[39m []\n\u001b[0;32m---> 50\u001b[0m scores \u001b[38;5;241m=\u001b[39m \u001b[43mcalculate_scores\u001b[49m\u001b[43m(\u001b[49m\u001b[43mnew_generation\u001b[49m\u001b[43m)\u001b[49m\n\u001b[1;32m     52\u001b[0m \u001b[38;5;66;03m# to not recompute again the fitness of the best quarter\u001b[39;00m\n\u001b[1;32m     53\u001b[0m scores \u001b[38;5;241m+\u001b[39m\u001b[38;5;241m=\u001b[39m best_quarter\n",
      "Cell \u001b[0;32mIn[19], line 4\u001b[0m, in \u001b[0;36mcalculate_scores\u001b[0;34m(population)\u001b[0m\n\u001b[1;32m      2\u001b[0m scores \u001b[38;5;241m=\u001b[39m []\n\u001b[1;32m      3\u001b[0m \u001b[38;5;28;01mfor\u001b[39;00m strategy \u001b[38;5;129;01min\u001b[39;00m tqdm(population):\n\u001b[0;32m----> 4\u001b[0m     score \u001b[38;5;241m=\u001b[39m \u001b[43mfitness_function\u001b[49m\u001b[43m(\u001b[49m\u001b[43mstrategy\u001b[49m\u001b[43m)\u001b[49m\n\u001b[1;32m      5\u001b[0m     scores\u001b[38;5;241m.\u001b[39mappend((strategy, score))\n\u001b[1;32m      7\u001b[0m \u001b[38;5;66;03m# sort scores by fitnes descending\u001b[39;00m\n",
      "Cell \u001b[0;32mIn[45], line 10\u001b[0m, in \u001b[0;36mfitness_function\u001b[0;34m(strategy, num_games)\u001b[0m\n\u001b[1;32m      3\u001b[0m score \u001b[38;5;241m=\u001b[39m \u001b[38;5;241m0\u001b[39m\n\u001b[1;32m      4\u001b[0m \u001b[38;5;28;01mfor\u001b[39;00m _ \u001b[38;5;129;01min\u001b[39;00m \u001b[38;5;28mrange\u001b[39m(num_games):\n\u001b[1;32m      5\u001b[0m     \u001b[38;5;66;03m# everytime the strategy wins it gets a point\u001b[39;00m\n\u001b[1;32m      6\u001b[0m     \u001b[38;5;66;03m# for starting in range(2):\u001b[39;00m\n\u001b[1;32m      7\u001b[0m     \u001b[38;5;66;03m#     # plays half of the times firts and half of the times as second\u001b[39;00m\n\u001b[1;32m      8\u001b[0m     \u001b[38;5;66;03m#     if nim_match(optimal, strategy, player = starting, fitness = True) == 1:\u001b[39;00m\n\u001b[1;32m      9\u001b[0m     \u001b[38;5;66;03m#         score += 1\u001b[39;00m\n\u001b[0;32m---> 10\u001b[0m     \u001b[38;5;28;01mif\u001b[39;00m \u001b[43mnim_match\u001b[49m\u001b[43m(\u001b[49m\u001b[43moptimal\u001b[49m\u001b[43m,\u001b[49m\u001b[43m \u001b[49m\u001b[43mstrategy\u001b[49m\u001b[43m,\u001b[49m\u001b[43m \u001b[49m\u001b[43mfitness\u001b[49m\u001b[43m \u001b[49m\u001b[38;5;241;43m=\u001b[39;49m\u001b[43m \u001b[49m\u001b[38;5;28;43;01mTrue\u001b[39;49;00m\u001b[43m)\u001b[49m \u001b[38;5;241m==\u001b[39m \u001b[38;5;241m1\u001b[39m:\n\u001b[1;32m     11\u001b[0m         score \u001b[38;5;241m+\u001b[39m\u001b[38;5;241m=\u001b[39m \u001b[38;5;241m1\u001b[39m\n\u001b[1;32m     12\u001b[0m \u001b[38;5;28;01mreturn\u001b[39;00m score\n",
      "Cell \u001b[0;32mIn[33], line 14\u001b[0m, in \u001b[0;36mnim_match\u001b[0;34m(strategy1, strategy2, nim_size, player, fitness, debug, winner)\u001b[0m\n\u001b[1;32m     12\u001b[0m \u001b[38;5;28;01mwhile\u001b[39;00m nim:\n\u001b[1;32m     13\u001b[0m     \u001b[38;5;28;01mif\u001b[39;00m player \u001b[38;5;241m==\u001b[39m \u001b[38;5;241m0\u001b[39m:\n\u001b[0;32m---> 14\u001b[0m         selected_move \u001b[38;5;241m=\u001b[39m \u001b[43magents\u001b[49m\u001b[43m[\u001b[49m\u001b[43mplayer\u001b[49m\u001b[43m]\u001b[49m\u001b[43m(\u001b[49m\u001b[43mnim\u001b[49m\u001b[43m)\u001b[49m\n\u001b[1;32m     15\u001b[0m     \u001b[38;5;28;01melse\u001b[39;00m:\n\u001b[1;32m     16\u001b[0m         selected_move \u001b[38;5;241m=\u001b[39m evolution_strategy(nim, agents[player])\n",
      "Cell \u001b[0;32mIn[7], line 24\u001b[0m, in \u001b[0;36moptimal\u001b[0;34m(state)\u001b[0m\n\u001b[1;32m     22\u001b[0m \u001b[38;5;28;01mdef\u001b[39;00m \u001b[38;5;21moptimal\u001b[39m(state: Nim) \u001b[38;5;241m-\u001b[39m\u001b[38;5;241m>\u001b[39m Nimply:\n\u001b[1;32m     23\u001b[0m     \u001b[38;5;66;03m# Generates the possible moves and their score\u001b[39;00m\n\u001b[0;32m---> 24\u001b[0m     analysis \u001b[38;5;241m=\u001b[39m \u001b[43manalize\u001b[49m\u001b[43m(\u001b[49m\u001b[43mstate\u001b[49m\u001b[43m)\u001b[49m\n\u001b[1;32m     25\u001b[0m     logging\u001b[38;5;241m.\u001b[39mdebug(\u001b[38;5;124mf\u001b[39m\u001b[38;5;124m\"\u001b[39m\u001b[38;5;124manalysis:\u001b[39m\u001b[38;5;130;01m\\n\u001b[39;00m\u001b[38;5;132;01m{\u001b[39;00mpformat(analysis)\u001b[38;5;132;01m}\u001b[39;00m\u001b[38;5;124m\"\u001b[39m)\n\u001b[1;32m     26\u001b[0m     \u001b[38;5;66;03m# Filters for moves that don't make the game lost (score = 0)\u001b[39;00m\n",
      "Cell \u001b[0;32mIn[7], line 18\u001b[0m, in \u001b[0;36manalize\u001b[0;34m(raw)\u001b[0m\n\u001b[1;32m     16\u001b[0m     tmp \u001b[38;5;241m=\u001b[39m deepcopy(raw)\n\u001b[1;32m     17\u001b[0m     tmp\u001b[38;5;241m.\u001b[39mnimming(ply)\n\u001b[0;32m---> 18\u001b[0m     cooked[\u001b[38;5;124m\"\u001b[39m\u001b[38;5;124mpossible_moves\u001b[39m\u001b[38;5;124m\"\u001b[39m][ply] \u001b[38;5;241m=\u001b[39m \u001b[43mnim_sum\u001b[49m\u001b[43m(\u001b[49m\u001b[43mtmp\u001b[49m\u001b[43m)\u001b[49m\n\u001b[1;32m     19\u001b[0m \u001b[38;5;28;01mreturn\u001b[39;00m cooked\n",
      "Cell \u001b[0;32mIn[7], line 4\u001b[0m, in \u001b[0;36mnim_sum\u001b[0;34m(state)\u001b[0m\n\u001b[1;32m      2\u001b[0m \u001b[38;5;28;01mdef\u001b[39;00m \u001b[38;5;21mnim_sum\u001b[39m(state: Nim) \u001b[38;5;241m-\u001b[39m\u001b[38;5;241m>\u001b[39m \u001b[38;5;28mint\u001b[39m:\n\u001b[1;32m      3\u001b[0m     \u001b[38;5;66;03m# Transforms the rows into binary strings of length 32\u001b[39;00m\n\u001b[0;32m----> 4\u001b[0m     tmp \u001b[38;5;241m=\u001b[39m np\u001b[38;5;241m.\u001b[39marray([\u001b[38;5;28mtuple\u001b[39m(\u001b[38;5;28mint\u001b[39m(x) \u001b[38;5;28;01mfor\u001b[39;00m x \u001b[38;5;129;01min\u001b[39;00m \u001b[38;5;124mf\u001b[39m\u001b[38;5;124m\"\u001b[39m\u001b[38;5;132;01m{\u001b[39;00mc\u001b[38;5;132;01m:\u001b[39;00m\u001b[38;5;124m032b\u001b[39m\u001b[38;5;132;01m}\u001b[39;00m\u001b[38;5;124m\"\u001b[39m) \u001b[38;5;28;01mfor\u001b[39;00m c \u001b[38;5;129;01min\u001b[39;00m state\u001b[38;5;241m.\u001b[39mrows])\n\u001b[1;32m      5\u001b[0m     \u001b[38;5;66;03m# Xor of the rows\u001b[39;00m\n\u001b[1;32m      6\u001b[0m     xor \u001b[38;5;241m=\u001b[39m tmp\u001b[38;5;241m.\u001b[39msum(axis\u001b[38;5;241m=\u001b[39m\u001b[38;5;241m0\u001b[39m) \u001b[38;5;241m%\u001b[39m \u001b[38;5;241m2\u001b[39m\n",
      "Cell \u001b[0;32mIn[7], line 4\u001b[0m, in \u001b[0;36m<listcomp>\u001b[0;34m(.0)\u001b[0m\n\u001b[1;32m      2\u001b[0m \u001b[38;5;28;01mdef\u001b[39;00m \u001b[38;5;21mnim_sum\u001b[39m(state: Nim) \u001b[38;5;241m-\u001b[39m\u001b[38;5;241m>\u001b[39m \u001b[38;5;28mint\u001b[39m:\n\u001b[1;32m      3\u001b[0m     \u001b[38;5;66;03m# Transforms the rows into binary strings of length 32\u001b[39;00m\n\u001b[0;32m----> 4\u001b[0m     tmp \u001b[38;5;241m=\u001b[39m np\u001b[38;5;241m.\u001b[39marray([\u001b[38;5;28;43mtuple\u001b[39;49m\u001b[43m(\u001b[49m\u001b[38;5;28;43mint\u001b[39;49m\u001b[43m(\u001b[49m\u001b[43mx\u001b[49m\u001b[43m)\u001b[49m\u001b[43m \u001b[49m\u001b[38;5;28;43;01mfor\u001b[39;49;00m\u001b[43m \u001b[49m\u001b[43mx\u001b[49m\u001b[43m \u001b[49m\u001b[38;5;129;43;01min\u001b[39;49;00m\u001b[43m \u001b[49m\u001b[38;5;124;43mf\u001b[39;49m\u001b[38;5;124;43m\"\u001b[39;49m\u001b[38;5;132;43;01m{\u001b[39;49;00m\u001b[43mc\u001b[49m\u001b[38;5;132;43;01m:\u001b[39;49;00m\u001b[38;5;124;43m032b\u001b[39;49m\u001b[38;5;132;43;01m}\u001b[39;49;00m\u001b[38;5;124;43m\"\u001b[39;49m\u001b[43m)\u001b[49m \u001b[38;5;28;01mfor\u001b[39;00m c \u001b[38;5;129;01min\u001b[39;00m state\u001b[38;5;241m.\u001b[39mrows])\n\u001b[1;32m      5\u001b[0m     \u001b[38;5;66;03m# Xor of the rows\u001b[39;00m\n\u001b[1;32m      6\u001b[0m     xor \u001b[38;5;241m=\u001b[39m tmp\u001b[38;5;241m.\u001b[39msum(axis\u001b[38;5;241m=\u001b[39m\u001b[38;5;241m0\u001b[39m) \u001b[38;5;241m%\u001b[39m \u001b[38;5;241m2\u001b[39m\n",
      "Cell \u001b[0;32mIn[7], line 4\u001b[0m, in \u001b[0;36m<genexpr>\u001b[0;34m(.0)\u001b[0m\n\u001b[1;32m      2\u001b[0m \u001b[38;5;28;01mdef\u001b[39;00m \u001b[38;5;21mnim_sum\u001b[39m(state: Nim) \u001b[38;5;241m-\u001b[39m\u001b[38;5;241m>\u001b[39m \u001b[38;5;28mint\u001b[39m:\n\u001b[1;32m      3\u001b[0m     \u001b[38;5;66;03m# Transforms the rows into binary strings of length 32\u001b[39;00m\n\u001b[0;32m----> 4\u001b[0m     tmp \u001b[38;5;241m=\u001b[39m np\u001b[38;5;241m.\u001b[39marray([\u001b[38;5;28mtuple\u001b[39m(\u001b[38;5;28;43mint\u001b[39;49m\u001b[43m(\u001b[49m\u001b[43mx\u001b[49m\u001b[43m)\u001b[49m \u001b[38;5;28;01mfor\u001b[39;00m x \u001b[38;5;129;01min\u001b[39;00m \u001b[38;5;124mf\u001b[39m\u001b[38;5;124m\"\u001b[39m\u001b[38;5;132;01m{\u001b[39;00mc\u001b[38;5;132;01m:\u001b[39;00m\u001b[38;5;124m032b\u001b[39m\u001b[38;5;132;01m}\u001b[39;00m\u001b[38;5;124m\"\u001b[39m) \u001b[38;5;28;01mfor\u001b[39;00m c \u001b[38;5;129;01min\u001b[39;00m state\u001b[38;5;241m.\u001b[39mrows])\n\u001b[1;32m      5\u001b[0m     \u001b[38;5;66;03m# Xor of the rows\u001b[39;00m\n\u001b[1;32m      6\u001b[0m     xor \u001b[38;5;241m=\u001b[39m tmp\u001b[38;5;241m.\u001b[39msum(axis\u001b[38;5;241m=\u001b[39m\u001b[38;5;241m0\u001b[39m) \u001b[38;5;241m%\u001b[39m \u001b[38;5;241m2\u001b[39m\n",
      "\u001b[0;31mKeyboardInterrupt\u001b[0m: "
     ]
    }
   ],
   "source": [
    "best_strategy = evolve()"
   ]
  },
  {
   "cell_type": "code",
   "execution_count": 24,
   "metadata": {},
   "outputs": [],
   "source": [
    "def choose_based_on_scores(rows_scores: list[float]) -> int:\n",
    "    # calculates a weighted probability for each row based on the scores\n",
    "    total = sum(rows_scores)\n",
    "    probabilities = [score / total for score in rows_scores]\n",
    "    indices = list(range(len(rows_scores)))\n",
    "    chosen_index = random.choices(indices, probabilities)[0]\n",
    "    return chosen_index"
   ]
  },
  {
   "cell_type": "code",
   "execution_count": 25,
   "metadata": {},
   "outputs": [],
   "source": [
    "# corresponding index of move_scores in the hash_table of strategies\n",
    "MOVES_DICTIONARY = {\n",
    "    0: 'AA',\n",
    "    1: 'BA',\n",
    "    2: 'BB',\n",
    "    3: 'CA',\n",
    "    4: 'CB',\n",
    "    5: 'CC',\n",
    "    6: 'DA',\n",
    "    7: 'DB',\n",
    "    8: 'DC',\n",
    "    9: 'DD',\n",
    "}"
   ]
  },
  {
   "cell_type": "code",
   "execution_count": 26,
   "metadata": {},
   "outputs": [],
   "source": [
    "SET_OF_ALLOWED_MOVES = set()\n",
    "for value in MOVES_DICTIONARY.values():\n",
    "    SET_OF_ALLOWED_MOVES.add(value)\n",
    "\n",
    "# print(SET_OF_ALLOWED_MOVES)"
   ]
  },
  {
   "cell_type": "code",
   "execution_count": 27,
   "metadata": {},
   "outputs": [],
   "source": [
    "# the function that returns the move to do \n",
    "def evolution_strategy(state: Nim, strategy: Strategy) -> Nimply:\n",
    "    # generate the possible moves\n",
    "    allowed_moves = possible_moves(state)\n",
    "\n",
    "    # transform the list of allowed_moves into a list of move_types\n",
    "    allowed_moves_types = []\n",
    "    for move in allowed_moves:\n",
    "        allowed_moves_types.append(describe_move(state, move))\n",
    "\n",
    "    set_of_allowed_moves = set()\n",
    "    for value in allowed_moves_types:\n",
    "        set_of_allowed_moves.add(value)\n",
    "\n",
    "    set_of_not_allowed_moves = SET_OF_ALLOWED_MOVES - set_of_allowed_moves\n",
    "\n",
    "    # print(\"set_of_allowed_moves: \", set_of_allowed_moves)\n",
    "    # print(\"set_of_not_allowed_moves: \", set_of_not_allowed_moves)\n",
    "\n",
    "    # generate the hash_key of the state\n",
    "    hash_key = generate_hash_key(state)\n",
    "    # print(\"hash_key: \", hash_key)\n",
    "\n",
    "    # retrieve the scores of the moves from the hash_table\n",
    "    moves_scores = strategy.hash_table.get(hash_key)\n",
    "\n",
    "    # for each index retrieved from calling MOVES_DICTIONARY with the index of set_of_not_allowed_moves we set the score to 0 of moves_scores\n",
    "    for index in set_of_not_allowed_moves:\n",
    "        for key, value in MOVES_DICTIONARY.items():\n",
    "            if value == index:\n",
    "                moves_scores[key] = 0\n",
    "\n",
    "    # print(\"moves_scores: \", moves_scores)\n",
    "\n",
    "\n",
    "    # order moves_scores as a tuple of type (score, move_type) in descending order\n",
    "    moves_scores = list(zip(moves_scores, allowed_moves_types))\n",
    "    moves_scores.sort(key=lambda x: x[0], reverse=True)\n",
    "    # print(\"moves_scores: \", moves_scores)\n",
    "\n",
    "    # starting from the first move, check if it is in the list of allowed moves, if yes, return it\n",
    "    for move in moves_scores:\n",
    "        if move[1] in allowed_moves_types:\n",
    "            return allowed_moves[allowed_moves_types.index(move[1])]\n",
    "        \n",
    "    print(\"random move\")\n",
    "    return random.choice(allowed_moves)"
   ]
  },
  {
   "cell_type": "code",
   "execution_count": 94,
   "metadata": {},
   "outputs": [
    {
     "data": {
      "text/plain": [
       "Nimply(row=2, num_objects=1)"
      ]
     },
     "execution_count": 94,
     "metadata": {},
     "output_type": "execute_result"
    }
   ],
   "source": [
    "nim = Nim(6)\n",
    "nim.nimming(Nimply(5, 9))\n",
    "strategy = Strategy()\n",
    "evolution_strategy(nim, strategy)"
   ]
  },
  {
   "cell_type": "markdown",
   "metadata": {},
   "source": [
    "todo: \n",
    "per modificare gli scores bisogna tenere traccia delle mosse scelte e, una volta calcolato il verdetto della partita attribuire un punteggio positivo o negativo a tutte le mosse effettuate in quella partita"
   ]
  },
  {
   "cell_type": "code",
   "execution_count": 28,
   "metadata": {},
   "outputs": [],
   "source": [
    "NIM_SIZE = 3"
   ]
  },
  {
   "cell_type": "code",
   "execution_count": 33,
   "metadata": {},
   "outputs": [],
   "source": [
    "# player = 0 -> strategy1 plays first\n",
    "# player = 1 -> strategy2 plays first\n",
    "def nim_match(strategy1, strategy2, nim_size = NIM_SIZE, player = 0, fitness = False, debug = False, winner = False):\n",
    "    agents = (strategy1, strategy2)\n",
    "    if debug:\n",
    "        print(\"agent1: \", agents[0])\n",
    "        print(\"agent2: \", agents[1])\n",
    "    nim = Nim(nim_size)\n",
    "    logging.info(f\"init : {nim}\")\n",
    "    if debug:\n",
    "        print(f\"init : {nim}\")\n",
    "    while nim:\n",
    "        if player == 0:\n",
    "            selected_move = agents[player](nim)\n",
    "        else:\n",
    "            selected_move = evolution_strategy(nim, agents[player])\n",
    "        logging.info(f\"ply: player {player} plays {selected_move}\")\n",
    "        if debug:\n",
    "            print(f\"ply: player {player} plays {selected_move}\")\n",
    "        nim.nimming(selected_move)\n",
    "        logging.info(f\"status: {nim}\")\n",
    "        if debug:\n",
    "            print(f\"status: {nim}\")\n",
    "        player = 1 - player\n",
    "    logging.info(f\"status: Player {player} won!\")\n",
    "    if debug or winner:\n",
    "        print(f\"status: Player {player} won!\")\n",
    "    if fitness:\n",
    "        return player"
   ]
  },
  {
   "cell_type": "code",
   "execution_count": null,
   "metadata": {},
   "outputs": [],
   "source": [
    "# best_strategy = scores[0][0]\n",
    "# print(\"best_strategy: \", scores[0][1])\n",
    "\n",
    "keys = best_strategy.hash_table.get_keys()\n",
    "# print(\"keys: \", keys)\n",
    "\n",
    "for key in keys:\n",
    "    print(\"key: \", key)\n",
    "    print(\"scores: \", best_strategy.hash_table.get(key))"
   ]
  },
  {
   "cell_type": "code",
   "execution_count": null,
   "metadata": {},
   "outputs": [],
   "source": [
    "matches = 1000\n",
    "wins_first = 0\n",
    "wins_second = 0\n",
    "\n",
    "for _ in tqdm(range(matches)):\n",
    "    wins_second += nim_match(optimal, best_strategy, nim_size = 4, debug = False, fitness = True)\n",
    "    wins_first += nim_match(optimal, best_strategy, nim_size = 4, debug = False, player = 1, fitness = True)\n",
    "\n",
    "print(\"matches played: \", matches)\n",
    "print(\"---------------------------------\")\n",
    "print(\"wins playing first: \", wins_first)\n",
    "print(\"percentage of wins playing fist: \", wins_first/matches * 100, \"%\")\n",
    "print(\"---------------------------------\")\n",
    "print(\"wins playing second: \", wins_second)\n",
    "print(\"percentage of wins playing second: \", wins_second/matches * 100, \"%\")\n",
    "print(\"---------------------------------\")"
   ]
  },
  {
   "cell_type": "code",
   "execution_count": null,
   "metadata": {},
   "outputs": [],
   "source": [
    "nim_match(optimal, best_strategy, nim_size = 3, debug = True)"
   ]
  }
 ],
 "metadata": {
  "kernelspec": {
   "display_name": "Computational_Intelligence",
   "language": "python",
   "name": "python3"
  },
  "language_info": {
   "codemirror_mode": {
    "name": "ipython",
    "version": 3
   },
   "file_extension": ".py",
   "mimetype": "text/x-python",
   "name": "python",
   "nbconvert_exporter": "python",
   "pygments_lexer": "ipython3",
   "version": "3.10.13"
  }
 },
 "nbformat": 4,
 "nbformat_minor": 2
}
