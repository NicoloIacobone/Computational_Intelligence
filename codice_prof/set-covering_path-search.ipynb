{
 "cells": [
  {
   "cell_type": "code",
   "execution_count": 4,
   "metadata": {},
   "outputs": [],
   "source": [
    "from random import random\n",
    "from math import ceil\n",
    "from functools import reduce\n",
    "from collections import namedtuple, deque\n",
    "from queue import PriorityQueue\n",
    "\n",
    "import numpy as np\n",
    "from tqdm.auto import tqdm"
   ]
  },
  {
   "cell_type": "code",
   "execution_count": 5,
   "metadata": {},
   "outputs": [],
   "source": [
    "State = namedtuple('State', ['taken', 'not_taken'])\n",
    "\n",
    "\n",
    "def covered(state):\n",
    "    return reduce(\n",
    "        np.logical_or,\n",
    "        [SETS[i] for i in state.taken],\n",
    "        np.array([False for _ in range(PROBLEM_SIZE)]),\n",
    "    )\n",
    "\n",
    "\n",
    "def goal_check(state):\n",
    "    return np.all(covered(state))"
   ]
  },
  {
   "cell_type": "code",
   "execution_count": 7,
   "metadata": {},
   "outputs": [],
   "source": [
    "PROBLEM_SIZE = 50\n",
    "NUM_SETS = 100\n",
    "SETS = tuple(np.array([random() < 0.2 for _ in range(PROBLEM_SIZE)]) for _ in range(NUM_SETS))\n",
    "assert goal_check(State(set(range(NUM_SETS)), set())), \"Probelm not solvable\""
   ]
  },
  {
   "cell_type": "markdown",
   "metadata": {},
   "source": [
    "## Depth First"
   ]
  },
  {
   "cell_type": "code",
   "execution_count": 8,
   "metadata": {},
   "outputs": [
    {
     "name": "stderr",
     "output_type": "stream",
     "text": [
      "26it [00:00, 2108.51it/s]"
     ]
    },
    {
     "name": "stdout",
     "output_type": "stream",
     "text": [
      "Solved in 26 steps (26 tiles)\n"
     ]
    },
    {
     "name": "stderr",
     "output_type": "stream",
     "text": [
      "\n"
     ]
    }
   ],
   "source": [
    "frontier = deque()\n",
    "state = State(set(), set(range(NUM_SETS)))\n",
    "frontier.append(state)\n",
    "\n",
    "counter = 0\n",
    "current_state = frontier.pop()\n",
    "with tqdm(total=None) as pbar:\n",
    "    while not goal_check(current_state):\n",
    "        counter += 1\n",
    "        for action in current_state[1]:\n",
    "            new_state = State(\n",
    "                current_state.taken ^ {action},\n",
    "                current_state.not_taken ^ {action},\n",
    "            )\n",
    "            frontier.append(new_state)\n",
    "        current_state = frontier.pop()\n",
    "        pbar.update(1)\n",
    "\n",
    "print(f\"Solved in {counter:,} steps ({len(current_state.taken)} tiles)\")"
   ]
  },
  {
   "cell_type": "markdown",
   "metadata": {},
   "source": [
    "## Breadth First"
   ]
  },
  {
   "cell_type": "code",
   "execution_count": 9,
   "metadata": {},
   "outputs": [
    {
     "name": "stderr",
     "output_type": "stream",
     "text": [
      "2238it [00:02, 1007.04it/s]\n"
     ]
    },
    {
     "ename": "KeyboardInterrupt",
     "evalue": "",
     "output_type": "error",
     "traceback": [
      "\u001b[0;31m---------------------------------------------------------------------------\u001b[0m",
      "\u001b[0;31mKeyboardInterrupt\u001b[0m                         Traceback (most recent call last)",
      "\u001b[1;32m/Users/nicoloiacobone/Desktop/nico/UNIVERSITA/MAGISTRALE/3_Semestre/Computational_Intelligence/Labs/My_Fork/Computational_Intelligence/codice_prof/set-covering_path-search.ipynb Cella 7\u001b[0m line \u001b[0;36m1\n\u001b[1;32m      <a href='vscode-notebook-cell:/Users/nicoloiacobone/Desktop/nico/UNIVERSITA/MAGISTRALE/3_Semestre/Computational_Intelligence/Labs/My_Fork/Computational_Intelligence/codice_prof/set-covering_path-search.ipynb#W6sZmlsZQ%3D%3D?line=8'>9</a>\u001b[0m counter \u001b[39m+\u001b[39m\u001b[39m=\u001b[39m \u001b[39m1\u001b[39m\n\u001b[1;32m     <a href='vscode-notebook-cell:/Users/nicoloiacobone/Desktop/nico/UNIVERSITA/MAGISTRALE/3_Semestre/Computational_Intelligence/Labs/My_Fork/Computational_Intelligence/codice_prof/set-covering_path-search.ipynb#W6sZmlsZQ%3D%3D?line=9'>10</a>\u001b[0m \u001b[39mfor\u001b[39;00m action \u001b[39min\u001b[39;00m current_state[\u001b[39m1\u001b[39m]:\n\u001b[0;32m---> <a href='vscode-notebook-cell:/Users/nicoloiacobone/Desktop/nico/UNIVERSITA/MAGISTRALE/3_Semestre/Computational_Intelligence/Labs/My_Fork/Computational_Intelligence/codice_prof/set-covering_path-search.ipynb#W6sZmlsZQ%3D%3D?line=10'>11</a>\u001b[0m     new_state \u001b[39m=\u001b[39m State(\n\u001b[1;32m     <a href='vscode-notebook-cell:/Users/nicoloiacobone/Desktop/nico/UNIVERSITA/MAGISTRALE/3_Semestre/Computational_Intelligence/Labs/My_Fork/Computational_Intelligence/codice_prof/set-covering_path-search.ipynb#W6sZmlsZQ%3D%3D?line=11'>12</a>\u001b[0m         current_state\u001b[39m.\u001b[39;49mtaken \u001b[39m^\u001b[39;49m {action},\n\u001b[1;32m     <a href='vscode-notebook-cell:/Users/nicoloiacobone/Desktop/nico/UNIVERSITA/MAGISTRALE/3_Semestre/Computational_Intelligence/Labs/My_Fork/Computational_Intelligence/codice_prof/set-covering_path-search.ipynb#W6sZmlsZQ%3D%3D?line=12'>13</a>\u001b[0m         current_state\u001b[39m.\u001b[39;49mnot_taken \u001b[39m^\u001b[39;49m {action},\n\u001b[1;32m     <a href='vscode-notebook-cell:/Users/nicoloiacobone/Desktop/nico/UNIVERSITA/MAGISTRALE/3_Semestre/Computational_Intelligence/Labs/My_Fork/Computational_Intelligence/codice_prof/set-covering_path-search.ipynb#W6sZmlsZQ%3D%3D?line=13'>14</a>\u001b[0m     )\n\u001b[1;32m     <a href='vscode-notebook-cell:/Users/nicoloiacobone/Desktop/nico/UNIVERSITA/MAGISTRALE/3_Semestre/Computational_Intelligence/Labs/My_Fork/Computational_Intelligence/codice_prof/set-covering_path-search.ipynb#W6sZmlsZQ%3D%3D?line=14'>15</a>\u001b[0m     frontier\u001b[39m.\u001b[39mappend(new_state)\n\u001b[1;32m     <a href='vscode-notebook-cell:/Users/nicoloiacobone/Desktop/nico/UNIVERSITA/MAGISTRALE/3_Semestre/Computational_Intelligence/Labs/My_Fork/Computational_Intelligence/codice_prof/set-covering_path-search.ipynb#W6sZmlsZQ%3D%3D?line=15'>16</a>\u001b[0m current_state \u001b[39m=\u001b[39m frontier\u001b[39m.\u001b[39mpopleft()\n",
      "File \u001b[0;32m<string>:1\u001b[0m, in \u001b[0;36m<lambda>\u001b[0;34m(_cls, taken, not_taken)\u001b[0m\n",
      "\u001b[0;31mKeyboardInterrupt\u001b[0m: "
     ]
    }
   ],
   "source": [
    "frontier = deque()\n",
    "state = State(set(), set(range(NUM_SETS)))\n",
    "frontier.append(state)\n",
    "\n",
    "counter = 0\n",
    "current_state = frontier.popleft()\n",
    "with tqdm(total=None) as pbar:\n",
    "    while not goal_check(current_state):\n",
    "        counter += 1\n",
    "        for action in current_state[1]:\n",
    "            new_state = State(\n",
    "                current_state.taken ^ {action},\n",
    "                current_state.not_taken ^ {action},\n",
    "            )\n",
    "            frontier.append(new_state)\n",
    "        current_state = frontier.popleft()\n",
    "        pbar.update(1)\n",
    "\n",
    "print(f\"Solved in {counter:,} steps ({len(current_state.taken)} tiles)\")"
   ]
  },
  {
   "cell_type": "markdown",
   "metadata": {},
   "source": [
    "## Greedy Best First"
   ]
  },
  {
   "cell_type": "code",
   "execution_count": 10,
   "metadata": {},
   "outputs": [],
   "source": [
    "def f(state):\n",
    "    missing_size = PROBLEM_SIZE - sum(covered(state))\n",
    "    return missing_size"
   ]
  },
  {
   "cell_type": "code",
   "execution_count": 11,
   "metadata": {},
   "outputs": [
    {
     "name": "stderr",
     "output_type": "stream",
     "text": [
      "7it [00:00, 805.07it/s]"
     ]
    },
    {
     "name": "stdout",
     "output_type": "stream",
     "text": [
      "Solved in 7 steps (7 tiles)\n"
     ]
    },
    {
     "name": "stderr",
     "output_type": "stream",
     "text": [
      "\n"
     ]
    }
   ],
   "source": [
    "frontier = PriorityQueue()\n",
    "state = State(set(), set(range(NUM_SETS)))\n",
    "frontier.put((f(state), state))\n",
    "\n",
    "counter = 0\n",
    "_, current_state = frontier.get()\n",
    "with tqdm(total=None) as pbar:\n",
    "    while not goal_check(current_state):\n",
    "        counter += 1\n",
    "        for action in current_state[1]:\n",
    "            new_state = State(\n",
    "                current_state.taken ^ {action},\n",
    "                current_state.not_taken ^ {action},\n",
    "            )\n",
    "            frontier.put((f(new_state), new_state))\n",
    "        _, current_state = frontier.get()\n",
    "        pbar.update(1)\n",
    "\n",
    "print(f\"Solved in {counter:,} steps ({len(current_state.taken)} tiles)\")"
   ]
  },
  {
   "cell_type": "markdown",
   "metadata": {},
   "source": [
    "## A*"
   ]
  },
  {
   "cell_type": "code",
   "execution_count": 12,
   "metadata": {},
   "outputs": [],
   "source": [
    "def h(state):\n",
    "    largest_set_size = max(sum(s) for s in SETS)\n",
    "    missing_size = PROBLEM_SIZE - sum(covered(state))\n",
    "    optimistic_estimate = ceil(missing_size / largest_set_size)\n",
    "    return optimistic_estimate\n",
    "\n",
    "\n",
    "def h2(state):\n",
    "    already_covered = covered(state)\n",
    "    if np.all(already_covered):\n",
    "        return 0\n",
    "    largest_set_size = max(sum(np.logical_and(s, np.logical_not(already_covered))) for s in SETS)\n",
    "    missing_size = PROBLEM_SIZE - sum(already_covered)\n",
    "    optimistic_estimate = ceil(missing_size / largest_set_size)\n",
    "    return optimistic_estimate\n",
    "\n",
    "\n",
    "def h3(state):\n",
    "    already_covered = covered(state)\n",
    "    if np.all(already_covered):\n",
    "        return 0\n",
    "    missing_size = PROBLEM_SIZE - sum(already_covered)\n",
    "    candidates = sorted((sum(np.logical_and(s, np.logical_not(already_covered))) for s in SETS), reverse=True)\n",
    "    taken = 1\n",
    "    while sum(candidates[:taken]) < missing_size:\n",
    "        taken += 1\n",
    "    return taken\n",
    "\n",
    "\n",
    "def f(state):\n",
    "    return len(state.taken) + h3(state)"
   ]
  },
  {
   "cell_type": "code",
   "execution_count": 13,
   "metadata": {},
   "outputs": [
    {
     "name": "stderr",
     "output_type": "stream",
     "text": [
      "20975it [14:12, 24.60it/s]\n"
     ]
    },
    {
     "ename": "KeyboardInterrupt",
     "evalue": "",
     "output_type": "error",
     "traceback": [
      "\u001b[0;31m---------------------------------------------------------------------------\u001b[0m",
      "\u001b[0;31mKeyboardInterrupt\u001b[0m                         Traceback (most recent call last)",
      "\u001b[1;32m/Users/nicoloiacobone/Desktop/nico/UNIVERSITA/MAGISTRALE/3_Semestre/Computational_Intelligence/Labs/My_Fork/Computational_Intelligence/codice_prof/set-covering_path-search.ipynb Cella 13\u001b[0m line \u001b[0;36m1\n\u001b[1;32m     <a href='vscode-notebook-cell:/Users/nicoloiacobone/Desktop/nico/UNIVERSITA/MAGISTRALE/3_Semestre/Computational_Intelligence/Labs/My_Fork/Computational_Intelligence/codice_prof/set-covering_path-search.ipynb#X15sZmlsZQ%3D%3D?line=9'>10</a>\u001b[0m \u001b[39mfor\u001b[39;00m action \u001b[39min\u001b[39;00m current_state[\u001b[39m1\u001b[39m]:\n\u001b[1;32m     <a href='vscode-notebook-cell:/Users/nicoloiacobone/Desktop/nico/UNIVERSITA/MAGISTRALE/3_Semestre/Computational_Intelligence/Labs/My_Fork/Computational_Intelligence/codice_prof/set-covering_path-search.ipynb#X15sZmlsZQ%3D%3D?line=10'>11</a>\u001b[0m     new_state \u001b[39m=\u001b[39m State(\n\u001b[1;32m     <a href='vscode-notebook-cell:/Users/nicoloiacobone/Desktop/nico/UNIVERSITA/MAGISTRALE/3_Semestre/Computational_Intelligence/Labs/My_Fork/Computational_Intelligence/codice_prof/set-covering_path-search.ipynb#X15sZmlsZQ%3D%3D?line=11'>12</a>\u001b[0m         current_state\u001b[39m.\u001b[39mtaken \u001b[39m^\u001b[39m {action},\n\u001b[1;32m     <a href='vscode-notebook-cell:/Users/nicoloiacobone/Desktop/nico/UNIVERSITA/MAGISTRALE/3_Semestre/Computational_Intelligence/Labs/My_Fork/Computational_Intelligence/codice_prof/set-covering_path-search.ipynb#X15sZmlsZQ%3D%3D?line=12'>13</a>\u001b[0m         current_state\u001b[39m.\u001b[39mnot_taken \u001b[39m^\u001b[39m {action},\n\u001b[1;32m     <a href='vscode-notebook-cell:/Users/nicoloiacobone/Desktop/nico/UNIVERSITA/MAGISTRALE/3_Semestre/Computational_Intelligence/Labs/My_Fork/Computational_Intelligence/codice_prof/set-covering_path-search.ipynb#X15sZmlsZQ%3D%3D?line=13'>14</a>\u001b[0m     )\n\u001b[0;32m---> <a href='vscode-notebook-cell:/Users/nicoloiacobone/Desktop/nico/UNIVERSITA/MAGISTRALE/3_Semestre/Computational_Intelligence/Labs/My_Fork/Computational_Intelligence/codice_prof/set-covering_path-search.ipynb#X15sZmlsZQ%3D%3D?line=14'>15</a>\u001b[0m     frontier\u001b[39m.\u001b[39mput((f(new_state), new_state))\n\u001b[1;32m     <a href='vscode-notebook-cell:/Users/nicoloiacobone/Desktop/nico/UNIVERSITA/MAGISTRALE/3_Semestre/Computational_Intelligence/Labs/My_Fork/Computational_Intelligence/codice_prof/set-covering_path-search.ipynb#X15sZmlsZQ%3D%3D?line=15'>16</a>\u001b[0m _, current_state \u001b[39m=\u001b[39m frontier\u001b[39m.\u001b[39mget()\n\u001b[1;32m     <a href='vscode-notebook-cell:/Users/nicoloiacobone/Desktop/nico/UNIVERSITA/MAGISTRALE/3_Semestre/Computational_Intelligence/Labs/My_Fork/Computational_Intelligence/codice_prof/set-covering_path-search.ipynb#X15sZmlsZQ%3D%3D?line=16'>17</a>\u001b[0m pbar\u001b[39m.\u001b[39mupdate(\u001b[39m1\u001b[39m)\n",
      "\u001b[1;32m/Users/nicoloiacobone/Desktop/nico/UNIVERSITA/MAGISTRALE/3_Semestre/Computational_Intelligence/Labs/My_Fork/Computational_Intelligence/codice_prof/set-covering_path-search.ipynb Cella 13\u001b[0m line \u001b[0;36m3\n\u001b[1;32m     <a href='vscode-notebook-cell:/Users/nicoloiacobone/Desktop/nico/UNIVERSITA/MAGISTRALE/3_Semestre/Computational_Intelligence/Labs/My_Fork/Computational_Intelligence/codice_prof/set-covering_path-search.ipynb#X15sZmlsZQ%3D%3D?line=29'>30</a>\u001b[0m \u001b[39mdef\u001b[39;00m \u001b[39mf\u001b[39m(state):\n\u001b[0;32m---> <a href='vscode-notebook-cell:/Users/nicoloiacobone/Desktop/nico/UNIVERSITA/MAGISTRALE/3_Semestre/Computational_Intelligence/Labs/My_Fork/Computational_Intelligence/codice_prof/set-covering_path-search.ipynb#X15sZmlsZQ%3D%3D?line=30'>31</a>\u001b[0m     \u001b[39mreturn\u001b[39;00m \u001b[39mlen\u001b[39m(state\u001b[39m.\u001b[39mtaken) \u001b[39m+\u001b[39m h3(state)\n",
      "\u001b[1;32m/Users/nicoloiacobone/Desktop/nico/UNIVERSITA/MAGISTRALE/3_Semestre/Computational_Intelligence/Labs/My_Fork/Computational_Intelligence/codice_prof/set-covering_path-search.ipynb Cella 13\u001b[0m line \u001b[0;36m2\n\u001b[1;32m     <a href='vscode-notebook-cell:/Users/nicoloiacobone/Desktop/nico/UNIVERSITA/MAGISTRALE/3_Semestre/Computational_Intelligence/Labs/My_Fork/Computational_Intelligence/codice_prof/set-covering_path-search.ipynb#X15sZmlsZQ%3D%3D?line=20'>21</a>\u001b[0m     \u001b[39mreturn\u001b[39;00m \u001b[39m0\u001b[39m\n\u001b[1;32m     <a href='vscode-notebook-cell:/Users/nicoloiacobone/Desktop/nico/UNIVERSITA/MAGISTRALE/3_Semestre/Computational_Intelligence/Labs/My_Fork/Computational_Intelligence/codice_prof/set-covering_path-search.ipynb#X15sZmlsZQ%3D%3D?line=21'>22</a>\u001b[0m missing_size \u001b[39m=\u001b[39m PROBLEM_SIZE \u001b[39m-\u001b[39m \u001b[39msum\u001b[39m(already_covered)\n\u001b[0;32m---> <a href='vscode-notebook-cell:/Users/nicoloiacobone/Desktop/nico/UNIVERSITA/MAGISTRALE/3_Semestre/Computational_Intelligence/Labs/My_Fork/Computational_Intelligence/codice_prof/set-covering_path-search.ipynb#X15sZmlsZQ%3D%3D?line=22'>23</a>\u001b[0m candidates \u001b[39m=\u001b[39m \u001b[39msorted\u001b[39;49m((\u001b[39msum\u001b[39;49m(np\u001b[39m.\u001b[39;49mlogical_and(s, np\u001b[39m.\u001b[39;49mlogical_not(already_covered))) \u001b[39mfor\u001b[39;49;00m s \u001b[39min\u001b[39;49;00m SETS), reverse\u001b[39m=\u001b[39;49m\u001b[39mTrue\u001b[39;49;00m)\n\u001b[1;32m     <a href='vscode-notebook-cell:/Users/nicoloiacobone/Desktop/nico/UNIVERSITA/MAGISTRALE/3_Semestre/Computational_Intelligence/Labs/My_Fork/Computational_Intelligence/codice_prof/set-covering_path-search.ipynb#X15sZmlsZQ%3D%3D?line=23'>24</a>\u001b[0m taken \u001b[39m=\u001b[39m \u001b[39m1\u001b[39m\n\u001b[1;32m     <a href='vscode-notebook-cell:/Users/nicoloiacobone/Desktop/nico/UNIVERSITA/MAGISTRALE/3_Semestre/Computational_Intelligence/Labs/My_Fork/Computational_Intelligence/codice_prof/set-covering_path-search.ipynb#X15sZmlsZQ%3D%3D?line=24'>25</a>\u001b[0m \u001b[39mwhile\u001b[39;00m \u001b[39msum\u001b[39m(candidates[:taken]) \u001b[39m<\u001b[39m missing_size:\n",
      "\u001b[1;32m/Users/nicoloiacobone/Desktop/nico/UNIVERSITA/MAGISTRALE/3_Semestre/Computational_Intelligence/Labs/My_Fork/Computational_Intelligence/codice_prof/set-covering_path-search.ipynb Cella 13\u001b[0m line \u001b[0;36m2\n\u001b[1;32m     <a href='vscode-notebook-cell:/Users/nicoloiacobone/Desktop/nico/UNIVERSITA/MAGISTRALE/3_Semestre/Computational_Intelligence/Labs/My_Fork/Computational_Intelligence/codice_prof/set-covering_path-search.ipynb#X15sZmlsZQ%3D%3D?line=20'>21</a>\u001b[0m     \u001b[39mreturn\u001b[39;00m \u001b[39m0\u001b[39m\n\u001b[1;32m     <a href='vscode-notebook-cell:/Users/nicoloiacobone/Desktop/nico/UNIVERSITA/MAGISTRALE/3_Semestre/Computational_Intelligence/Labs/My_Fork/Computational_Intelligence/codice_prof/set-covering_path-search.ipynb#X15sZmlsZQ%3D%3D?line=21'>22</a>\u001b[0m missing_size \u001b[39m=\u001b[39m PROBLEM_SIZE \u001b[39m-\u001b[39m \u001b[39msum\u001b[39m(already_covered)\n\u001b[0;32m---> <a href='vscode-notebook-cell:/Users/nicoloiacobone/Desktop/nico/UNIVERSITA/MAGISTRALE/3_Semestre/Computational_Intelligence/Labs/My_Fork/Computational_Intelligence/codice_prof/set-covering_path-search.ipynb#X15sZmlsZQ%3D%3D?line=22'>23</a>\u001b[0m candidates \u001b[39m=\u001b[39m \u001b[39msorted\u001b[39m((\u001b[39msum\u001b[39m(np\u001b[39m.\u001b[39mlogical_and(s, np\u001b[39m.\u001b[39mlogical_not(already_covered))) \u001b[39mfor\u001b[39;00m s \u001b[39min\u001b[39;00m SETS), reverse\u001b[39m=\u001b[39m\u001b[39mTrue\u001b[39;00m)\n\u001b[1;32m     <a href='vscode-notebook-cell:/Users/nicoloiacobone/Desktop/nico/UNIVERSITA/MAGISTRALE/3_Semestre/Computational_Intelligence/Labs/My_Fork/Computational_Intelligence/codice_prof/set-covering_path-search.ipynb#X15sZmlsZQ%3D%3D?line=23'>24</a>\u001b[0m taken \u001b[39m=\u001b[39m \u001b[39m1\u001b[39m\n\u001b[1;32m     <a href='vscode-notebook-cell:/Users/nicoloiacobone/Desktop/nico/UNIVERSITA/MAGISTRALE/3_Semestre/Computational_Intelligence/Labs/My_Fork/Computational_Intelligence/codice_prof/set-covering_path-search.ipynb#X15sZmlsZQ%3D%3D?line=24'>25</a>\u001b[0m \u001b[39mwhile\u001b[39;00m \u001b[39msum\u001b[39m(candidates[:taken]) \u001b[39m<\u001b[39m missing_size:\n",
      "\u001b[0;31mKeyboardInterrupt\u001b[0m: "
     ]
    }
   ],
   "source": [
    "frontier = PriorityQueue()\n",
    "state = State(set(), set(range(NUM_SETS)))\n",
    "frontier.put((f(state), state))\n",
    "\n",
    "counter = 0\n",
    "_, current_state = frontier.get()\n",
    "with tqdm(total=None) as pbar:\n",
    "    while not goal_check(current_state):\n",
    "        counter += 1\n",
    "        for action in current_state[1]:\n",
    "            new_state = State(\n",
    "                current_state.taken ^ {action},\n",
    "                current_state.not_taken ^ {action},\n",
    "            )\n",
    "            frontier.put((f(new_state), new_state))\n",
    "        _, current_state = frontier.get()\n",
    "        pbar.update(1)\n",
    "\n",
    "print(f\"Solved in {counter:,} steps ({len(current_state.taken)} tiles)\")"
   ]
  }
 ],
 "metadata": {
  "kernelspec": {
   "display_name": "base",
   "language": "python",
   "name": "python3"
  },
  "language_info": {
   "codemirror_mode": {
    "name": "ipython",
    "version": 3
   },
   "file_extension": ".py",
   "mimetype": "text/x-python",
   "name": "python",
   "nbconvert_exporter": "python",
   "pygments_lexer": "ipython3",
   "version": "3.10.13"
  }
 },
 "nbformat": 4,
 "nbformat_minor": 2
}
