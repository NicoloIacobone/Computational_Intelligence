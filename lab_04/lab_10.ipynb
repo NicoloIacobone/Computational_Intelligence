{
 "cells": [
  {
   "cell_type": "code",
   "execution_count": 1,
   "metadata": {},
   "outputs": [],
   "source": [
    "from itertools import combinations\n",
    "from collections import namedtuple, defaultdict\n",
    "from random import choice\n",
    "from copy import deepcopy\n",
    "from abc import ABC, abstractmethod\n",
    "\n",
    "from tqdm.auto import tqdm\n",
    "import numpy as np"
   ]
  },
  {
   "cell_type": "markdown",
   "metadata": {},
   "source": [
    "## Problem : Reinforcement Learning for Tic-Tac-Toe Game"
   ]
  },
  {
   "cell_type": "markdown",
   "metadata": {},
   "source": [
    "In general, to develop a reinforcement learning algorithm, we need to define the following components:\n",
    "* **Environment** \n",
    "  * Possible states in the game environment\n",
    "  * Possible actions in each state\n",
    "  * Rewards for each action in each state\n",
    "\n",
    "* **Agent**\n",
    "  * Policy: the strategy to choose an action given a state\n",
    "  * Value function: the expected return of each state under a given policy\n",
    "  * Model: the agent's representation of the environment\n",
    "\n",
    "* **Learning Algorithm**\n",
    "  * How the agent updates its policy and value function based on the experience\n",
    "\n",
    "In this problem, we will implement a reinforcement learning algorithm for the Tic-Tac-Toe game."
   ]
  },
  {
   "cell_type": "markdown",
   "metadata": {},
   "source": [
    "State is a namedtuple with two fields, x and o, representing the positions of X and O in the board.\n",
    "\n",
    "MAGIC is a list of values that can be used to check whether a player has won the game. They are based on the magic square of order 3.\n",
    "\n",
    "<table>\n",
    "  <tr>\n",
    "    <td>2</td>\n",
    "    <td>7</td>\n",
    "    <td>6</td>\n",
    "  </tr>\n",
    "  <tr>\n",
    "    <td>9</td>\n",
    "    <td>5</td>\n",
    "    <td>1</td>\n",
    "  </tr>\n",
    "  <tr>\n",
    "    <td>4</td>\n",
    "    <td>3</td>\n",
    "    <td>8</td>\n",
    "  </tr>\n",
    "</table>\n",
    "\n",
    "In this way, the sum of three numbers in any row, column, or diagonal is always 15."
   ]
  },
  {
   "cell_type": "code",
   "execution_count": 2,
   "metadata": {},
   "outputs": [],
   "source": [
    "State = namedtuple('State', ['x', 'o'])\n",
    "MAGIC = [2, 7, 6, 9, 5, 1, 4, 3, 8]"
   ]
  },
  {
   "cell_type": "markdown",
   "metadata": {},
   "source": [
    "## General Player"
   ]
  },
  {
   "cell_type": "code",
   "execution_count": 3,
   "metadata": {},
   "outputs": [],
   "source": [
    "# stolen from quixo repo\n",
    "class Player(ABC):\n",
    "    def __init__(self) -> None:\n",
    "        '''You can change this for your player if you need to handle state/have memory'''\n",
    "        pass\n",
    "\n",
    "    @abstractmethod\n",
    "    def make_move(self):\n",
    "        '''\n",
    "        game: the Quixo game. You can use it to override the current game with yours, but everything is evaluated by the main game\n",
    "        return values: this method shall return a tuple of X,Y positions and a move among TOP, BOTTOM, LEFT and RIGHT\n",
    "        '''\n",
    "        pass"
   ]
  },
  {
   "cell_type": "markdown",
   "metadata": {},
   "source": [
    "## Game"
   ]
  },
  {
   "cell_type": "code",
   "execution_count": 4,
   "metadata": {},
   "outputs": [],
   "source": [
    "class Game:\n",
    "    def __init__(self):\n",
    "        self.state = State(set(), set()) # actual state of the game\n",
    "        self.trajectory = list() # list of states of the game\n",
    "        self.available_moves = set(range(1, 10)) # available moves\n",
    "        self.winner = None # winner of the game\n",
    "\n",
    "    def play(self, player1, player2):\n",
    "        \"\"\"Play a game between two players\"\"\"\n",
    "        # print(\"available moves: \", self.available_moves)\n",
    "        local_winner = -1\n",
    "        while local_winner == -1 and len(self.available_moves) > 0:\n",
    "            # player1 makes a move\n",
    "            move = player1.make_move(self.state, self.available_moves)\n",
    "            # print(\"player1 move: \", move)\n",
    "\n",
    "            # the move is added to the state\n",
    "            self.state.x.add(move)\n",
    "\n",
    "            # the trajectory is updated\n",
    "            self.trajectory.append(deepcopy(self.state))\n",
    "\n",
    "            # the move is removed from the available moves\n",
    "            self.available_moves.remove(move)\n",
    "            # print(\"available moves: \", self.available_moves)\n",
    "\n",
    "            # check if the game is over\n",
    "            local_winner = self.check_winner()\n",
    "            if local_winner != -1 or len(self.available_moves) == 0:\n",
    "                break\n",
    "\n",
    "            # same for player2\n",
    "            move = player2.make_move(self.state, self.available_moves)\n",
    "            # print(\"player2 move: \", move)\n",
    "            self.state.o.add(move)\n",
    "            self.trajectory.append(deepcopy(self.state))\n",
    "            self.available_moves.remove(move)\n",
    "            # print(\"available moves: \", self.available_moves)\n",
    "            local_winner = self.check_winner()\n",
    "            if local_winner != -1 or len(self.available_moves) == 0:\n",
    "                break\n",
    "\n",
    "        self.winner = local_winner\n",
    "        # print(\"winner: \", self.winner)\n",
    "\n",
    "    def check_winner(self):\n",
    "        \"\"\"Set the winner: 1 for player1, 2 for player2, -1 for draw\"\"\"\n",
    "        if self.win(self.state.x):\n",
    "            return 1\n",
    "        elif self.win(self.state.o):\n",
    "            return 2\n",
    "        else:\n",
    "            return -1\n",
    "        \n",
    "    # win() function checks if any of the combinations of 3 elements in the set sums to 15 (winning condition)\n",
    "    def win(self, elements):\n",
    "        \"\"\"Checks if elements is winning\"\"\"\n",
    "        return any(sum(c) == 15 for c in combinations(elements, 3))"
   ]
  },
  {
   "cell_type": "markdown",
   "metadata": {},
   "source": [
    "defaultdict is a subclass of dict that returns a default value when the key is not found, so that it is not needed to check whether a key is in the dictionary.\n",
    "\n",
    "frozenset is an immutable version of set, which can be used as a key in a dictionary."
   ]
  },
  {
   "cell_type": "markdown",
   "metadata": {},
   "source": [
    "## Random Player"
   ]
  },
  {
   "cell_type": "code",
   "execution_count": 5,
   "metadata": {},
   "outputs": [],
   "source": [
    "class RandomPlayer(Player):\n",
    "    def __init__(self):\n",
    "        super().__init__()\n",
    "\n",
    "    def make_move(self, state, available_moves):\n",
    "        return choice(list(available_moves))"
   ]
  },
  {
   "cell_type": "markdown",
   "metadata": {},
   "source": [
    "## Reinforcement Learning Player"
   ]
  },
  {
   "cell_type": "code",
   "execution_count": 6,
   "metadata": {},
   "outputs": [],
   "source": [
    "class reinforcement_player():\n",
    "    def __init__(self, player_index, random_move = 0.0):\n",
    "        self.value_dictionary = defaultdict(float) # state of the game and its value\n",
    "        # self.trajectory = list() # list of states visited during the game, used to update the value_dictionary\n",
    "        self.hit_state = defaultdict(int) # state of the game and how many times it was visited during the training phase\n",
    "        self.epsilon = 0.2 # learning rate\n",
    "        self.player_index = player_index # index of the player (1 or 2)\n",
    "        self.random_move = random_move # a value between 0 and 1, used to choose a random move when training\n",
    "\n",
    "    # in make_moves we have to sometimes choose a random move when training\n",
    "    def make_move(self, state, available_moves):\n",
    "        \"\"\"Returns best move for the actual state\"\"\"\n",
    "        # it checks the value of the new_state for each possible move and returns the move with the highest value\n",
    "        best_move_score = -10_000\n",
    "        best_move = None\n",
    "        if np.random.rand() < self.random_move:\n",
    "            return choice(list(available_moves))\n",
    "        else:\n",
    "            for move in available_moves:\n",
    "                new_state = deepcopy(state)\n",
    "                if self.player_index == 1:\n",
    "                    new_state.x.add(move)\n",
    "                else:\n",
    "                    new_state.o.add(move)\n",
    "                hashable_state = (frozenset(new_state.x), frozenset(new_state.o))\n",
    "                actual_move_score = self.value_dictionary[hashable_state]\n",
    "                if actual_move_score > best_move_score:\n",
    "                    best_move_score = actual_move_score\n",
    "                    best_move = move\n",
    "\n",
    "        return best_move\n",
    "    \n",
    "    def give_reward(self, reward, trajectory):\n",
    "        \"\"\"Updates the value of the states visited during the game\"\"\"\n",
    "        for state in reversed(trajectory):\n",
    "            hashable_state = (frozenset(state.x), frozenset(state.o))\n",
    "            self.hit_state[hashable_state] += 1\n",
    "            self.value_dictionary[hashable_state] += self.epsilon * (0.9 * reward - self.value_dictionary[hashable_state])\n",
    "            reward = self.value_dictionary[hashable_state]\n",
    "\n",
    "    def print_value_dictionary(self):\n",
    "        \"\"\"Prints the value of each state\"\"\"\n",
    "        return sorted(self.value_dictionary.items(), key=lambda e: e[1], reverse=True)\n",
    "    \n",
    "    def set_random_move(self, random_move):\n",
    "        \"\"\"Sets the value of random_move\"\"\"\n",
    "        self.random_move = random_move\n",
    "\n",
    "    def set_self_debug(self, debug_value):\n",
    "        \"\"\"Sets the value of debug\"\"\"\n",
    "        self.debug = debug_value\n"
   ]
  },
  {
   "cell_type": "code",
   "execution_count": 8,
   "metadata": {},
   "outputs": [
    {
     "data": {
      "application/vnd.jupyter.widget-view+json": {
       "model_id": "f6c1a69ab3f349e08dbfb40a0966caf2",
       "version_major": 2,
       "version_minor": 0
      },
      "text/plain": [
       "  0%|          | 0/100000 [00:00<?, ?it/s]"
      ]
     },
     "metadata": {},
     "output_type": "display_data"
    },
    {
     "data": {
      "application/vnd.jupyter.widget-view+json": {
       "model_id": "50eabb026c9b4e7e8a9bbafa900f9201",
       "version_major": 2,
       "version_minor": 0
      },
      "text/plain": [
       "  0%|          | 0/100000 [00:00<?, ?it/s]"
      ]
     },
     "metadata": {},
     "output_type": "display_data"
    }
   ],
   "source": [
    "player1 = reinforcement_player(1, 0.3)\n",
    "player2 = reinforcement_player(2, 0.3)\n",
    "random_player = RandomPlayer()\n",
    "\n",
    "# training phase\n",
    "for _ in tqdm(range(100_000)):\n",
    "    game = Game()\n",
    "    game.play(player1, random_player)\n",
    "    if game.winner == 1:\n",
    "        player1.give_reward(1, game.trajectory)\n",
    "    elif game.winner == 2:\n",
    "        player1.give_reward(-1, game.trajectory)\n",
    "    else:\n",
    "        player1.give_reward(0, game.trajectory)\n",
    "\n",
    "\n",
    "for _ in tqdm(range(100_000)):\n",
    "    game = Game()\n",
    "    game.play(random_player, player2)\n",
    "    if game.winner == 1:\n",
    "        player2.give_reward(-0.8, game.trajectory)\n",
    "    elif game.winner == 2:\n",
    "        player2.give_reward(1, game.trajectory)\n",
    "    else:\n",
    "        player2.give_reward(0.5, game.trajectory)"
   ]
  },
  {
   "cell_type": "code",
   "execution_count": 10,
   "metadata": {},
   "outputs": [
    {
     "data": {
      "application/vnd.jupyter.widget-view+json": {
       "model_id": "16000ba107904ec1895c650b3cbe2256",
       "version_major": 2,
       "version_minor": 0
      },
      "text/plain": [
       "  0%|          | 0/10000 [00:00<?, ?it/s]"
      ]
     },
     "metadata": {},
     "output_type": "display_data"
    },
    {
     "data": {
      "application/vnd.jupyter.widget-view+json": {
       "model_id": "371ab20f29c8424581deadc57312be06",
       "version_major": 2,
       "version_minor": 0
      },
      "text/plain": [
       "  0%|          | 0/10000 [00:00<?, ?it/s]"
      ]
     },
     "metadata": {},
     "output_type": "display_data"
    },
    {
     "name": "stdout",
     "output_type": "stream",
     "text": [
      "player 1:\n",
      "winning rate:  98.74\n",
      "loss rate:  0.0\n",
      "draw rate:  1.26\n",
      "--------------------------------------\n",
      "player 2:\n",
      "winning rate:  2.88\n",
      "loss rate:  89.0\n",
      "draw rate:  8.12\n"
     ]
    }
   ],
   "source": [
    "# testing phase\n",
    "player1.set_random_move(0.0)\n",
    "player2.set_random_move(0.0)\n",
    "\n",
    "winning_rate_1 = 0\n",
    "loss_rate_1 = 0\n",
    "draw_rate_1 = 0\n",
    "\n",
    "for _ in tqdm(range(10_000)):\n",
    "    game = Game()\n",
    "    game.play(player1, random_player)\n",
    "    if game.winner == 1:\n",
    "        winning_rate_1 += 1\n",
    "    elif game.winner == 2:\n",
    "        loss_rate_1 += 1\n",
    "    else:\n",
    "        draw_rate_1 += 1\n",
    "\n",
    "\n",
    "winning_rate_2 = 0\n",
    "loss_rate_2 = 0\n",
    "draw_rate_2 = 0\n",
    "\n",
    "for _ in tqdm(range(10_000)):\n",
    "    game = Game()\n",
    "    game.play(random_player, player2)\n",
    "    if game.winner == 1:\n",
    "        loss_rate_2 += 1\n",
    "    elif game.winner == 2:\n",
    "        winning_rate_2 += 1\n",
    "    else:\n",
    "        draw_rate_2 += 1\n",
    "\n",
    "print(\"player 1:\")\n",
    "print(\"winning rate: \", winning_rate_1/100)\n",
    "print(\"loss rate: \", loss_rate_1/100)\n",
    "print(\"draw rate: \", draw_rate_1/100)\n",
    "print(\"--------------------------------------\")\n",
    "print(\"player 2:\")\n",
    "print(\"winning rate: \", loss_rate_2/100)\n",
    "print(\"loss rate: \", winning_rate_2/100)\n",
    "print(\"draw rate: \", draw_rate_2/100)"
   ]
  },
  {
   "cell_type": "code",
   "execution_count": null,
   "metadata": {},
   "outputs": [],
   "source": [
    "train_matches = [100_000, 250_000, 500_000]\n",
    "test_matches = 10_000\n",
    "test_game = Game()\n",
    "# player1 = [reinforcement_player(1, 1), reinforcement_player(1, 0.5), reinforcement_player(1, 0.3)]\n",
    "params = [1, 0.5, 0.3]\n",
    "# player1 = [reinforcement_player(1, param) for param in params]\n",
    "rewards_player1 = [[1, -1, 0.1], [1, 0, 0.1]]\n",
    "# player2 = [reinforcement_player(2, 1), reinforcement_player(2, 0.5), reinforcement_player(2, 0.3)]\n",
    "# player2 = [reinforcement_player(2, param) for param in params]\n",
    "rewards_player2 = [[1, -1, 0.3], [1, 0, 0.3]]\n",
    "player_random = RandomPlayer()\n",
    "\n",
    "# Train Phase\n",
    "for matches in train_matches:\n",
    "    for rewards in rewards_player1:\n",
    "        player1 = [reinforcement_player(1, 1), reinforcement_player(1, 0.5), reinforcement_player(1, 0.3)]\n",
    "        for reinforcement_player1 in player1:\n",
    "            for _ in range(matches):\n",
    "                test_game = Game()\n",
    "                test_game.play(reinforcement_player1, player_random)\n",
    "                if (test_game.winner == 1):\n",
    "                    reinforcement_player1.give_reward(rewards[0], test_game.trajectory)\n",
    "                elif (test_game.winner == 2):\n",
    "                    reinforcement_player1.give_reward(rewards[1], test_game.trajectory)\n",
    "                else:\n",
    "                    if(reinforcement_player1.player_index == 1):\n",
    "                        reinforcement_player1.give_reward(rewards[2], test_game.trajectory)\n",
    "                    else:\n",
    "                        reinforcement_player1.give_reward(0.3, test_game.trajectory)\n",
    "\n",
    "            print(\"Player 1\")\n",
    "            print(\"random_rate: \", reinforcement_player1.random_move)\n",
    "\n",
    "            win_rate = 0\n",
    "            draw_rate = 0\n",
    "            loss_rate = 0\n",
    "            reinforcement_player1.set_random_move(0)\n",
    "            for _ in range(test_matches):\n",
    "                test_game = Game()\n",
    "                test_game.play(reinforcement_player1, player_random)\n",
    "                if (test_game.winner == 1):\n",
    "                    win_rate += 1\n",
    "                elif (test_game.winner == -1):\n",
    "                    draw_rate += 1\n",
    "                else:\n",
    "                    loss_rate += 1\n",
    "\n",
    "            print(\"training matches: \", matches)\n",
    "            print(\"rewards: \", rewards)\n",
    "            print(\"wins: \", win_rate/100, \"%\")\n",
    "            print(\"draws: \", draw_rate/100, \"%\")\n",
    "            print(\"losses: \", loss_rate/100, \"%\")\n",
    "            print(\"---------------------------------------------\")\n",
    "        \n",
    "    for rewards in rewards_player2:\n",
    "        player2 = [reinforcement_player(2, 1), reinforcement_player(2, 0.5), reinforcement_player(2, 0.3)]\n",
    "        for reinforcement_player2 in player2:\n",
    "            for _ in range(matches):\n",
    "                test_game = Game()\n",
    "                test_game.play(player_random, reinforcement_player2)\n",
    "                if (test_game.winner == 2):\n",
    "                    reinforcement_player2.give_reward(rewards[0], test_game.trajectory)\n",
    "                elif (test_game.winner == 1):\n",
    "                    reinforcement_player2.give_reward(rewards[1], test_game.trajectory)\n",
    "                else:\n",
    "                    if(reinforcement_player2.player_index == 1):\n",
    "                        reinforcement_player2.give_reward(0.3, test_game.trajectory)\n",
    "                    else:\n",
    "                        reinforcement_player2.give_reward(rewards[2], test_game.trajectory)\n",
    "\n",
    "\n",
    "            print(\"Player 2\")\n",
    "            print(\"random_rate: \", reinforcement_player2.random_move)\n",
    "\n",
    "            win_rate = 0\n",
    "            draw_rate = 0\n",
    "            loss_rate = 0\n",
    "            reinforcement_player2.set_random_move(0)\n",
    "            for _ in range(test_matches):\n",
    "                test_game = Game()\n",
    "                test_game.play(player_random, reinforcement_player2)\n",
    "                if (test_game.winner == 2):\n",
    "                    win_rate += 1\n",
    "                elif (test_game.winner == -1):\n",
    "                    draw_rate += 1\n",
    "                else:\n",
    "                    loss_rate += 1\n",
    "\n",
    "            print(\"training matches: \", matches)\n",
    "            print(\"rewards: \", rewards)\n",
    "            print(\"wins: \", win_rate/100, \"%\")\n",
    "            print(\"draws: \", draw_rate/100, \"%\")\n",
    "            print(\"losses: \", loss_rate/100, \"%\")\n",
    "            print(\"---------------------------------------------\")"
   ]
  }
 ],
 "metadata": {
  "kernelspec": {
   "display_name": "Computational_Intelligence",
   "language": "python",
   "name": "python3"
  },
  "language_info": {
   "codemirror_mode": {
    "name": "ipython",
    "version": 3
   },
   "file_extension": ".py",
   "mimetype": "text/x-python",
   "name": "python",
   "nbconvert_exporter": "python",
   "pygments_lexer": "ipython3",
   "version": "3.10.13"
  }
 },
 "nbformat": 4,
 "nbformat_minor": 2
}
