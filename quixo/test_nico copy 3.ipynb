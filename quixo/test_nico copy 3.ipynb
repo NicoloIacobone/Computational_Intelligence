{
 "cells": [
  {
   "cell_type": "code",
   "execution_count": 1,
   "metadata": {},
   "outputs": [],
   "source": [
    "from game import Game\n",
    "from main import ReinforcementPlayer, RandomPlayer\n",
    "from tqdm import tqdm\n",
    "import pickle"
   ]
  },
  {
   "cell_type": "markdown",
   "metadata": {},
   "source": [
    "test con 200k round, exp_rate 0.5 decrescente (-0.1) ogni 40k round:"
   ]
  },
  {
   "cell_type": "code",
   "execution_count": 2,
   "metadata": {},
   "outputs": [],
   "source": [
    "player0 = ReinforcementPlayer()\n",
    "player0.set_random_move(0.5)\n",
    "player1 = RandomPlayer()"
   ]
  },
  {
   "cell_type": "code",
   "execution_count": 3,
   "metadata": {},
   "outputs": [],
   "source": [
    "# \"\"\"Loads the policy file\"\"\"\n",
    "# fr = open('policy_first_500k_player1', 'rb')\n",
    "# player0.value_dictionary = pickle.load(fr)\n",
    "# fr.close()"
   ]
  },
  {
   "cell_type": "code",
   "execution_count": 4,
   "metadata": {},
   "outputs": [],
   "source": [
    "# \"\"\"Loads the policy file\"\"\"\n",
    "# fr = open('policy_first_500k_player2', 'rb')\n",
    "# player1.value_dictionary = pickle.load(fr)\n",
    "# fr.close()"
   ]
  },
  {
   "cell_type": "code",
   "execution_count": 5,
   "metadata": {},
   "outputs": [
    {
     "name": "stderr",
     "output_type": "stream",
     "text": [
      "100%|██████████| 200000/200000 [2:25:06<00:00, 22.97it/s]  \n"
     ]
    }
   ],
   "source": [
    "\n",
    "for round in tqdm(range(200_000)):\n",
    "    game = Game()\n",
    "    win = game.play(player0, player1)\n",
    "    if win == 0:\n",
    "        player0.give_reward(1, game.trajectory)\n",
    "    elif win == 1:\n",
    "        player0.give_reward(-1, game.trajectory)"
   ]
  },
  {
   "cell_type": "code",
   "execution_count": 6,
   "metadata": {},
   "outputs": [],
   "source": [
    "\"\"\"Creates the policy file\"\"\"\n",
    "fw = open('policy_first_200k_player1_decreasing_from_05_to_01', 'wb')\n",
    "pickle.dump(player0.value_dictionary, fw)\n",
    "fw.close()"
   ]
  },
  {
   "cell_type": "code",
   "execution_count": 7,
   "metadata": {},
   "outputs": [],
   "source": [
    "# \"\"\"Creates the policy file player 2\"\"\"\n",
    "# fw = open('policy_first_500k_player2', 'wb')\n",
    "# pickle.dump(player1.value_dictionary, fw)\n",
    "# fw.close()"
   ]
  },
  {
   "cell_type": "code",
   "execution_count": 8,
   "metadata": {},
   "outputs": [],
   "source": [
    "# write a txt file with the policy\n",
    "fw = open('policy_first_200k_player1_decreasing_from_05_to_01.txt', 'w')\n",
    "for key, value in player0.value_dictionary.items():\n",
    "    fw.write(str(key) + ' ' + str(value) + '\\n')\n",
    "fw.close()"
   ]
  },
  {
   "cell_type": "code",
   "execution_count": 9,
   "metadata": {},
   "outputs": [
    {
     "name": "stdout",
     "output_type": "stream",
     "text": [
      "33684198\n"
     ]
    }
   ],
   "source": [
    "print(len(player0.value_dictionary))"
   ]
  },
  {
   "cell_type": "code",
   "execution_count": 10,
   "metadata": {},
   "outputs": [
    {
     "name": "stderr",
     "output_type": "stream",
     "text": [
      "100%|██████████| 1000/1000 [00:42<00:00, 23.41it/s]"
     ]
    },
    {
     "name": "stdout",
     "output_type": "stream",
     "text": [
      "Win rate: 7.82%\n",
      "Lose rate: 2.18%\n",
      "Draw rate: 0.0%\n"
     ]
    },
    {
     "name": "stderr",
     "output_type": "stream",
     "text": [
      "\n"
     ]
    }
   ],
   "source": [
    "player0.set_random_move(0)\n",
    "win_rate = 0\n",
    "lose_rate = 0\n",
    "draw_rate = 0\n",
    "\n",
    "for round in tqdm(range(1_000)):\n",
    "    game = Game()\n",
    "    win = game.play(player0, player1)\n",
    "    if win == 0:\n",
    "        win_rate += 1\n",
    "    elif win == 1:\n",
    "        lose_rate += 1\n",
    "    else:\n",
    "        draw_rate += 1\n",
    "\n",
    "print(f\"Win rate: {win_rate/100}%\")\n",
    "print(f\"Lose rate: {lose_rate/100}%\")\n",
    "print(f\"Draw rate: {draw_rate/100}%\")"
   ]
  }
 ],
 "metadata": {
  "kernelspec": {
   "display_name": "Computational_Intelligence",
   "language": "python",
   "name": "python3"
  },
  "language_info": {
   "codemirror_mode": {
    "name": "ipython",
    "version": 3
   },
   "file_extension": ".py",
   "mimetype": "text/x-python",
   "name": "python",
   "nbconvert_exporter": "python",
   "pygments_lexer": "ipython3",
   "version": "3.10.13"
  }
 },
 "nbformat": 4,
 "nbformat_minor": 2
}
