{
 "cells": [
  {
   "cell_type": "code",
   "execution_count": 1,
   "metadata": {},
   "outputs": [],
   "source": [
    "from game import Game\n",
    "from main import ReinforcementPlayer, RandomPlayer\n",
    "from tqdm import tqdm"
   ]
  },
  {
   "cell_type": "code",
   "execution_count": 2,
   "metadata": {},
   "outputs": [],
   "source": [
    "RL_Player_1 = ReinforcementPlayer()\n",
    "RL_Player_2 = ReinforcementPlayer()\n",
    "Random_Player_1 = RandomPlayer()\n",
    "Random_Player_2 = RandomPlayer()"
   ]
  },
  {
   "cell_type": "markdown",
   "metadata": {},
   "source": [
    "round:      1k, 2k, 5k, 10k\n",
    "\n",
    "players:    RL vs Random\n",
    "\n",
    "exp_rate:   0.5, 0.3\n",
    "\n",
    "decreasing: yes, no\n",
    "\n",
    "reward:     [+1, -1], [+1, -1]-[step/100]"
   ]
  },
  {
   "cell_type": "code",
   "execution_count": 3,
   "metadata": {},
   "outputs": [],
   "source": [
    "def test(player_to_test):\n",
    "    player_to_test.set_random_move(0)\n",
    "    win_rate = 0\n",
    "    lose_rate = 0\n",
    "    draw_rate = 0\n",
    "    trajectory_size = 0\n",
    "\n",
    "    for _ in tqdm(range(100)):\n",
    "        game = Game()\n",
    "        win = game.play(player_to_test, Random_Player_2)\n",
    "        if win == 0:\n",
    "            win_rate += 1\n",
    "        elif win == 1:\n",
    "            lose_rate += 1\n",
    "        else:\n",
    "            draw_rate += 1\n",
    "        trajectory_size += len(game.trajectory)\n",
    "\n",
    "    print(f\"Entries: {len(player_to_test.value_dictionary)}\")\n",
    "    print(f\"Win rate: {win_rate/100}%\")\n",
    "    print(f\"Lose rate: {lose_rate/100}%\")\n",
    "    print(f\"Draw rate: {draw_rate/100}%\")\n",
    "    print(f\"Average trajectory size: {trajectory_size/100}\")\n",
    "    print(\"---------------------------------------------\")"
   ]
  },
  {
   "cell_type": "code",
   "execution_count": 5,
   "metadata": {},
   "outputs": [
    {
     "name": "stderr",
     "output_type": "stream",
     "text": [
      "100%|██████████| 5000/5000 [04:01<00:00, 20.73it/s]\n",
      "100%|██████████| 100/100 [00:07<00:00, 14.19it/s]"
     ]
    },
    {
     "name": "stdout",
     "output_type": "stream",
     "text": [
      "Entries: 552801\n",
      "Win rate: 0.27%\n",
      "Lose rate: 0.69%\n",
      "Draw rate: 0.04%\n",
      "Average trajectory size: 41.01\n",
      "---------------------------------------------\n"
     ]
    },
    {
     "name": "stderr",
     "output_type": "stream",
     "text": [
      "\n"
     ]
    }
   ],
   "source": [
    "RL_Player_1.set_random_move(0.5)\n",
    "for round in tqdm(range(5_000)):\n",
    "    game = Game()\n",
    "    win = game.play(RL_Player_1, Random_Player_2)\n",
    "    if win == 0:\n",
    "        RL_Player_1.give_reward(1, game.trajectory)\n",
    "    elif win == 1:\n",
    "        RL_Player_1.give_reward(0, game.trajectory)\n",
    "\n",
    "# RL_Player_1.create_policy(\"RL_Player_1_Vs_Random_Player_2_10k_exp03_no_drecreasing_normal_rewards\")\n",
    "\n",
    "test(RL_Player_1)"
   ]
  },
  {
   "cell_type": "code",
   "execution_count": 12,
   "metadata": {},
   "outputs": [],
   "source": [
    "RL_Player_1.load_policy(\"policy_first_200k_player1_decreasing_from_05_to_01\")"
   ]
  },
  {
   "cell_type": "code",
   "execution_count": 14,
   "metadata": {},
   "outputs": [
    {
     "name": "stderr",
     "output_type": "stream",
     "text": [
      "  0%|          | 0/100 [00:00<?, ?it/s]"
     ]
    },
    {
     "name": "stderr",
     "output_type": "stream",
     "text": [
      "100%|██████████| 100/100 [00:05<00:00, 16.91it/s]"
     ]
    },
    {
     "name": "stdout",
     "output_type": "stream",
     "text": [
      "Entries: 33674860\n",
      "Win rate: 0.62%\n",
      "Lose rate: 0.36%\n",
      "Draw rate: 0.02%\n",
      "Average trajectory size: 27.58\n",
      "---------------------------------------------\n"
     ]
    },
    {
     "name": "stderr",
     "output_type": "stream",
     "text": [
      "\n"
     ]
    }
   ],
   "source": [
    "test(RL_Player_1)"
   ]
  },
  {
   "cell_type": "code",
   "execution_count": 11,
   "metadata": {},
   "outputs": [
    {
     "name": "stdout",
     "output_type": "stream",
     "text": [
      "9052715\n"
     ]
    }
   ],
   "source": [
    "print(len(RL_Player_1.value_dictionary))"
   ]
  },
  {
   "cell_type": "code",
   "execution_count": null,
   "metadata": {},
   "outputs": [],
   "source": [
    "RL_Player_1 = ReinforcementPlayer()\n",
    "RL_Player_1.set_random_move(0.5)\n",
    "\n",
    "for round in tqdm(range(10_000)):\n",
    "    game = Game()\n",
    "    win = game.play(RL_Player_1, Random_Player_2)\n",
    "    if win == 0:\n",
    "        RL_Player_1.give_reward(1, game.trajectory)\n",
    "    elif win == 1:\n",
    "        RL_Player_1.give_reward(-1, game.trajectory)\n",
    "\n",
    "RL_Player_1.create_policy(\"RL_Player_1_Vs_Random_Player_2_10k_exp05_no_decreasing_normal_rewards\")\n",
    "\n",
    "test(RL_Player_1)\n",
    "\n",
    "##############################################################################################################\n",
    "\n",
    "RL_Player_1 = ReinforcementPlayer()\n",
    "RL_Player_1.set_random_move(0.3)\n",
    "\n",
    "for round in tqdm(range(10_000)):\n",
    "    if (round + 1) % 2_000 == 0:\n",
    "        RL_Player_1.set_random_move(RL_Player_1.random_move * 0.7)\n",
    "    game = Game()\n",
    "    win = game.play(RL_Player_1, Random_Player_2)\n",
    "    if win == 0:\n",
    "        RL_Player_1.give_reward(1, game.trajectory)\n",
    "    elif win == 1:\n",
    "        RL_Player_1.give_reward(-1, game.trajectory)\n",
    "\n",
    "RL_Player_1.create_policy(\"RL_Player_1_Vs_Random_Player_2_10k_exp03_decreasing_normal_rewards\")\n",
    "\n",
    "test(RL_Player_1)\n",
    "\n",
    "##############################################################################################################\n",
    "\n",
    "RL_Player_1 = ReinforcementPlayer()\n",
    "RL_Player_1.set_random_move(0.5)\n",
    "\n",
    "for round in tqdm(range(10_000)):\n",
    "    if (round + 1) % 2_000 == 0:\n",
    "        RL_Player_1.set_random_move(RL_Player_1.random_move * 0.7)\n",
    "    game = Game()\n",
    "    win = game.play(RL_Player_1, Random_Player_2)\n",
    "    if win == 0:\n",
    "        RL_Player_1.give_reward(1, game.trajectory)\n",
    "    elif win == 1:\n",
    "        RL_Player_1.give_reward(-1, game.trajectory)\n",
    "\n",
    "RL_Player_1.create_policy(\"RL_Player_1_Vs_Random_Player_2_10k_exp05_decreasing_normal_rewards\")\n",
    "\n",
    "test(RL_Player_1)\n",
    "\n",
    "##############################################################################################################\n",
    "\n",
    "RL_Player_1 = ReinforcementPlayer()\n",
    "# RL_Player_1.set_random_move(0.5)\n",
    "\n",
    "for round in tqdm(range(10_000)):\n",
    "    # if (round + 1) % 2_000 == 0:\n",
    "    #     RL_Player_1.set_random_move(RL_Player_1.random_move * 0.7)\n",
    "    game = Game()\n",
    "    win = game.play(RL_Player_1, Random_Player_2)\n",
    "    traj_len = len(game.trajectory)\n",
    "    if win == 0:\n",
    "        RL_Player_1.give_reward((1 - (traj_len/100)), traj_len)\n",
    "    elif win == 1:\n",
    "        RL_Player_1.give_reward((-1 - (traj_len/100)), traj_len)\n",
    "\n",
    "RL_Player_1.create_policy(\"RL_Player_1_Vs_Random_Player_2_10k_exp03_no_decreasing_step_based_rewards\")\n",
    "\n",
    "test(RL_Player_1)\n",
    "\n",
    "##############################################################################################################\n",
    "\n",
    "RL_Player_1 = ReinforcementPlayer()\n",
    "RL_Player_1.set_random_move(0.5)\n",
    "\n",
    "for round in tqdm(range(10_000)):\n",
    "    if (round + 1) % 2_000 == 0:\n",
    "        RL_Player_1.set_random_move(RL_Player_1.random_move * 0.7)\n",
    "    game = Game()\n",
    "    win = game.play(RL_Player_1, Random_Player_2)\n",
    "    traj_len = len(game.trajectory)\n",
    "    if win == 0:\n",
    "        RL_Player_1.give_reward((1 - (traj_len/100)), traj_len)\n",
    "    elif win == 1:\n",
    "        RL_Player_1.give_reward((-1 - (traj_len/100)), traj_len)\n",
    "\n",
    "RL_Player_1.create_policy(\"RL_Player_1_Vs_Random_Player_2_10k_exp05_decreasing_step_based_rewards\")\n",
    "\n",
    "test(RL_Player_1)"
   ]
  }
 ],
 "metadata": {
  "kernelspec": {
   "display_name": "Computational_Intelligence",
   "language": "python",
   "name": "python3"
  },
  "language_info": {
   "codemirror_mode": {
    "name": "ipython",
    "version": 3
   },
   "file_extension": ".py",
   "mimetype": "text/x-python",
   "name": "python",
   "nbconvert_exporter": "python",
   "pygments_lexer": "ipython3",
   "version": "3.10.13"
  }
 },
 "nbformat": 4,
 "nbformat_minor": 2
}
