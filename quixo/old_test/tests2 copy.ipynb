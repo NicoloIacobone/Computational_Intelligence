{
 "cells": [
  {
   "cell_type": "code",
   "execution_count": 3,
   "metadata": {},
   "outputs": [],
   "source": [
    "from utils import Utils\n",
    "from main import ReinforcementPlayer, RandomPlayer"
   ]
  },
  {
   "cell_type": "code",
   "execution_count": 4,
   "metadata": {},
   "outputs": [],
   "source": [
    "RL_player_1 = ReinforcementPlayer()\n",
    "Rand_Player_2 = RandomPlayer()\n",
    "environment = Utils()"
   ]
  },
  {
   "cell_type": "code",
   "execution_count": 5,
   "metadata": {},
   "outputs": [
    {
     "name": "stderr",
     "output_type": "stream",
     "text": [
      "100%|██████████| 1000/1000 [00:36<00:00, 27.64it/s]\n",
      "100%|██████████| 1000/1000 [01:19<00:00, 12.65it/s]"
     ]
    },
    {
     "name": "stdout",
     "output_type": "stream",
     "text": [
      "Win rate player 1: 18.2%\n",
      "Lose rate player 1: 78.4%\n",
      "Draw rate: 3.4000000000000004%\n",
      "Average trajectory size: 44.849\n",
      "---------------------------------------------\n"
     ]
    },
    {
     "name": "stderr",
     "output_type": "stream",
     "text": [
      "\n"
     ]
    }
   ],
   "source": [
    "RL_player_1.set_random_move(0.7)\n",
    "environment.train(RL_player_1, Rand_Player_2, policy_name=\"RL_vs_Rand_random_move_07\")\n",
    "environment.test(RL_player_1, Rand_Player_2, policy_name=\"RL_vs_Rand_random_move_07\")"
   ]
  },
  {
   "cell_type": "code",
   "execution_count": 7,
   "metadata": {},
   "outputs": [
    {
     "name": "stdout",
     "output_type": "stream",
     "text": [
      "Entries: 41514\n",
      "Policy size: 2.66 MB\n"
     ]
    }
   ],
   "source": [
    "environment.evaluate_player(RL_player_1, \"RL_vs_Rand_random_move_07_1\")"
   ]
  }
 ],
 "metadata": {
  "kernelspec": {
   "display_name": "Computational_Intelligence",
   "language": "python",
   "name": "python3"
  },
  "language_info": {
   "codemirror_mode": {
    "name": "ipython",
    "version": 3
   },
   "file_extension": ".py",
   "mimetype": "text/x-python",
   "name": "python",
   "nbconvert_exporter": "python",
   "pygments_lexer": "ipython3",
   "version": "3.10.13"
  }
 },
 "nbformat": 4,
 "nbformat_minor": 2
}
