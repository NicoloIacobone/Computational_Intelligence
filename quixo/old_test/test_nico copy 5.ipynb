{
 "cells": [
  {
   "cell_type": "code",
   "execution_count": 3,
   "metadata": {},
   "outputs": [],
   "source": [
    "from game import Game\n",
    "from main import ReinforcementPlayer, RandomPlayer\n",
    "from tqdm import tqdm"
   ]
  },
  {
   "cell_type": "code",
   "execution_count": 4,
   "metadata": {},
   "outputs": [],
   "source": [
    "RL_Player_1 = ReinforcementPlayer()\n",
    "RL_Player_2 = ReinforcementPlayer()\n",
    "Random_Player_1 = RandomPlayer()\n",
    "Random_Player_2 = RandomPlayer()"
   ]
  },
  {
   "cell_type": "markdown",
   "metadata": {},
   "source": [
    "Test 100k round, RL_Player_1 VS Random_Player_2, ogni 20k round salva la policy e la valuta printando un grafico basato sul numero di vittorie.\n",
    "\n",
    "exp_rate = 0.5 -> 0.1"
   ]
  },
  {
   "cell_type": "code",
   "execution_count": 6,
   "metadata": {},
   "outputs": [
    {
     "name": "stderr",
     "output_type": "stream",
     "text": [
      "  0%|          | 0/100000 [00:00<?, ?it/s]"
     ]
    },
    {
     "name": "stderr",
     "output_type": "stream",
     "text": [
      "100%|██████████| 100000/100000 [1:41:32<00:00, 16.41it/s] \n"
     ]
    }
   ],
   "source": [
    "for round in tqdm(range(100_000)):\n",
    "    if round % 20_000 == 0:\n",
    "        RL_Player_1.create_policy(\"RL_Player_1_Vs_Random_Player_2_\" + str(round / 1000) + \"k_decreasing_random_move\")\n",
    "        RL_Player_1.set_random_move(RL_Player_1.random_move - 0.1)\n",
    "    game = Game()\n",
    "    win = game.play(RL_Player_1, Random_Player_2)\n",
    "    if win == 0:\n",
    "        RL_Player_1.give_reward(1, game.trajectory)\n",
    "    elif win == 1:\n",
    "        RL_Player_1.give_reward(-1, game.trajectory)"
   ]
  },
  {
   "cell_type": "code",
   "execution_count": 5,
   "metadata": {},
   "outputs": [],
   "source": [
    "def test(player_to_test):\n",
    "    player_to_test.set_random_move(0)\n",
    "    win_rate = 0\n",
    "    lose_rate = 0\n",
    "    draw_rate = 0\n",
    "\n",
    "    for _ in tqdm(range(100)):\n",
    "        game = Game()\n",
    "        win = game.play(player_to_test, Random_Player_2)\n",
    "        if win == 0:\n",
    "            win_rate += 1\n",
    "        elif win == 1:\n",
    "            lose_rate += 1\n",
    "        else:\n",
    "            draw_rate += 1\n",
    "\n",
    "    print(f\"Entries: {len(player_to_test.value_dictionary)}\")\n",
    "    print(f\"Win rate: {win_rate/100}%\")\n",
    "    print(f\"Lose rate: {lose_rate/100}%\")\n",
    "    print(f\"Draw rate: {draw_rate/100}%\")\n",
    "    print(\"---------------------------------------------\")"
   ]
  },
  {
   "cell_type": "code",
   "execution_count": 8,
   "metadata": {},
   "outputs": [
    {
     "name": "stderr",
     "output_type": "stream",
     "text": [
      "100%|██████████| 100/100 [00:06<00:00, 15.03it/s]\n"
     ]
    },
    {
     "name": "stdout",
     "output_type": "stream",
     "text": [
      "Entries: 0\n",
      "Win rate: 0.33%\n",
      "Lose rate: 0.64%\n",
      "Draw rate: 0.03%\n",
      "---------------------------------------------\n"
     ]
    },
    {
     "name": "stderr",
     "output_type": "stream",
     "text": [
      "100%|██████████| 100/100 [00:06<00:00, 14.65it/s]\n"
     ]
    },
    {
     "name": "stdout",
     "output_type": "stream",
     "text": [
      "Entries: 656974\n",
      "Win rate: 0.36%\n",
      "Lose rate: 0.6%\n",
      "Draw rate: 0.04%\n",
      "---------------------------------------------\n"
     ]
    },
    {
     "name": "stderr",
     "output_type": "stream",
     "text": [
      "100%|██████████| 100/100 [00:05<00:00, 17.57it/s]\n"
     ]
    },
    {
     "name": "stdout",
     "output_type": "stream",
     "text": [
      "Entries: 1144848\n",
      "Win rate: 0.56%\n",
      "Lose rate: 0.43%\n",
      "Draw rate: 0.01%\n",
      "---------------------------------------------\n"
     ]
    },
    {
     "name": "stderr",
     "output_type": "stream",
     "text": [
      "100%|██████████| 100/100 [00:05<00:00, 19.12it/s]\n"
     ]
    },
    {
     "name": "stdout",
     "output_type": "stream",
     "text": [
      "Entries: 1445892\n",
      "Win rate: 0.65%\n",
      "Lose rate: 0.33%\n",
      "Draw rate: 0.02%\n",
      "---------------------------------------------\n"
     ]
    },
    {
     "name": "stderr",
     "output_type": "stream",
     "text": [
      "100%|██████████| 100/100 [00:05<00:00, 19.49it/s]"
     ]
    },
    {
     "name": "stdout",
     "output_type": "stream",
     "text": [
      "Entries: 1703642\n",
      "Win rate: 0.67%\n",
      "Lose rate: 0.33%\n",
      "Draw rate: 0.0%\n",
      "---------------------------------------------\n"
     ]
    },
    {
     "name": "stderr",
     "output_type": "stream",
     "text": [
      "\n"
     ]
    }
   ],
   "source": [
    "RL_Player_1.load_policy(\"RL_Player_1_Vs_Random_Player_2_0.0k_decreasing_random_move\")\n",
    "test(RL_Player_1)\n",
    "\n",
    "RL_Player_1.load_policy(\"RL_Player_1_Vs_Random_Player_2_20.0k_decreasing_random_move\")\n",
    "test(RL_Player_1)\n",
    "\n",
    "RL_Player_1.load_policy(\"RL_Player_1_Vs_Random_Player_2_40.0k_decreasing_random_move\")\n",
    "test(RL_Player_1)\n",
    "\n",
    "RL_Player_1.load_policy(\"RL_Player_1_Vs_Random_Player_2_60.0k_decreasing_random_move\")\n",
    "test(RL_Player_1)\n",
    "\n",
    "RL_Player_1.load_policy(\"RL_Player_1_Vs_Random_Player_2_80.0k_decreasing_random_move\")\n",
    "test(RL_Player_1)"
   ]
  }
 ],
 "metadata": {
  "kernelspec": {
   "display_name": "Computational_Intelligence",
   "language": "python",
   "name": "python3"
  },
  "language_info": {
   "codemirror_mode": {
    "name": "ipython",
    "version": 3
   },
   "file_extension": ".py",
   "mimetype": "text/x-python",
   "name": "python",
   "nbconvert_exporter": "python",
   "pygments_lexer": "ipython3",
   "version": "3.10.13"
  }
 },
 "nbformat": 4,
 "nbformat_minor": 2
}
