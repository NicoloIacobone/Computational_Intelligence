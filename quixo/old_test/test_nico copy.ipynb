{
 "cells": [
  {
   "cell_type": "code",
   "execution_count": 1,
   "metadata": {},
   "outputs": [],
   "source": [
    "import numpy as np\n",
    "from game import Game, Move, Player\n",
    "from main import Player, ReinforcementPlayer, RandomPlayer\n",
    "from tqdm import tqdm\n",
    "import pickle"
   ]
  },
  {
   "cell_type": "markdown",
   "metadata": {},
   "source": [
    "test con 500k round (min) e exp_rate 0.6 decrescente (-0.1) ogni 10k round:"
   ]
  },
  {
   "cell_type": "code",
   "execution_count": 2,
   "metadata": {},
   "outputs": [
    {
     "name": "stderr",
     "output_type": "stream",
     "text": [
      "  2%|▏         | 9554/500000 [07:51<6:43:23, 20.26it/s] \n"
     ]
    },
    {
     "ename": "KeyboardInterrupt",
     "evalue": "",
     "output_type": "error",
     "traceback": [
      "\u001b[0;31m---------------------------------------------------------------------------\u001b[0m",
      "\u001b[0;31mKeyboardInterrupt\u001b[0m                         Traceback (most recent call last)",
      "Cell \u001b[0;32mIn[2], line 10\u001b[0m\n\u001b[1;32m      8\u001b[0m     player0\u001b[38;5;241m.\u001b[39mset_random_move(player0\u001b[38;5;241m.\u001b[39mrandom_move \u001b[38;5;241m-\u001b[39m \u001b[38;5;241m0.1\u001b[39m)\n\u001b[1;32m      9\u001b[0m game \u001b[38;5;241m=\u001b[39m Game()\n\u001b[0;32m---> 10\u001b[0m win \u001b[38;5;241m=\u001b[39m \u001b[43mgame\u001b[49m\u001b[38;5;241;43m.\u001b[39;49m\u001b[43mplay\u001b[49m\u001b[43m(\u001b[49m\u001b[43mplayer0\u001b[49m\u001b[43m,\u001b[49m\u001b[43m \u001b[49m\u001b[43mplayer1\u001b[49m\u001b[43m)\u001b[49m\n\u001b[1;32m     11\u001b[0m \u001b[38;5;66;03m# print(win)\u001b[39;00m\n\u001b[1;32m     12\u001b[0m \u001b[38;5;28;01mif\u001b[39;00m win \u001b[38;5;241m==\u001b[39m \u001b[38;5;241m0\u001b[39m:\n",
      "File \u001b[0;32m~/Desktop/nico/UNIVERSITA/MAGISTRALE/3_Semestre/Computational_Intelligence/Labs/My_Fork/Computational_Intelligence/quixo/game.py:118\u001b[0m, in \u001b[0;36mGame.play\u001b[0;34m(self, player1, player2)\u001b[0m\n\u001b[1;32m    115\u001b[0m \u001b[38;5;66;03m# print(\"7\")\u001b[39;00m\n\u001b[1;32m    116\u001b[0m \u001b[38;5;28;01mwhile\u001b[39;00m \u001b[38;5;129;01mnot\u001b[39;00m ok:\n\u001b[1;32m    117\u001b[0m     \u001b[38;5;66;03m# print(\"8\")\u001b[39;00m\n\u001b[0;32m--> 118\u001b[0m     from_pos, slide \u001b[38;5;241m=\u001b[39m \u001b[43mplayers\u001b[49m\u001b[43m[\u001b[49m\u001b[38;5;28;43mself\u001b[39;49m\u001b[38;5;241;43m.\u001b[39;49m\u001b[43mcurrent_player_idx\u001b[49m\u001b[43m]\u001b[49m\u001b[38;5;241;43m.\u001b[39;49m\u001b[43mmake_move\u001b[49m\u001b[43m(\u001b[49m\u001b[38;5;28;43mself\u001b[39;49m\u001b[43m)\u001b[49m\n\u001b[1;32m    119\u001b[0m     \u001b[38;5;66;03m# print(\"index: \", self.current_player_idx)\u001b[39;00m\n\u001b[1;32m    120\u001b[0m     \u001b[38;5;66;03m# print(\"from_pos: \", from_pos)\u001b[39;00m\n\u001b[1;32m    121\u001b[0m     \u001b[38;5;66;03m# print(\"slide: \", slide)\u001b[39;00m\n\u001b[1;32m    122\u001b[0m     \u001b[38;5;66;03m# print(\"9\")\u001b[39;00m\n\u001b[1;32m    123\u001b[0m     ok \u001b[38;5;241m=\u001b[39m \u001b[38;5;28mself\u001b[39m\u001b[38;5;241m.\u001b[39m__move(from_pos, slide, \u001b[38;5;28mself\u001b[39m\u001b[38;5;241m.\u001b[39mcurrent_player_idx)\n",
      "File \u001b[0;32m~/Desktop/nico/UNIVERSITA/MAGISTRALE/3_Semestre/Computational_Intelligence/Labs/My_Fork/Computational_Intelligence/quixo/main.py:42\u001b[0m, in \u001b[0;36mReinforcementPlayer.make_move\u001b[0;34m(self, game)\u001b[0m\n\u001b[1;32m     40\u001b[0m best_move_score \u001b[38;5;241m=\u001b[39m \u001b[38;5;241m-\u001b[39m\u001b[38;5;241m10_000\u001b[39m\n\u001b[1;32m     41\u001b[0m best_move \u001b[38;5;241m=\u001b[39m \u001b[38;5;28;01mNone\u001b[39;00m\n\u001b[0;32m---> 42\u001b[0m available_moves \u001b[38;5;241m=\u001b[39m \u001b[43mgame\u001b[49m\u001b[38;5;241;43m.\u001b[39;49m\u001b[43mget_available_moves\u001b[49m\u001b[43m(\u001b[49m\u001b[43m)\u001b[49m\n\u001b[1;32m     44\u001b[0m \u001b[38;5;66;03m# for move in available_moves:\u001b[39;00m\n\u001b[1;32m     45\u001b[0m \u001b[38;5;66;03m#     from_pos, slide = move\u001b[39;00m\n\u001b[1;32m     46\u001b[0m \u001b[38;5;66;03m#     new_state = deepcopy(game)\u001b[39;00m\n\u001b[0;32m   (...)\u001b[0m\n\u001b[1;32m     50\u001b[0m \u001b[38;5;66;03m# raise Exception(\"Not implemented\")\u001b[39;00m\n\u001b[1;32m     51\u001b[0m \u001b[38;5;66;03m# print(\"available moves: \", available_moves)\u001b[39;00m\n\u001b[1;32m     52\u001b[0m \u001b[38;5;28;01mif\u001b[39;00m random\u001b[38;5;241m.\u001b[39mrandom() \u001b[38;5;241m<\u001b[39m \u001b[38;5;28mself\u001b[39m\u001b[38;5;241m.\u001b[39mrandom_move:\n\u001b[1;32m     53\u001b[0m     \u001b[38;5;66;03m# print(\"random\")\u001b[39;00m\n",
      "File \u001b[0;32m~/Desktop/nico/UNIVERSITA/MAGISTRALE/3_Semestre/Computational_Intelligence/Labs/My_Fork/Computational_Intelligence/quixo/game.py:323\u001b[0m, in \u001b[0;36mGame.get_available_moves\u001b[0;34m(self)\u001b[0m\n\u001b[1;32m    321\u001b[0m \u001b[38;5;28;01mdef\u001b[39;00m \u001b[38;5;21mget_available_moves\u001b[39m(\u001b[38;5;28mself\u001b[39m):\n\u001b[1;32m    322\u001b[0m \u001b[38;5;250m    \u001b[39m\u001b[38;5;124;03m'''Returns a list of available moves for the player'''\u001b[39;00m\n\u001b[0;32m--> 323\u001b[0m     \u001b[38;5;28;43mself\u001b[39;49m\u001b[38;5;241;43m.\u001b[39;49m\u001b[43m__available_moves\u001b[49m\u001b[43m(\u001b[49m\u001b[43m)\u001b[49m\n\u001b[1;32m    324\u001b[0m     \u001b[38;5;28;01mreturn\u001b[39;00m \u001b[38;5;28mself\u001b[39m\u001b[38;5;241m.\u001b[39mavailable_moves\n",
      "File \u001b[0;32m~/Desktop/nico/UNIVERSITA/MAGISTRALE/3_Semestre/Computational_Intelligence/Labs/My_Fork/Computational_Intelligence/quixo/game.py:316\u001b[0m, in \u001b[0;36mGame.__available_moves\u001b[0;34m(self)\u001b[0m\n\u001b[1;32m    314\u001b[0m \u001b[38;5;28;01mif\u001b[39;00m row \u001b[38;5;241m==\u001b[39m \u001b[38;5;241m0\u001b[39m \u001b[38;5;129;01mor\u001b[39;00m row \u001b[38;5;241m==\u001b[39m \u001b[38;5;241m4\u001b[39m \u001b[38;5;129;01mor\u001b[39;00m col \u001b[38;5;241m==\u001b[39m \u001b[38;5;241m0\u001b[39m \u001b[38;5;129;01mor\u001b[39;00m col \u001b[38;5;241m==\u001b[39m \u001b[38;5;241m4\u001b[39m:\n\u001b[1;32m    315\u001b[0m     \u001b[38;5;28;01mfor\u001b[39;00m move \u001b[38;5;129;01min\u001b[39;00m Move:\n\u001b[0;32m--> 316\u001b[0m         possible_move \u001b[38;5;241m=\u001b[39m \u001b[38;5;28;43mself\u001b[39;49m\u001b[38;5;241;43m.\u001b[39;49m\u001b[43m__move\u001b[49m\u001b[43m(\u001b[49m\u001b[43m(\u001b[49m\u001b[43mrow\u001b[49m\u001b[43m,\u001b[49m\u001b[43m \u001b[49m\u001b[43mcol\u001b[49m\u001b[43m)\u001b[49m\u001b[43m,\u001b[49m\u001b[43m \u001b[49m\u001b[43mmove\u001b[49m\u001b[43m,\u001b[49m\u001b[43m \u001b[49m\u001b[38;5;28;43mself\u001b[39;49m\u001b[38;5;241;43m.\u001b[39;49m\u001b[43mcurrent_player_idx\u001b[49m\u001b[43m)\u001b[49m\n\u001b[1;32m    317\u001b[0m         \u001b[38;5;28mself\u001b[39m\u001b[38;5;241m.\u001b[39m_board \u001b[38;5;241m=\u001b[39m deepcopy(old_board)\n\u001b[1;32m    318\u001b[0m         \u001b[38;5;28;01mif\u001b[39;00m possible_move:\n",
      "File \u001b[0;32m~/Desktop/nico/UNIVERSITA/MAGISTRALE/3_Semestre/Computational_Intelligence/Labs/My_Fork/Computational_Intelligence/quixo/game.py:153\u001b[0m, in \u001b[0;36mGame.__move\u001b[0;34m(self, from_pos, slide, player_id)\u001b[0m\n\u001b[1;32m    151\u001b[0m \u001b[38;5;66;03m# Oh God, Numpy arrays\u001b[39;00m\n\u001b[1;32m    152\u001b[0m prev_value \u001b[38;5;241m=\u001b[39m deepcopy(\u001b[38;5;28mself\u001b[39m\u001b[38;5;241m.\u001b[39m_board[(from_pos[\u001b[38;5;241m1\u001b[39m], from_pos[\u001b[38;5;241m0\u001b[39m])])\n\u001b[0;32m--> 153\u001b[0m acceptable \u001b[38;5;241m=\u001b[39m \u001b[38;5;28;43mself\u001b[39;49m\u001b[38;5;241;43m.\u001b[39;49m\u001b[43m__take\u001b[49m\u001b[43m(\u001b[49m\u001b[43m(\u001b[49m\u001b[43mfrom_pos\u001b[49m\u001b[43m[\u001b[49m\u001b[38;5;241;43m1\u001b[39;49m\u001b[43m]\u001b[49m\u001b[43m,\u001b[49m\u001b[43m \u001b[49m\u001b[43mfrom_pos\u001b[49m\u001b[43m[\u001b[49m\u001b[38;5;241;43m0\u001b[39;49m\u001b[43m]\u001b[49m\u001b[43m)\u001b[49m\u001b[43m,\u001b[49m\u001b[43m \u001b[49m\u001b[43mplayer_id\u001b[49m\u001b[43m)\u001b[49m\n\u001b[1;32m    154\u001b[0m \u001b[38;5;28;01mif\u001b[39;00m acceptable:\n\u001b[1;32m    155\u001b[0m     acceptable \u001b[38;5;241m=\u001b[39m \u001b[38;5;28mself\u001b[39m\u001b[38;5;241m.\u001b[39m__slide((from_pos[\u001b[38;5;241m1\u001b[39m], from_pos[\u001b[38;5;241m0\u001b[39m]), slide)\n",
      "\u001b[0;31mKeyboardInterrupt\u001b[0m: "
     ]
    }
   ],
   "source": [
    "player0 = ReinforcementPlayer()\n",
    "player1 = RandomPlayer()\n",
    "\n",
    "player0.set_random_move(0.6)\n",
    "\n",
    "for round in tqdm(range(500_000)):\n",
    "    if round % 50_000 == 0 and player0.random_move > 0.2:\n",
    "        player0.set_random_move(player0.random_move - 0.1)\n",
    "    game = Game()\n",
    "    win = game.play(player0, player1)\n",
    "    # print(win)\n",
    "    if win == 0:\n",
    "        player0.give_reward(1, game.trajectory)\n",
    "    elif win == 1:\n",
    "        player0.give_reward(-1, game.trajectory)\n",
    "    else:\n",
    "        player0.give_reward(0, game.trajectory)"
   ]
  },
  {
   "cell_type": "code",
   "execution_count": null,
   "metadata": {},
   "outputs": [],
   "source": [
    "\"\"\"Creates the policy file\"\"\"\n",
    "fw = open('policy_first_500k_decreasing_exp_rate_from_06_to_02', 'wb')\n",
    "pickle.dump(player0.value_dictionary, fw)\n",
    "fw.close()"
   ]
  },
  {
   "cell_type": "code",
   "execution_count": null,
   "metadata": {},
   "outputs": [
    {
     "name": "stderr",
     "output_type": "stream",
     "text": [
      "100%|██████████| 100/100 [00:04<00:00, 20.09it/s]"
     ]
    },
    {
     "name": "stdout",
     "output_type": "stream",
     "text": [
      "Win rate: 0.8%\n",
      "Lose rate: 0.2%\n",
      "Draw rate: 0.0%\n"
     ]
    },
    {
     "name": "stderr",
     "output_type": "stream",
     "text": [
      "\n"
     ]
    }
   ],
   "source": [
    "player0.set_random_move(0)\n",
    "win_rate = 0\n",
    "lose_rate = 0\n",
    "draw_rate = 0\n",
    "\n",
    "for _ in tqdm(range(1_000)):\n",
    "    game = Game()\n",
    "    win = game.play(player0, player1)\n",
    "    if win == 0:\n",
    "        win_rate += 1\n",
    "    elif win == 1:\n",
    "        lose_rate += 1\n",
    "    else:\n",
    "        draw_rate += 1\n",
    "\n",
    "print(f\"Win rate: {win_rate/100}%\")\n",
    "print(f\"Lose rate: {lose_rate/100}%\")\n",
    "print(f\"Draw rate: {draw_rate/100}%\")"
   ]
  }
 ],
 "metadata": {
  "kernelspec": {
   "display_name": "Computational_Intelligence",
   "language": "python",
   "name": "python3"
  },
  "language_info": {
   "codemirror_mode": {
    "name": "ipython",
    "version": 3
   },
   "file_extension": ".py",
   "mimetype": "text/x-python",
   "name": "python",
   "nbconvert_exporter": "python",
   "pygments_lexer": "ipython3",
   "version": "3.10.13"
  }
 },
 "nbformat": 4,
 "nbformat_minor": 2
}
