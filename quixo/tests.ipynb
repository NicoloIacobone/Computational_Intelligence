{
 "cells": [
  {
   "cell_type": "code",
   "execution_count": 2,
   "metadata": {},
   "outputs": [],
   "source": [
    "import numpy as np\n",
    "from game import Game, Move, Player\n",
    "from main import Player, ReinforcementPlayer, RandomPlayer\n",
    "from tqdm import tqdm"
   ]
  },
  {
   "cell_type": "markdown",
   "metadata": {},
   "source": [
    "Test 50k plays ReinforcementPlayer against RandomPlayer"
   ]
  },
  {
   "cell_type": "code",
   "execution_count": 3,
   "metadata": {},
   "outputs": [
    {
     "name": "stderr",
     "output_type": "stream",
     "text": [
      "100%|██████████| 50000/50000 [47:36<00:00, 17.50it/s] \n"
     ]
    }
   ],
   "source": [
    "player0 = ReinforcementPlayer()\n",
    "player1 = RandomPlayer()\n",
    "\n",
    "for _ in tqdm(range(50_000)):\n",
    "    game = Game()\n",
    "    win = game.play(player0, player1)\n",
    "    # print(win)\n",
    "    if win == 0:\n",
    "        player0.give_reward(1, game.trajectory)\n",
    "    elif win == 1:\n",
    "        player0.give_reward(-1, game.trajectory)\n",
    "    else:\n",
    "        player0.give_reward(0, game.trajectory)"
   ]
  },
  {
   "cell_type": "code",
   "execution_count": 4,
   "metadata": {},
   "outputs": [],
   "source": [
    "player0.create_policy()"
   ]
  },
  {
   "cell_type": "code",
   "execution_count": 5,
   "metadata": {},
   "outputs": [
    {
     "name": "stderr",
     "output_type": "stream",
     "text": [
      "100%|██████████| 100/100 [00:05<00:00, 18.17it/s]"
     ]
    },
    {
     "name": "stdout",
     "output_type": "stream",
     "text": [
      "Win rate: 0.62%\n",
      "Lose rate: 0.38%\n",
      "Draw rate: 0.0%\n"
     ]
    },
    {
     "name": "stderr",
     "output_type": "stream",
     "text": [
      "\n"
     ]
    }
   ],
   "source": [
    "player0.set_random_move(0)\n",
    "win_rate = 0\n",
    "lose_rate = 0\n",
    "draw_rate = 0\n",
    "\n",
    "for _ in tqdm(range(100)):\n",
    "    # print(\"0\")\n",
    "    game = Game()\n",
    "    # print(\"1\")\n",
    "    win = game.play(player0, player1)\n",
    "    # print(\"A\")\n",
    "    if win == 0:\n",
    "        # print(\"B\")\n",
    "        # game.print()\n",
    "        win_rate += 1\n",
    "    elif win == 1:\n",
    "        # print(\"C\")\n",
    "        # game.print()\n",
    "        lose_rate += 1\n",
    "    else:\n",
    "        # print(\"D\")\n",
    "        # game.print()\n",
    "        draw_rate += 1\n",
    "\n",
    "print(f\"Win rate: {win_rate/100}%\")\n",
    "print(f\"Lose rate: {lose_rate/100}%\")\n",
    "print(f\"Draw rate: {draw_rate/100}%\")"
   ]
  },
  {
   "cell_type": "code",
   "execution_count": null,
   "metadata": {},
   "outputs": [],
   "source": []
  }
 ],
 "metadata": {
  "kernelspec": {
   "display_name": "Computational_Intelligence",
   "language": "python",
   "name": "python3"
  },
  "language_info": {
   "codemirror_mode": {
    "name": "ipython",
    "version": 3
   },
   "file_extension": ".py",
   "mimetype": "text/x-python",
   "name": "python",
   "nbconvert_exporter": "python",
   "pygments_lexer": "ipython3",
   "version": "3.10.13"
  }
 },
 "nbformat": 4,
 "nbformat_minor": 2
}
