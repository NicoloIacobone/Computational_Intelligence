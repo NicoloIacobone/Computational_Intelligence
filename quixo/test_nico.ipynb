{
 "cells": [
  {
   "cell_type": "code",
   "execution_count": 2,
   "metadata": {},
   "outputs": [],
   "source": [
    "import numpy as np"
   ]
  },
  {
   "cell_type": "code",
   "execution_count": 5,
   "metadata": {},
   "outputs": [],
   "source": [
    "board = np.ones((5, 5), dtype=np.uint8) * -1"
   ]
  },
  {
   "cell_type": "code",
   "execution_count": 14,
   "metadata": {},
   "outputs": [],
   "source": [
    "board[0][0] = 0\n",
    "board[0][1] = 1\n",
    "board[0][2] = 1\n",
    "board[1][2] = 1"
   ]
  },
  {
   "cell_type": "code",
   "execution_count": 17,
   "metadata": {},
   "outputs": [
    {
     "name": "stdout",
     "output_type": "stream",
     "text": [
      "❌ ⬜️ ⬜️ ⬜️ ⬜️ \n",
      "⭕️ ⬜️ ⬜️ ⬜️ ⬜️ \n",
      "⭕️ ⭕️ ⬜️ ⬜️ ⬜️ \n",
      "⬜️ ⬜️ ⬜️ ⬜️ ⬜️ \n",
      "⬜️ ⬜️ ⬜️ ⬜️ ⬜️ \n",
      "\n"
     ]
    }
   ],
   "source": [
    "for j in range(5):\n",
    "    for i in range(5):\n",
    "        if board[i][j] == -1:\n",
    "            print('⬜️', end=' ')\n",
    "        elif board[i][j] == 0:\n",
    "            print('❌', end=' ')\n",
    "        else:\n",
    "            print('⭕️', end=' ')            \n",
    "    print()\n",
    "print()"
   ]
  }
 ],
 "metadata": {
  "kernelspec": {
   "display_name": "Computational_Intelligence",
   "language": "python",
   "name": "python3"
  },
  "language_info": {
   "codemirror_mode": {
    "name": "ipython",
    "version": 3
   },
   "file_extension": ".py",
   "mimetype": "text/x-python",
   "name": "python",
   "nbconvert_exporter": "python",
   "pygments_lexer": "ipython3",
   "version": "3.10.13"
  }
 },
 "nbformat": 4,
 "nbformat_minor": 2
}
