{
 "cells": [
  {
   "cell_type": "code",
   "execution_count": 19,
   "metadata": {},
   "outputs": [],
   "source": [
    "import numpy as np\n",
    "from game import Game, Move, Player\n",
    "from main import Player, ReinforcementPlayer, RandomPlayer\n",
    "from tqdm import tqdm\n",
    "import pickle"
   ]
  },
  {
   "cell_type": "code",
   "execution_count": 20,
   "metadata": {},
   "outputs": [],
   "source": [
    "# board = np.ones((5, 5), dtype=np.uint8) * -1"
   ]
  },
  {
   "cell_type": "code",
   "execution_count": 21,
   "metadata": {},
   "outputs": [],
   "source": [
    "# board[0][0] = 0\n",
    "# board[0][1] = 1\n",
    "# board[0][2] = 1\n",
    "# board[1][2] = 1"
   ]
  },
  {
   "cell_type": "code",
   "execution_count": 22,
   "metadata": {},
   "outputs": [],
   "source": [
    "# for j in range(5):\n",
    "#     for i in range(5):\n",
    "#         if board[i][j] == -1:\n",
    "#             print('⬜️', end=' ')\n",
    "#         elif board[i][j] == 0:\n",
    "#             print('❌', end=' ')\n",
    "#         else:\n",
    "#             print('⭕️', end=' ')            \n",
    "#     print()\n",
    "# print()"
   ]
  },
  {
   "cell_type": "code",
   "execution_count": 23,
   "metadata": {},
   "outputs": [],
   "source": [
    "# for a in (0, 4):\n",
    "#     print(a)"
   ]
  },
  {
   "cell_type": "code",
   "execution_count": 24,
   "metadata": {},
   "outputs": [],
   "source": [
    "# # Crea una matrice 5x5 vuota\n",
    "# matrix = [[0 for _ in range(5)] for _ in range(5)]\n",
    "\n",
    "# # Imposta i bordi della matrice\n",
    "# for i in range(5):\n",
    "#     for j in range(5):\n",
    "#         if i == 0 or i == 4 or j == 0 or j == 4:\n",
    "#             matrix[i][j] = 'X'"
   ]
  },
  {
   "cell_type": "code",
   "execution_count": 25,
   "metadata": {},
   "outputs": [],
   "source": [
    "# matrix"
   ]
  },
  {
   "cell_type": "code",
   "execution_count": 26,
   "metadata": {},
   "outputs": [],
   "source": [
    "# gioco = Game()\n",
    "# gioco.get_available_moves()\n",
    "# print(gioco.available_moves)"
   ]
  },
  {
   "cell_type": "code",
   "execution_count": 27,
   "metadata": {},
   "outputs": [],
   "source": [
    "# gioco.print()\n",
    "# # gioco.move((0, 1), Move.TOP, 0)\n",
    "# gioco.print()"
   ]
  },
  {
   "cell_type": "code",
   "execution_count": 28,
   "metadata": {},
   "outputs": [],
   "source": [
    "# gioco = Game()\n",
    "# mosse = gioco.get_available_moves()\n",
    "# from_pos, slide = mosse[0]\n",
    "# print(\"from_pos\", from_pos)\n",
    "# print(\"slide\", slide)\n",
    "# gioco.print()\n",
    "# gioco.make_single_move(from_pos, slide, 0)\n",
    "# gioco.print()"
   ]
  },
  {
   "cell_type": "code",
   "execution_count": 29,
   "metadata": {},
   "outputs": [],
   "source": [
    "# hashable_state = tuple(map(tuple, gioco._board))\n",
    "# print(hashable_state)\n",
    "# hashable_state = frozenset(gioco._board.flatten())\n",
    "# print(hashable_state)\n",
    "# hashable_state = tuple(gioco._board.flatten())\n",
    "# print(hashable_state)"
   ]
  },
  {
   "cell_type": "code",
   "execution_count": 30,
   "metadata": {},
   "outputs": [],
   "source": [
    "# game = Game()\n",
    "# player = ReinforcementPlayer()\n",
    "# from_pos, slide = player.make_move(game)\n",
    "# print(\"from_pos\", from_pos)\n",
    "# print(\"slide\", slide)"
   ]
  },
  {
   "cell_type": "markdown",
   "metadata": {},
   "source": [
    "-------------------------- TEST 2 --------------------------"
   ]
  },
  {
   "cell_type": "code",
   "execution_count": 31,
   "metadata": {},
   "outputs": [],
   "source": [
    "# player0 = ReinforcementPlayer()\n",
    "# player1 = RandomPlayer()"
   ]
  },
  {
   "cell_type": "code",
   "execution_count": 32,
   "metadata": {},
   "outputs": [],
   "source": [
    "# player0.set_random_move(0.3)\n",
    "# for _ in tqdm(range(10_000)):\n",
    "#     game = Game()\n",
    "#     win = game.play(player0, player1)\n",
    "#     # print(win)\n",
    "#     if win == 0:\n",
    "#         player0.give_reward(1, game.trajectory)\n",
    "#     elif win == 1:\n",
    "#         player0.give_reward(-1, game.trajectory)\n",
    "#     else:\n",
    "#         player0.give_reward(0, game.trajectory)"
   ]
  },
  {
   "cell_type": "code",
   "execution_count": 33,
   "metadata": {},
   "outputs": [],
   "source": [
    "# player0.create_policy()"
   ]
  },
  {
   "cell_type": "code",
   "execution_count": 34,
   "metadata": {},
   "outputs": [],
   "source": [
    "# player0.set_random_move(0)\n",
    "# win_rate = 0\n",
    "# lose_rate = 0\n",
    "# draw_rate = 0\n",
    "\n",
    "# for _ in tqdm(range(100)):\n",
    "#     # print(\"0\")\n",
    "#     game = Game()\n",
    "#     # print(\"1\")\n",
    "#     win = game.play(player0, player1)\n",
    "#     # print(\"A\")\n",
    "#     if win == 0:\n",
    "#         # print(\"B\")\n",
    "#         # game.print()\n",
    "#         win_rate += 1\n",
    "#     elif win == 1:\n",
    "#         # print(\"C\")\n",
    "#         # game.print()\n",
    "#         lose_rate += 1\n",
    "#     else:\n",
    "#         # print(\"D\")\n",
    "#         # game.print()\n",
    "#         draw_rate += 1\n",
    "\n",
    "# print(f\"Win rate: {win_rate/100}%\")\n",
    "# print(f\"Lose rate: {lose_rate/100}%\")\n",
    "# print(f\"Draw rate: {draw_rate/100}%\")"
   ]
  },
  {
   "cell_type": "code",
   "execution_count": 35,
   "metadata": {},
   "outputs": [],
   "source": [
    "# player0.print_reward()"
   ]
  },
  {
   "cell_type": "code",
   "execution_count": 36,
   "metadata": {},
   "outputs": [],
   "source": [
    "# gioco_prova_hash = Game()\n",
    "# print(gioco_prova_hash._board)\n",
    "# board_string = np.array2string(gioco_prova_hash._board.flatten())\n",
    "# print(board_string)"
   ]
  },
  {
   "cell_type": "markdown",
   "metadata": {},
   "source": [
    "test con 50k round (min) e exp_rate 0.5 decrescente (-0.1) ogni 10k round:"
   ]
  },
  {
   "cell_type": "code",
   "execution_count": 37,
   "metadata": {},
   "outputs": [
    {
     "name": "stderr",
     "output_type": "stream",
     "text": [
      "100%|██████████| 50000/50000 [47:04<00:00, 17.70it/s]  \n"
     ]
    }
   ],
   "source": [
    "player0 = ReinforcementPlayer()\n",
    "player1 = RandomPlayer()\n",
    "\n",
    "player0.set_random_move(0.5)\n",
    "\n",
    "for round in tqdm(range(50_000)):\n",
    "    if round % 10_000 == 0:\n",
    "        player0.set_random_move(player0.random_move - 0.1)\n",
    "    game = Game()\n",
    "    win = game.play(player0, player1)\n",
    "    # print(win)\n",
    "    if win == 0:\n",
    "        player0.give_reward(1, game.trajectory)\n",
    "    elif win == 1:\n",
    "        player0.give_reward(-1, game.trajectory)\n",
    "    else:\n",
    "        player0.give_reward(0, game.trajectory)"
   ]
  },
  {
   "cell_type": "code",
   "execution_count": 38,
   "metadata": {},
   "outputs": [],
   "source": [
    "\"\"\"Creates the policy file\"\"\"\n",
    "fw = open('policy_first_50k_decreasing_exp_rate', 'wb')\n",
    "pickle.dump(player0.value_dictionary, fw)\n",
    "fw.close()"
   ]
  },
  {
   "cell_type": "code",
   "execution_count": 39,
   "metadata": {},
   "outputs": [
    {
     "name": "stderr",
     "output_type": "stream",
     "text": [
      "100%|██████████| 100/100 [00:04<00:00, 20.09it/s]"
     ]
    },
    {
     "name": "stdout",
     "output_type": "stream",
     "text": [
      "Win rate: 0.8%\n",
      "Lose rate: 0.2%\n",
      "Draw rate: 0.0%\n"
     ]
    },
    {
     "name": "stderr",
     "output_type": "stream",
     "text": [
      "\n"
     ]
    }
   ],
   "source": [
    "player0.set_random_move(0)\n",
    "win_rate = 0\n",
    "lose_rate = 0\n",
    "draw_rate = 0\n",
    "\n",
    "for _ in tqdm(range(100)):\n",
    "    game = Game()\n",
    "    win = game.play(player0, player1)\n",
    "    if win == 0:\n",
    "        win_rate += 1\n",
    "    elif win == 1:\n",
    "        lose_rate += 1\n",
    "    else:\n",
    "        draw_rate += 1\n",
    "\n",
    "print(f\"Win rate: {win_rate/100}%\")\n",
    "print(f\"Lose rate: {lose_rate/100}%\")\n",
    "print(f\"Draw rate: {draw_rate/100}%\")"
   ]
  }
 ],
 "metadata": {
  "kernelspec": {
   "display_name": "Computational_Intelligence",
   "language": "python",
   "name": "python3"
  },
  "language_info": {
   "codemirror_mode": {
    "name": "ipython",
    "version": 3
   },
   "file_extension": ".py",
   "mimetype": "text/x-python",
   "name": "python",
   "nbconvert_exporter": "python",
   "pygments_lexer": "ipython3",
   "version": "3.10.13"
  }
 },
 "nbformat": 4,
 "nbformat_minor": 2
}
