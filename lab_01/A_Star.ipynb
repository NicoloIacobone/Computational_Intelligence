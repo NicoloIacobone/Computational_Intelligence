{
 "cells": [
  {
   "cell_type": "markdown",
   "metadata": {},
   "source": [
    "# Imports"
   ]
  },
  {
   "cell_type": "code",
   "execution_count": 1,
   "metadata": {},
   "outputs": [],
   "source": [
    "import numpy as np\n",
    "from collections import namedtuple\n",
    "from functools import reduce\n",
    "from random import random\n",
    "from queue import PriorityQueue\n",
    "from tqdm.auto import tqdm\n",
    "from math import ceil\n",
    "from statistics import mean"
   ]
  },
  {
   "cell_type": "markdown",
   "metadata": {},
   "source": [
    "## Problem Description"
   ]
  },
  {
   "cell_type": "code",
   "execution_count": 2,
   "metadata": {},
   "outputs": [],
   "source": [
    "State = namedtuple('State', ['taken', 'not_taken'])\n",
    "\n",
    "PROBLEM_SIZE = 100\n",
    "NUM_SETS = 200\n",
    "SETS = tuple(np.array([random() < 0.2 for _ in range(PROBLEM_SIZE)]) for _ in range(NUM_SETS))\n",
    "\n",
    "def covered(state):\n",
    "    return reduce(\n",
    "        np.logical_or,\n",
    "        [SETS[i] for i in state.taken],\n",
    "        np.array([False for _ in range(PROBLEM_SIZE)]),\n",
    "    )\n",
    "\n",
    "\n",
    "def goal_check(state):\n",
    "    return np.all(covered(state))\n",
    "\n",
    "\n",
    "assert goal_check(State(set(range(NUM_SETS)), set())), \"Problem not solvable\""
   ]
  },
  {
   "cell_type": "markdown",
   "metadata": {},
   "source": [
    "# A* Search Algorithm"
   ]
  },
  {
   "cell_type": "code",
   "execution_count": 3,
   "metadata": {},
   "outputs": [],
   "source": [
    "def h(state):\n",
    "    largest_set_size = max(sum(s) for s in SETS)\n",
    "    missing_size = PROBLEM_SIZE - sum(covered(state))\n",
    "    optimistic_estimate = ceil(missing_size / largest_set_size)\n",
    "    print(\"largest_set_size: \", largest_set_size)\n",
    "    print(\"missing_size: \", missing_size)\n",
    "    print(\"optimistic_estimate: \", optimistic_estimate)\n",
    "    return optimistic_estimate\n",
    "\n",
    "\n",
    "def h2(state):\n",
    "    already_covered = covered(state)\n",
    "    if np.all(already_covered):\n",
    "        return 0\n",
    "    largest_set_size = max(sum(np.logical_and(s, np.logical_not(already_covered))) for s in SETS)\n",
    "    missing_size = PROBLEM_SIZE - sum(already_covered)\n",
    "    optimistic_estimate = ceil(missing_size / largest_set_size)\n",
    "    return optimistic_estimate\n",
    "\n",
    "\n",
    "def h3(state):\n",
    "    already_covered = covered(state)\n",
    "    if np.all(already_covered):\n",
    "        return 0\n",
    "    missing_size = PROBLEM_SIZE - sum(already_covered)\n",
    "    candidates = sorted((sum(np.logical_and(s, np.logical_not(already_covered))) for s in SETS), reverse=True)\n",
    "    taken = 1\n",
    "    while sum(candidates[:taken]) < missing_size:\n",
    "        taken += 1\n",
    "    # print(\"taken: \", taken)\n",
    "    return taken\n",
    "\n",
    "# possibile miglioramento: scegliere l'utilità basandosi sulla probabilità che un numero appaia sia singolarmente che in coppia con altri numeri\n",
    "# potrei dare un punteggio basandomi su quanti elementi utili ci sono in ogni set, dove utili è diverso da più numerosi\n",
    "# ovviamente il primo step prende i più numerosi, ma poi potrebbe essere che un set con meno elementi utili sia più utile di uno con più elementi\n",
    "# il punteggio potrebbe essere calcolato basandosi sul confronto tra il set e lo stato attuale\n",
    "def h_nico_che_non_ha_capito_niente(state):\n",
    "    score = 0\n",
    "    if np.all(covered(state)):\n",
    "        return score\n",
    "    results = []\n",
    "    already_covered = covered(state)  # array di booleani che indica quali numeri sono già stati coperti e in quale posizione sono\n",
    "    # for (index, value) in enumerate(already_covered):\n",
    "    for set in state.not_taken:\n",
    "        result = sum(np.logical_or(already_covered, set))\n",
    "        results.append(result)\n",
    "\n",
    "    max_value = max(results)\n",
    "    return max_value\n",
    "\n",
    "\n",
    "# l'obiettivo è dare un punteggio allo state, non al set da prendere, quindi devo valutare un metodo per dare un punteggio basato su quanto sono vicino alla soluzione\n",
    "# però potrei dare un punteggio allo stato attuale bassandomi sull'analisi dei set che posso scegliere\n",
    "# potrei analizzare i set candidati e generare per ognuno un valore che indica quanto è utile quel set e poi ritornare il valore piu alto tra tutti i set\n",
    "def h_nico_che_forse_ha_capito(state):\n",
    "    already_covered = covered(state)\n",
    "    if np.all(already_covered):\n",
    "        return 0\n",
    "    missing = PROBLEM_SIZE - sum(already_covered)\n",
    "    utility = []\n",
    "    # per ogni set che è incluso in state.not_taken conto quanti valori utili ci sono\n",
    "    # potrei fare +1 per ogni valore utile e poi moltiplicare il risultato per il numero di caselle mancanti\n",
    "    # candidates = [sum(np.logical_and(s, np.logical_not(already_covered))) for s in SETS]\n",
    "    # for (index, s) in enumerate(state.not_taken):\n",
    "    temp_score = 0\n",
    "    # print(\"State not taken: \", state.not_taken)\n",
    "    for s in state.not_taken:\n",
    "        # print(\"s: \", s)\n",
    "        for (index, value) in enumerate(SETS[s]):\n",
    "            if value == True and already_covered[index] == False:\n",
    "                temp_score += 1  # +1 per ogni valore utile\n",
    "        utility.append(temp_score * missing)\n",
    "        temp_score = 0\n",
    "    \n",
    "    # toreturn = ceil(mean(utility))\n",
    "    # toreturn = mean(utility)\n",
    "    toreturn = max(utility)\n",
    "    # print(\"score\" , toreturn)\n",
    "    return toreturn\n",
    "        \n",
    "\n",
    "def f(state):\n",
    "    # return len(state.taken) + h3(state)\n",
    "    return len(state.taken) + h_nico_che_forse_ha_capito(state)"
   ]
  },
  {
   "cell_type": "code",
   "execution_count": 4,
   "metadata": {},
   "outputs": [
    {
     "data": {
      "application/vnd.jupyter.widget-view+json": {
       "model_id": "e99a8d02fb8d445db8d0d08c957487f8",
       "version_major": 2,
       "version_minor": 0
      },
      "text/plain": [
       "0it [00:00, ?it/s]"
      ]
     },
     "metadata": {},
     "output_type": "display_data"
    },
    {
     "name": "stdout",
     "output_type": "stream",
     "text": [
      "Solved in 8 steps (8 tiles)\n",
      "Used tiles:  {2, 169, 42, 13, 53, 118, 61, 126}\n"
     ]
    }
   ],
   "source": [
    "frontier = PriorityQueue()\n",
    "state = State(set(), set(range(NUM_SETS)))\n",
    "frontier.put((f(state), state))\n",
    "\n",
    "counter = 0\n",
    "_, current_state = frontier.get()\n",
    "with tqdm(total=None) as pbar:\n",
    "    while not goal_check(current_state):\n",
    "        counter += 1\n",
    "        for action in current_state[1]:\n",
    "            new_state = State(\n",
    "                current_state.taken ^ {action},\n",
    "                current_state.not_taken ^ {action},\n",
    "            )\n",
    "            frontier.put((f(new_state), new_state))\n",
    "        _, current_state = frontier.get()\n",
    "        pbar.update(1)\n",
    "\n",
    "print(f\"Solved in {counter:,} steps ({len(current_state.taken)} tiles)\")\n",
    "print(\"Used tiles: \", current_state.taken)"
   ]
  },
  {
   "cell_type": "code",
   "execution_count": 5,
   "metadata": {},
   "outputs": [
    {
     "name": "stdout",
     "output_type": "stream",
     "text": [
      "Tiles used (hnico): \n",
      "Tile 2 covers [ True False False False False False False False False False False False\n",
      " False False  True False False  True False  True False False False  True\n",
      " False False False False False False False False False False False False\n",
      "  True False  True False False  True False  True False False  True False\n",
      " False False  True False False  True False  True False False  True False\n",
      " False  True False False False False False False  True  True False False\n",
      "  True  True  True False False False False False False False False  True\n",
      " False False False False False False False  True False False False False\n",
      " False False False  True]\n",
      "Tile 169 covers [ True False  True False  True False  True False  True False False False\n",
      " False False False  True False False False False False  True False  True\n",
      "  True False  True False  True  True  True False  True False  True False\n",
      " False  True  True False False False  True False False  True False False\n",
      "  True False  True False False False False False False False False False\n",
      " False False False False False  True False False False False False False\n",
      "  True  True False False False False False False False False  True  True\n",
      " False  True False False False False False False False False  True False\n",
      " False False  True False]\n",
      "Tile 42 covers [False False False False False  True  True False False  True False False\n",
      " False False False False False  True False False False False False  True\n",
      " False False False False  True False False False  True False False False\n",
      " False  True False False False  True  True False  True False False False\n",
      " False False  True False  True False False False False False False  True\n",
      " False False False False False False False False False False False False\n",
      "  True False False False  True  True  True  True False False False False\n",
      " False False  True  True  True False False False False  True False  True\n",
      "  True False  True False]\n",
      "Tile 13 covers [False False False  True False False False False False False False False\n",
      " False False False False  True  True False False False  True  True False\n",
      " False False False False False False False  True False False False  True\n",
      " False False  True False False False False False False False False False\n",
      " False False False False False False False False  True False False False\n",
      " False  True False False False False False False  True False  True  True\n",
      " False False  True  True False False False False False  True False False\n",
      " False False  True False False False False False False False False False\n",
      " False False  True False]\n",
      "Tile 53 covers [False False False  True  True False False False False False False False\n",
      " False False False False False False False False  True  True False False\n",
      "  True False False  True False False  True False False False  True False\n",
      " False False  True False False False False False False False False False\n",
      " False  True  True False  True False  True False False False False  True\n",
      "  True False False False False False  True False False False False False\n",
      " False False  True False False False False False False False False False\n",
      " False False  True False False False False False False  True  True False\n",
      " False False False False]\n",
      "Tile 118 covers [False  True False  True False False  True  True  True False False False\n",
      "  True  True False False  True False False False False False False  True\n",
      " False  True  True False  True False False  True False False False False\n",
      " False False False False False False False  True False False False False\n",
      " False False False False False False False False  True False  True False\n",
      " False False False False  True False  True False False  True  True False\n",
      "  True  True False False False False False  True False False False False\n",
      "  True False  True False False False False False False  True False False\n",
      " False False False  True]\n",
      "Tile 61 covers [False False False False False False False False False False  True  True\n",
      "  True False False False False  True  True False False False False  True\n",
      " False False False False False False  True False False  True False False\n",
      " False False False False False False False False False False  True  True\n",
      "  True False False  True False  True False False False False False  True\n",
      " False False  True  True False  True False  True  True False False False\n",
      " False  True False False False False  True False  True False False False\n",
      "  True False False False False False False  True  True False False False\n",
      "  True False  True False]\n",
      "Tile 126 covers [False False  True False  True False  True False False False False False\n",
      " False  True  True False  True  True  True False False False False False\n",
      "  True False False False False  True False  True False False False False\n",
      "  True False False  True  True  True False  True False False False  True\n",
      " False False  True False False False False False  True  True False False\n",
      " False False  True  True False False False False False  True  True False\n",
      " False False False  True False False  True False False  True False False\n",
      " False False False  True  True  True  True  True False  True  True False\n",
      " False  True False  True]\n"
     ]
    }
   ],
   "source": [
    "print(\"Tiles used (hnico): \")\n",
    "for tile in current_state.taken:\n",
    "    print(f\"Tile {tile} covers {SETS[tile]}\")\n"
   ]
  },
  {
   "cell_type": "code",
   "execution_count": 6,
   "metadata": {},
   "outputs": [
    {
     "data": {
      "text/plain": [
       "array([ True,  True,  True,  True, False])"
      ]
     },
     "execution_count": 6,
     "metadata": {},
     "output_type": "execute_result"
    }
   ],
   "source": [
    "np.logical_or(np.array([True, True, False, False, False]), np.array([True, False, True, True, False]))"
   ]
  }
 ],
 "metadata": {
  "kernelspec": {
   "display_name": "Computational_Intelligence",
   "language": "python",
   "name": "python3"
  },
  "language_info": {
   "codemirror_mode": {
    "name": "ipython",
    "version": 3
   },
   "file_extension": ".py",
   "mimetype": "text/x-python",
   "name": "python",
   "nbconvert_exporter": "python",
   "pygments_lexer": "ipython3",
   "version": "3.10.13"
  }
 },
 "nbformat": 4,
 "nbformat_minor": 2
}
