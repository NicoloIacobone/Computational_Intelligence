{
 "cells": [
  {
   "cell_type": "code",
   "execution_count": 1,
   "metadata": {},
   "outputs": [],
   "source": [
    "from game import Game\n",
    "import numpy as np\n",
    "from main import RandomPlayer\n",
    "from my_players import HumanPlayer, MinimaxPlayer, ReinforcementPlayer\n",
    "from collections import defaultdict\n",
    "from utils import Utils\n"
   ]
  },
  {
   "cell_type": "code",
   "execution_count": 3,
   "metadata": {},
   "outputs": [
    {
     "name": "stdout",
     "output_type": "stream",
     "text": [
      "b'\\xff\\xff\\xff\\xff\\xff\\xff\\xff\\xff\\xff\\xff\\xff\\xff\\xff\\xff\\xff\\xff\\xff\\xff\\xff\\xff\\xff\\xff\\xff\\xff\\xff'\n",
      "[[-1 -1 -1 -1 -1]\n",
      " [-1 -1 -1 -1 -1]\n",
      " [-1 -1 -1 -1 -1]\n",
      " [-1 -1 -1 -1 -1]\n",
      " [-1 -1 -1 -1 -1]]\n"
     ]
    }
   ],
   "source": [
    "game = Game()\n",
    "board = game._board\n",
    "old_hash = board.astype(np.int8).flatten().tobytes()\n",
    "print(old_hash)\n",
    "print(board)"
   ]
  },
  {
   "cell_type": "code",
   "execution_count": 5,
   "metadata": {},
   "outputs": [
    {
     "ename": "AttributeError",
     "evalue": "'str' object has no attribute 'tobytes'",
     "output_type": "error",
     "traceback": [
      "\u001b[0;31m---------------------------------------------------------------------------\u001b[0m",
      "\u001b[0;31mAttributeError\u001b[0m                            Traceback (most recent call last)",
      "Cell \u001b[0;32mIn[5], line 2\u001b[0m\n\u001b[1;32m      1\u001b[0m stringa_di_test \u001b[38;5;241m=\u001b[39m \u001b[38;5;124m\"\u001b[39m\u001b[38;5;124m000\u001b[39m\u001b[38;5;124m\"\u001b[39m\n\u001b[0;32m----> 2\u001b[0m \u001b[38;5;28mprint\u001b[39m(\u001b[43mstringa_di_test\u001b[49m\u001b[38;5;241;43m.\u001b[39;49m\u001b[43mtobytes\u001b[49m())\n",
      "\u001b[0;31mAttributeError\u001b[0m: 'str' object has no attribute 'tobytes'"
     ]
    }
   ],
   "source": [
    "stringa_di_test = \"000\"\n",
    "print(stringa_di_test.tobytes())"
   ]
  },
  {
   "cell_type": "code",
   "execution_count": 6,
   "metadata": {},
   "outputs": [],
   "source": [
    "import numpy as np\n",
    "from hashing_functions import my_hash, my_undo_hash"
   ]
  },
  {
   "cell_type": "code",
   "execution_count": 7,
   "metadata": {},
   "outputs": [
    {
     "name": "stdout",
     "output_type": "stream",
     "text": [
      "750599937895082\n",
      "[[1 1 1 1 1]\n",
      " [1 1 1 1 1]\n",
      " [1 1 1 1 1]\n",
      " [1 1 1 1 1]\n",
      " [1 1 1 1 1]]\n"
     ]
    }
   ],
   "source": [
    "# Esempio di utilizzo\n",
    "board = np.array([[1, 1, 1, 1, 1],\n",
    "                  [1, 1, 1, 1, 1],\n",
    "                  [1, 1, 1, 1, 1],\n",
    "                  [1, 1, 1, 1, 1],\n",
    "                  [1, 1, 1, 1, 1]])\n",
    "\n",
    "compact_hash = my_hash(board)\n",
    "print(compact_hash)\n",
    "\n",
    "board_reconstructed = my_undo_hash(compact_hash)\n",
    "print(board_reconstructed)"
   ]
  },
  {
   "cell_type": "code",
   "execution_count": 32,
   "metadata": {},
   "outputs": [],
   "source": [
    "my_dict = defaultdict(int)"
   ]
  },
  {
   "cell_type": "code",
   "execution_count": 35,
   "metadata": {},
   "outputs": [],
   "source": [
    "my_dict[compact_hash] += 1"
   ]
  },
  {
   "cell_type": "code",
   "execution_count": 36,
   "metadata": {},
   "outputs": [
    {
     "name": "stdout",
     "output_type": "stream",
     "text": [
      "3\n"
     ]
    }
   ],
   "source": [
    "value = my_dict[compact_hash]\n",
    "print(value)"
   ]
  },
  {
   "cell_type": "code",
   "execution_count": 2,
   "metadata": {},
   "outputs": [],
   "source": [
    "reinforcement_player = ReinforcementPlayer()\n",
    "reinforcement_player.set_random_move(0.9)\n",
    "random_player = RandomPlayer()\n",
    "environment = Utils()"
   ]
  },
  {
   "cell_type": "code",
   "execution_count": 5,
   "metadata": {},
   "outputs": [
    {
     "data": {
      "text/plain": [
       "133009"
      ]
     },
     "execution_count": 5,
     "metadata": {},
     "output_type": "execute_result"
    }
   ],
   "source": [
    "len(reinforcement_player.value_dictionary)"
   ]
  },
  {
   "cell_type": "code",
   "execution_count": 8,
   "metadata": {},
   "outputs": [],
   "source": [
    "reinforcement_player.load_policy(\"test_size_policy_1\")"
   ]
  },
  {
   "cell_type": "code",
   "execution_count": 7,
   "metadata": {},
   "outputs": [],
   "source": [
    "reinforcement_player.set_random_move(0.9)"
   ]
  },
  {
   "cell_type": "code",
   "execution_count": 4,
   "metadata": {},
   "outputs": [
    {
     "name": "stderr",
     "output_type": "stream",
     "text": [
      "100%|██████████| 10000/10000 [03:35<00:00, 46.32it/s]\n"
     ]
    }
   ],
   "source": [
    "environment.train(reinforcement_player, random_player, 10_000, 100, -100, policy_name=\"test_size_policy\")"
   ]
  },
  {
   "cell_type": "code",
   "execution_count": 5,
   "metadata": {},
   "outputs": [],
   "source": [
    "import gzip\n",
    "import pickle\n",
    "import msgpack"
   ]
  },
  {
   "cell_type": "code",
   "execution_count": 3,
   "metadata": {},
   "outputs": [],
   "source": [
    "def create_policy_new(self, policy_file):\n",
    "    \"\"\"Creates the policy file with MessagePack\"\"\"\n",
    "    with open(policy_file, 'wb') as fw:\n",
    "        packed_data = msgpack.packb(self.value_dictionary)\n",
    "        fw.write(packed_data)\n",
    "\n",
    "def load_policy_new(self, policy_file):\n",
    "    \"\"\"Loads the policy file with MessagePack\"\"\"\n",
    "    with open(policy_file, 'rb') as fr:\n",
    "        packed_data = fr.read()\n",
    "        self.value_dictionary = msgpack.unpackb(packed_data)"
   ]
  },
  {
   "cell_type": "code",
   "execution_count": 2,
   "metadata": {},
   "outputs": [],
   "source": [
    "def create_policy_old(self, policy_file):\n",
    "    \"\"\"Creates the policy file\"\"\"\n",
    "    fw = open(policy_file, 'wb')\n",
    "    pickle.dump(self.value_dictionary, fw)\n",
    "    fw.close()\n",
    "\n",
    "def load_policy_old(self, policy_file):\n",
    "    \"\"\"Loads the policy file\"\"\"\n",
    "    fr = open(policy_file, 'rb')\n",
    "    self.value_dictionary = pickle.load(fr)\n",
    "    fr.close()"
   ]
  },
  {
   "cell_type": "code",
   "execution_count": 9,
   "metadata": {},
   "outputs": [],
   "source": [
    "reinforcement_player = ReinforcementPlayer()"
   ]
  },
  {
   "cell_type": "code",
   "execution_count": 6,
   "metadata": {},
   "outputs": [],
   "source": [
    "load_policy_old(reinforcement_player, \"policies/old_version_policies/policy_0\")"
   ]
  },
  {
   "cell_type": "code",
   "execution_count": 4,
   "metadata": {},
   "outputs": [
    {
     "ename": "NameError",
     "evalue": "name 'reinforcement_player' is not defined",
     "output_type": "error",
     "traceback": [
      "\u001b[0;31m---------------------------------------------------------------------------\u001b[0m",
      "\u001b[0;31mNameError\u001b[0m                                 Traceback (most recent call last)",
      "Cell \u001b[0;32mIn[4], line 1\u001b[0m\n\u001b[0;32m----> 1\u001b[0m \u001b[38;5;28mprint\u001b[39m(\u001b[38;5;28mlen\u001b[39m(\u001b[43mreinforcement_player\u001b[49m\u001b[38;5;241m.\u001b[39mvalue_dictionary))\n",
      "\u001b[0;31mNameError\u001b[0m: name 'reinforcement_player' is not defined"
     ]
    }
   ],
   "source": [
    "print(len(reinforcement_player.value_dictionary))"
   ]
  },
  {
   "cell_type": "code",
   "execution_count": 8,
   "metadata": {},
   "outputs": [],
   "source": [
    "reinforcement_player.create_policy(\"policies/good_policy_gzipped\")"
   ]
  },
  {
   "cell_type": "code",
   "execution_count": 10,
   "metadata": {},
   "outputs": [],
   "source": [
    "reinforcement_player.load_policy(\"policies/good_policy_gzipped\")"
   ]
  },
  {
   "cell_type": "code",
   "execution_count": 13,
   "metadata": {},
   "outputs": [],
   "source": [
    "def create_policy_new_new(self, policy_file):\n",
    "    \"\"\"Creates the policy file with MessagePack and gzip compression\"\"\"\n",
    "    with gzip.open(policy_file, 'wb') as fw:\n",
    "        packed_data = msgpack.packb(self.value_dictionary)\n",
    "        fw.write(packed_data)"
   ]
  },
  {
   "cell_type": "code",
   "execution_count": 14,
   "metadata": {},
   "outputs": [],
   "source": [
    "create_policy_new_new(reinforcement_player, \"policy_with_gzip_msgpack\")"
   ]
  },
  {
   "cell_type": "code",
   "execution_count": 10,
   "metadata": {},
   "outputs": [],
   "source": [
    "reinforcement_player = ReinforcementPlayer()"
   ]
  },
  {
   "cell_type": "code",
   "execution_count": 6,
   "metadata": {},
   "outputs": [],
   "source": [
    "load_policy_old(reinforcement_player, \"policies/policy_0\")"
   ]
  },
  {
   "cell_type": "code",
   "execution_count": 9,
   "metadata": {},
   "outputs": [],
   "source": [
    "create_policy_new(reinforcement_player, \"policy_with_msgpack\")\n",
    "reinforcement_player.create_policy(\"policy_with_pickle\")"
   ]
  },
  {
   "cell_type": "code",
   "execution_count": 11,
   "metadata": {},
   "outputs": [],
   "source": [
    "reinforcement_player.load_policy(\"policy_with_pickle\")"
   ]
  },
  {
   "cell_type": "code",
   "execution_count": 16,
   "metadata": {},
   "outputs": [],
   "source": [
    "reinforcement_player.create_policy(\"old_size_policy\")\n",
    "create_policy_new(reinforcement_player, \"new_size_policy\")"
   ]
  },
  {
   "cell_type": "code",
   "execution_count": 13,
   "metadata": {},
   "outputs": [],
   "source": [
    "create_policy_new(reinforcement_player, \"test_size_policy\")"
   ]
  },
  {
   "cell_type": "code",
   "execution_count": 17,
   "metadata": {},
   "outputs": [],
   "source": [
    "new_reinforcement_player = ReinforcementPlayer()\n",
    "load_policy_new(new_reinforcement_player, \"test_size_policy\")"
   ]
  },
  {
   "cell_type": "code",
   "execution_count": 18,
   "metadata": {},
   "outputs": [
    {
     "data": {
      "text/plain": [
       "261379"
      ]
     },
     "execution_count": 18,
     "metadata": {},
     "output_type": "execute_result"
    }
   ],
   "source": [
    "len(new_reinforcement_player.value_dictionary)"
   ]
  },
  {
   "cell_type": "code",
   "execution_count": 1,
   "metadata": {},
   "outputs": [],
   "source": [
    "from hashing_functions import my_hash, my_undo_hash"
   ]
  },
  {
   "cell_type": "code",
   "execution_count": 5,
   "metadata": {},
   "outputs": [
    {
     "ename": "NameError",
     "evalue": "name 'ReinforcementPlayer' is not defined",
     "output_type": "error",
     "traceback": [
      "\u001b[0;31m---------------------------------------------------------------------------\u001b[0m",
      "\u001b[0;31mNameError\u001b[0m                                 Traceback (most recent call last)",
      "Cell \u001b[0;32mIn[5], line 1\u001b[0m\n\u001b[0;32m----> 1\u001b[0m reinforcement_player \u001b[38;5;241m=\u001b[39m \u001b[43mReinforcementPlayer\u001b[49m()\n",
      "\u001b[0;31mNameError\u001b[0m: name 'ReinforcementPlayer' is not defined"
     ]
    }
   ],
   "source": [
    "reinforcement_player = ReinforcementPlayer()"
   ]
  },
  {
   "cell_type": "code",
   "execution_count": 3,
   "metadata": {},
   "outputs": [
    {
     "ename": "NameError",
     "evalue": "name 'reinforcement_player' is not defined",
     "output_type": "error",
     "traceback": [
      "\u001b[0;31m---------------------------------------------------------------------------\u001b[0m",
      "\u001b[0;31mNameError\u001b[0m                                 Traceback (most recent call last)",
      "Cell \u001b[0;32mIn[3], line 1\u001b[0m\n\u001b[0;32m----> 1\u001b[0m \u001b[38;5;28mlen\u001b[39m(\u001b[43mreinforcement_player\u001b[49m\u001b[38;5;241m.\u001b[39mvalue_dictionary)\n",
      "\u001b[0;31mNameError\u001b[0m: name 'reinforcement_player' is not defined"
     ]
    }
   ],
   "source": [
    "len(reinforcement_player.value_dictionary)"
   ]
  }
 ],
 "metadata": {
  "kernelspec": {
   "display_name": "Computational_Intelligence",
   "language": "python",
   "name": "python3"
  },
  "language_info": {
   "codemirror_mode": {
    "name": "ipython",
    "version": 3
   },
   "file_extension": ".py",
   "mimetype": "text/x-python",
   "name": "python",
   "nbconvert_exporter": "python",
   "pygments_lexer": "ipython3",
   "version": "3.10.13"
  }
 },
 "nbformat": 4,
 "nbformat_minor": 2
}
