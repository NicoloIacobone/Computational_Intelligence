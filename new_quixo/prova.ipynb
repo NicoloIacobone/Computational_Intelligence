{
 "cells": [
  {
   "cell_type": "code",
   "execution_count": 6,
   "metadata": {},
   "outputs": [],
   "source": [
    "from my_players import MinimaxPlayer\n",
    "from main import HumanPlayer, RandomPlayer\n",
    "from game import Game\n",
    "from tqdm import tqdm\n",
    "import numpy as np"
   ]
  },
  {
   "cell_type": "code",
   "execution_count": 8,
   "metadata": {},
   "outputs": [
    {
     "name": "stdout",
     "output_type": "stream",
     "text": [
      "⭕️ ⭕️ ⬜️ ⭕️ ⬜️ \n",
      "⬜️ ⬜️ ⬜️ ⬜️ ⬜️ \n",
      "❌ ❌ ⬜️ ⬜️ ⭕️ \n",
      "❌ ⬜️ ⬜️ ⭕️ ⭕️ \n",
      "❌ ❌ ❌ ❌ ⭕️ \n",
      "\n"
     ]
    },
    {
     "data": {
      "text/plain": [
       "1571"
      ]
     },
     "execution_count": 8,
     "metadata": {},
     "output_type": "execute_result"
    }
   ],
   "source": [
    "game = Game()\n",
    "# game._board = [[1,1,-1,1,-1],[-1,-1,-1,-1,-1],[0,0,-1,-1,1],[0,-1,-1,1,1],[0,0,0,0,1]]\n",
    "game._board = np.array([[1,1,-1,1,-1],[-1,-1,-1,-1,-1],[0,0,-1,-1,1],[0,-1,-1,1,1],[0,0,0,0,1]])\n",
    "game.nice_print()\n",
    "minimax_player = MinimaxPlayer()\n",
    "minimax_player.evaluate(game)"
   ]
  }
 ],
 "metadata": {
  "kernelspec": {
   "display_name": "Computational_Intelligence",
   "language": "python",
   "name": "python3"
  },
  "language_info": {
   "codemirror_mode": {
    "name": "ipython",
    "version": 3
   },
   "file_extension": ".py",
   "mimetype": "text/x-python",
   "name": "python",
   "nbconvert_exporter": "python",
   "pygments_lexer": "ipython3",
   "version": "3.10.13"
  }
 },
 "nbformat": 4,
 "nbformat_minor": 2
}
