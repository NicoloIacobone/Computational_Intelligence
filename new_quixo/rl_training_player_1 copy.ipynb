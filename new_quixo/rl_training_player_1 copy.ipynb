{
 "cells": [
  {
   "cell_type": "code",
   "execution_count": 1,
   "metadata": {},
   "outputs": [],
   "source": [
    "from my_players import ReinforcementPlayer, HumanPlayer\n",
    "from utils import Utils\n",
    "from main import RandomPlayer"
   ]
  },
  {
   "cell_type": "code",
   "execution_count": 2,
   "metadata": {},
   "outputs": [],
   "source": [
    "random_player = RandomPlayer()\n",
    "human_player = HumanPlayer()\n",
    "reinforcement_player = ReinforcementPlayer()\n",
    "reinforcement_player.set_random_move(0.9)\n",
    "\n",
    "environment = Utils()"
   ]
  },
  {
   "cell_type": "code",
   "execution_count": 11,
   "metadata": {},
   "outputs": [
    {
     "name": "stderr",
     "output_type": "stream",
     "text": [
      "100%|██████████| 1/1 [00:59<00:00, 59.45s/it]"
     ]
    },
    {
     "name": "stdout",
     "output_type": "stream",
     "text": [
      "state_to_check:\n",
      " b'\\x01\\xff\\xff\\xff\\x01\\xff\\xff\\xff\\xff\\x00\\xff\\xff\\xff\\xff\\x00\\xff\\xff\\xff\\xff\\x00\\x01\\xff\\xff\\xff\\x00'\n",
      "state_rotated_0:\n",
      "[[ 1 -1 -1 -1  1]\n",
      " [-1 -1 -1 -1  0]\n",
      " [-1 -1 -1 -1  0]\n",
      " [-1 -1 -1 -1  0]\n",
      " [ 1 -1 -1 -1  0]]\n",
      "state_rotated_1:\n",
      "[[ 1  0  0  0  0]\n",
      " [-1 -1 -1 -1 -1]\n",
      " [-1 -1 -1 -1 -1]\n",
      " [-1 -1 -1 -1 -1]\n",
      " [ 1 -1 -1 -1  1]]\n",
      "state_rotated_2:\n",
      "[[ 0 -1 -1 -1  1]\n",
      " [ 0 -1 -1 -1 -1]\n",
      " [ 0 -1 -1 -1 -1]\n",
      " [ 0 -1 -1 -1 -1]\n",
      " [ 1 -1 -1 -1  1]]\n",
      "state_rotated_3:\n",
      "[[ 1 -1 -1 -1  1]\n",
      " [-1 -1 -1 -1 -1]\n",
      " [-1 -1 -1 -1 -1]\n",
      " [-1 -1 -1 -1 -1]\n",
      " [ 0  0  0  0  1]]\n",
      "state_to_check:\n",
      " b'\\xff\\xff\\xff\\xff\\x01\\xff\\xff\\xff\\xff\\xff\\xff\\xff\\xff\\xff\\x00\\xff\\xff\\xff\\xff\\x00\\x01\\xff\\xff\\xff\\x00'\n",
      "state_rotated_0:\n",
      "[[-1 -1 -1 -1  1]\n",
      " [-1 -1 -1 -1 -1]\n",
      " [-1 -1 -1 -1  0]\n",
      " [-1 -1 -1 -1  0]\n",
      " [ 1 -1 -1 -1  0]]\n",
      "state_rotated_1:\n",
      "[[ 1 -1  0  0  0]\n",
      " [-1 -1 -1 -1 -1]\n",
      " [-1 -1 -1 -1 -1]\n",
      " [-1 -1 -1 -1 -1]\n",
      " [-1 -1 -1 -1  1]]\n",
      "state_rotated_2:\n",
      "[[ 0 -1 -1 -1  1]\n",
      " [ 0 -1 -1 -1 -1]\n",
      " [ 0 -1 -1 -1 -1]\n",
      " [-1 -1 -1 -1 -1]\n",
      " [ 1 -1 -1 -1 -1]]\n",
      "state_rotated_3:\n",
      "[[ 1 -1 -1 -1 -1]\n",
      " [-1 -1 -1 -1 -1]\n",
      " [-1 -1 -1 -1 -1]\n",
      " [-1 -1 -1 -1 -1]\n",
      " [ 0  0  0 -1  1]]\n",
      "state_to_check:\n",
      " b'\\xff\\xff\\xff\\xff\\xff\\xff\\xff\\xff\\xff\\xff\\xff\\xff\\xff\\xff\\xff\\xff\\xff\\xff\\xff\\x00\\x01\\xff\\xff\\xff\\x00'\n",
      "state_rotated_0:\n",
      "[[-1 -1 -1 -1 -1]\n",
      " [-1 -1 -1 -1 -1]\n",
      " [-1 -1 -1 -1 -1]\n",
      " [-1 -1 -1 -1  0]\n",
      " [ 1 -1 -1 -1  0]]\n",
      "state_rotated_1:\n",
      "[[-1 -1 -1  0  0]\n",
      " [-1 -1 -1 -1 -1]\n",
      " [-1 -1 -1 -1 -1]\n",
      " [-1 -1 -1 -1 -1]\n",
      " [-1 -1 -1 -1  1]]\n",
      "state_rotated_2:\n",
      "[[ 0 -1 -1 -1  1]\n",
      " [ 0 -1 -1 -1 -1]\n",
      " [-1 -1 -1 -1 -1]\n",
      " [-1 -1 -1 -1 -1]\n",
      " [-1 -1 -1 -1 -1]]\n",
      "state_rotated_3:\n",
      "[[ 1 -1 -1 -1 -1]\n",
      " [-1 -1 -1 -1 -1]\n",
      " [-1 -1 -1 -1 -1]\n",
      " [-1 -1 -1 -1 -1]\n",
      " [ 0  0 -1 -1 -1]]\n",
      "state_to_check:\n",
      " b'\\x01\\xff\\xff\\xff\\xff\\xff\\xff\\xff\\xff\\xff\\xff\\xff\\xff\\xff\\xff\\xff\\xff\\xff\\xff\\xff\\xff\\xff\\xff\\xff\\x00'\n",
      "state_rotated_0:\n",
      "[[ 1 -1 -1 -1 -1]\n",
      " [-1 -1 -1 -1 -1]\n",
      " [-1 -1 -1 -1 -1]\n",
      " [-1 -1 -1 -1 -1]\n",
      " [-1 -1 -1 -1  0]]\n",
      "state_rotated_1:\n",
      "[[-1 -1 -1 -1  0]\n",
      " [-1 -1 -1 -1 -1]\n",
      " [-1 -1 -1 -1 -1]\n",
      " [-1 -1 -1 -1 -1]\n",
      " [ 1 -1 -1 -1 -1]]\n",
      "state_rotated_2:\n",
      "[[ 0 -1 -1 -1 -1]\n",
      " [-1 -1 -1 -1 -1]\n",
      " [-1 -1 -1 -1 -1]\n",
      " [-1 -1 -1 -1 -1]\n",
      " [-1 -1 -1 -1  1]]\n",
      "state_rotated_3:\n",
      "[[-1 -1 -1 -1  1]\n",
      " [-1 -1 -1 -1 -1]\n",
      " [-1 -1 -1 -1 -1]\n",
      " [-1 -1 -1 -1 -1]\n",
      " [ 0 -1 -1 -1 -1]]\n"
     ]
    },
    {
     "name": "stderr",
     "output_type": "stream",
     "text": [
      "\n"
     ]
    }
   ],
   "source": [
    "environment.train(human_player, reinforcement_player, 1, 100, -100)"
   ]
  },
  {
   "cell_type": "code",
   "execution_count": 12,
   "metadata": {},
   "outputs": [
    {
     "data": {
      "text/plain": [
       "20"
      ]
     },
     "execution_count": 12,
     "metadata": {},
     "output_type": "execute_result"
    }
   ],
   "source": [
    "len(reinforcement_player.value_dictionary)"
   ]
  },
  {
   "cell_type": "code",
   "execution_count": 16,
   "metadata": {},
   "outputs": [
    {
     "name": "stdout",
     "output_type": "stream",
     "text": [
      "False\n",
      "0.0\n"
     ]
    }
   ],
   "source": [
    "dict_keys = reinforcement_player.value_dictionary.keys()\n",
    "key_to_check = b'\\x01\\xff\\xff\\xff\\xff\\xff\\xff\\xff\\xff\\xff\\xff\\xff\\xff\\xff\\xff\\xff\\xff\\xff\\xff\\xff\\xff\\xff\\xff\\xff\\x00'\n",
    "print(key_to_check in dict_keys)\n",
    "print(reinforcement_player.value_dictionary[key_to_check])"
   ]
  },
  {
   "cell_type": "code",
   "execution_count": null,
   "metadata": {},
   "outputs": [],
   "source": [
    "print(dict_keys)"
   ]
  },
  {
   "cell_type": "code",
   "execution_count": 5,
   "metadata": {},
   "outputs": [
    {
     "name": "stdout",
     "output_type": "stream",
     "text": [
      "b'\\x00\\x00\\x00\\x00\\xff\\xff\\xff\\xff\\xff\\xff\\xff\\xff\\xff\\xff\\xff\\xff\\xff\\xff\\xff\\x01\\x01\\x01\\xff\\xff\\x01' -100.0\n",
      "b'\\x00\\x00\\x00\\xff\\xff\\xff\\xff\\xff\\xff\\xff\\xff\\xff\\xff\\xff\\xff\\xff\\xff\\xff\\xff\\xff\\x01\\x01\\xff\\xff\\x01' -47.5\n",
      "b'\\x00\\x00\\xff\\xff\\xff\\xff\\xff\\xff\\xff\\xff\\xff\\xff\\xff\\xff\\xff\\xff\\xff\\xff\\xff\\xff\\x01\\xff\\xff\\xff\\x01' -22.5625\n",
      "b'\\x00\\xff\\xff\\xff\\xff\\xff\\xff\\xff\\xff\\xff\\xff\\xff\\xff\\xff\\xff\\xff\\xff\\xff\\xff\\xff\\xff\\xff\\xff\\xff\\x01' -10.7171875\n"
     ]
    }
   ],
   "source": [
    "dictionary_player = reinforcement_player.value_dictionary\n",
    "for element in dictionary_player:\n",
    "    print(element, dictionary_player[element])"
   ]
  },
  {
   "cell_type": "code",
   "execution_count": null,
   "metadata": {},
   "outputs": [],
   "source": [
    "for _ in range(3):\n",
    "    reinforcement_player.set_random_move(0.9)\n",
    "    environment.train(reinforcement_player, random_player, 1_000_000, 100, -100, decreasing_exp_rate=True)\n",
    "    len(reinforcement_player.value_dictionary)"
   ]
  },
  {
   "cell_type": "code",
   "execution_count": null,
   "metadata": {},
   "outputs": [],
   "source": [
    "environment.test(reinforcement_player, random_player)"
   ]
  },
  {
   "cell_type": "code",
   "execution_count": null,
   "metadata": {},
   "outputs": [],
   "source": [
    "environment.evaluate_player(reinforcement_player, \"test_policy_1\")"
   ]
  },
  {
   "cell_type": "code",
   "execution_count": null,
   "metadata": {},
   "outputs": [],
   "source": [
    "environment.test(random_player, reinforcement_player, plot=True)"
   ]
  }
 ],
 "metadata": {
  "kernelspec": {
   "display_name": "Computational_Intelligence",
   "language": "python",
   "name": "python3"
  },
  "language_info": {
   "codemirror_mode": {
    "name": "ipython",
    "version": 3
   },
   "file_extension": ".py",
   "mimetype": "text/x-python",
   "name": "python",
   "nbconvert_exporter": "python",
   "pygments_lexer": "ipython3",
   "version": "3.10.13"
  }
 },
 "nbformat": 4,
 "nbformat_minor": 2
}
