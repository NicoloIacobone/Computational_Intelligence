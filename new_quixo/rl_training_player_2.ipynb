{
 "cells": [
  {
   "cell_type": "code",
   "execution_count": 1,
   "metadata": {},
   "outputs": [],
   "source": [
    "from my_players import ReinforcementPlayer\n",
    "from utils import Utils\n",
    "from main import RandomPlayer\n",
    "from game import Game"
   ]
  },
  {
   "cell_type": "code",
   "execution_count": 2,
   "metadata": {},
   "outputs": [],
   "source": [
    "random_player = RandomPlayer()\n",
    "reinforcement_player = ReinforcementPlayer()\n",
    "reinforcement_player.set_random_move(0.9)\n",
    "\n",
    "environment = Utils()"
   ]
  },
  {
   "cell_type": "code",
   "execution_count": 5,
   "metadata": {},
   "outputs": [
    {
     "data": {
      "text/plain": [
       "2673423"
      ]
     },
     "execution_count": 5,
     "metadata": {},
     "output_type": "execute_result"
    }
   ],
   "source": [
    "len(reinforcement_player.value_dictionary)"
   ]
  },
  {
   "cell_type": "code",
   "execution_count": 4,
   "metadata": {},
   "outputs": [
    {
     "name": "stderr",
     "output_type": "stream",
     "text": [
      " 21%|██        | 205970/1000000 [49:06<3:09:19, 69.90it/s]   \n"
     ]
    },
    {
     "ename": "KeyboardInterrupt",
     "evalue": "",
     "output_type": "error",
     "traceback": [
      "\u001b[0;31m---------------------------------------------------------------------------\u001b[0m",
      "\u001b[0;31mKeyboardInterrupt\u001b[0m                         Traceback (most recent call last)",
      "Cell \u001b[0;32mIn[4], line 1\u001b[0m\n\u001b[0;32m----> 1\u001b[0m \u001b[43menvironment\u001b[49m\u001b[38;5;241;43m.\u001b[39;49m\u001b[43mtrain\u001b[49m\u001b[43m(\u001b[49m\u001b[43mrandom_player\u001b[49m\u001b[43m,\u001b[49m\u001b[43m \u001b[49m\u001b[43mreinforcement_player\u001b[49m\u001b[43m,\u001b[49m\u001b[43m \u001b[49m\u001b[38;5;241;43m1_000_000\u001b[39;49m\u001b[43m,\u001b[49m\u001b[43m \u001b[49m\u001b[38;5;241;43m100\u001b[39;49m\u001b[43m,\u001b[49m\u001b[43m \u001b[49m\u001b[38;5;241;43m-\u001b[39;49m\u001b[38;5;241;43m100\u001b[39;49m\u001b[43m,\u001b[49m\u001b[43m \u001b[49m\u001b[43mdecreasing_exp_rate\u001b[49m\u001b[38;5;241;43m=\u001b[39;49m\u001b[38;5;28;43;01mTrue\u001b[39;49;00m\u001b[43m)\u001b[49m\n",
      "File \u001b[0;32m~/Desktop/nico/UNIVERSITA/MAGISTRALE/3_Semestre/Computational_Intelligence/Labs/My_Fork/Computational_Intelligence/new_quixo/utils.py:50\u001b[0m, in \u001b[0;36mUtils.train\u001b[0;34m(self, player1, player2, games, win_reward, lose_reward, policy_name, plot, decreasing_exp_rate)\u001b[0m\n\u001b[1;32m     47\u001b[0m     plot_variables\u001b[38;5;241m.\u001b[39mappend(win_rate) \u001b[38;5;66;03m# append the win rate to the list to plot it later\u001b[39;00m\n\u001b[1;32m     49\u001b[0m game \u001b[38;5;241m=\u001b[39m Game() \u001b[38;5;66;03m# create a new game\u001b[39;00m\n\u001b[0;32m---> 50\u001b[0m win \u001b[38;5;241m=\u001b[39m \u001b[43mgame\u001b[49m\u001b[38;5;241;43m.\u001b[39;49m\u001b[43mplay\u001b[49m\u001b[43m(\u001b[49m\u001b[43mplayer1\u001b[49m\u001b[43m,\u001b[49m\u001b[43m \u001b[49m\u001b[43mplayer2\u001b[49m\u001b[43m)\u001b[49m \u001b[38;5;66;03m# play the game\u001b[39;00m\n\u001b[1;32m     53\u001b[0m suicide \u001b[38;5;241m=\u001b[39m win \u001b[38;5;241m!=\u001b[39m game\u001b[38;5;241m.\u001b[39mcurrent_player_idx \u001b[38;5;66;03m# if the move of a player caused the winning of the opponent\u001b[39;00m\n\u001b[1;32m     54\u001b[0m \u001b[38;5;28;01mif\u001b[39;00m win \u001b[38;5;241m==\u001b[39m \u001b[38;5;241m0\u001b[39m: \u001b[38;5;66;03m# player X won\u001b[39;00m\n",
      "File \u001b[0;32m~/Desktop/nico/UNIVERSITA/MAGISTRALE/3_Semestre/Computational_Intelligence/Labs/My_Fork/Computational_Intelligence/new_quixo/game.py:114\u001b[0m, in \u001b[0;36mGame.play\u001b[0;34m(self, player1, player2, human_player)\u001b[0m\n\u001b[1;32m    112\u001b[0m         ok \u001b[38;5;241m=\u001b[39m \u001b[38;5;28mself\u001b[39m\u001b[38;5;241m.\u001b[39m__move(from_pos, slide, \u001b[38;5;28mself\u001b[39m\u001b[38;5;241m.\u001b[39mcurrent_player_idx)\n\u001b[1;32m    113\u001b[0m     winner \u001b[38;5;241m=\u001b[39m \u001b[38;5;28mself\u001b[39m\u001b[38;5;241m.\u001b[39mcheck_winner()\n\u001b[0;32m--> 114\u001b[0m \u001b[38;5;28;01mreturn\u001b[39;00m winner\n",
      "File \u001b[0;32m~/Desktop/nico/UNIVERSITA/MAGISTRALE/3_Semestre/Computational_Intelligence/Labs/My_Fork/Computational_Intelligence/new_quixo/my_players.py:154\u001b[0m, in \u001b[0;36mReinforcementPlayer.make_move\u001b[0;34m(self, game)\u001b[0m\n\u001b[1;32m    152\u001b[0m best_move \u001b[38;5;241m=\u001b[39m \u001b[38;5;28;01mNone\u001b[39;00m \u001b[38;5;66;03m# the best move is initialized with None\u001b[39;00m\n\u001b[1;32m    153\u001b[0m never_visited \u001b[38;5;241m=\u001b[39m \u001b[38;5;28;01mTrue\u001b[39;00m \u001b[38;5;66;03m# flag to check if the state was never visited\u001b[39;00m\n\u001b[0;32m--> 154\u001b[0m \u001b[38;5;28mself\u001b[39m\u001b[38;5;241m.\u001b[39mcompute_available_moves(game) \u001b[38;5;66;03m# compute all possible moves in the current state\u001b[39;00m\n\u001b[1;32m    156\u001b[0m \u001b[38;5;28;01mif\u001b[39;00m random\u001b[38;5;241m.\u001b[39mrandom() \u001b[38;5;241m<\u001b[39m \u001b[38;5;28mself\u001b[39m\u001b[38;5;241m.\u001b[39mrandom_move: \u001b[38;5;66;03m# if a random number is lower than the random_move value\u001b[39;00m\n\u001b[1;32m    157\u001b[0m     best_move \u001b[38;5;241m=\u001b[39m random\u001b[38;5;241m.\u001b[39mchoice(\u001b[38;5;28mself\u001b[39m\u001b[38;5;241m.\u001b[39mavailable_moves) \u001b[38;5;66;03m# choose a random move to do exploration\u001b[39;00m\n",
      "File \u001b[0;32m~/Desktop/nico/UNIVERSITA/MAGISTRALE/3_Semestre/Computational_Intelligence/Labs/My_Fork/Computational_Intelligence/new_quixo/my_players.py:143\u001b[0m, in \u001b[0;36mReinforcementPlayer.compute_available_moves\u001b[0;34m(self, game)\u001b[0m\n\u001b[1;32m    140\u001b[0m test_board \u001b[38;5;241m=\u001b[39m MyGame(game)\n\u001b[1;32m    142\u001b[0m \u001b[38;5;66;03m# call the function that computes all possible moves\u001b[39;00m\n\u001b[0;32m--> 143\u001b[0m \u001b[38;5;28mself\u001b[39m\u001b[38;5;241m.\u001b[39mavailable_moves \u001b[38;5;241m=\u001b[39m \u001b[43mtest_board\u001b[49m\u001b[38;5;241;43m.\u001b[39;49m\u001b[43mcompute_available_moves\u001b[49m\u001b[43m(\u001b[49m\u001b[43m)\u001b[49m\n",
      "File \u001b[0;32m~/Desktop/nico/UNIVERSITA/MAGISTRALE/3_Semestre/Computational_Intelligence/Labs/My_Fork/Computational_Intelligence/new_quixo/my_game.py:39\u001b[0m, in \u001b[0;36mMyGame.compute_available_moves\u001b[0;34m(self)\u001b[0m\n\u001b[1;32m     37\u001b[0m \u001b[38;5;28;01mif\u001b[39;00m row \u001b[38;5;241m==\u001b[39m \u001b[38;5;241m0\u001b[39m \u001b[38;5;129;01mor\u001b[39;00m row \u001b[38;5;241m==\u001b[39m \u001b[38;5;241m4\u001b[39m \u001b[38;5;129;01mor\u001b[39;00m col \u001b[38;5;241m==\u001b[39m \u001b[38;5;241m0\u001b[39m \u001b[38;5;129;01mor\u001b[39;00m col \u001b[38;5;241m==\u001b[39m \u001b[38;5;241m4\u001b[39m: \u001b[38;5;66;03m# if the cell is on the border\u001b[39;00m\n\u001b[1;32m     38\u001b[0m     \u001b[38;5;28;01mfor\u001b[39;00m move \u001b[38;5;129;01min\u001b[39;00m Move: \u001b[38;5;66;03m# for each possible move\u001b[39;00m\n\u001b[0;32m---> 39\u001b[0m         possible_move \u001b[38;5;241m=\u001b[39m \u001b[38;5;28;43mself\u001b[39;49m\u001b[38;5;241;43m.\u001b[39;49m\u001b[43m_Game__move\u001b[49m\u001b[43m(\u001b[49m\u001b[43m(\u001b[49m\u001b[43mrow\u001b[49m\u001b[43m,\u001b[49m\u001b[43m \u001b[49m\u001b[43mcol\u001b[49m\u001b[43m)\u001b[49m\u001b[43m,\u001b[49m\u001b[43m \u001b[49m\u001b[43mmove\u001b[49m\u001b[43m,\u001b[49m\u001b[43m \u001b[49m\u001b[38;5;28;43mself\u001b[39;49m\u001b[38;5;241;43m.\u001b[39;49m\u001b[43mcurrent_player_idx\u001b[49m\u001b[43m)\u001b[49m \u001b[38;5;66;03m# test the move\u001b[39;00m\n\u001b[1;32m     40\u001b[0m         \u001b[38;5;28mself\u001b[39m\u001b[38;5;241m.\u001b[39m_board \u001b[38;5;241m=\u001b[39m old_board\u001b[38;5;241m.\u001b[39mcopy() \u001b[38;5;66;03m# restore the old board\u001b[39;00m\n\u001b[1;32m     41\u001b[0m         \u001b[38;5;28;01mif\u001b[39;00m possible_move: \u001b[38;5;66;03m# if the move is possible\u001b[39;00m\n",
      "File \u001b[0;32m~/Desktop/nico/UNIVERSITA/MAGISTRALE/3_Semestre/Computational_Intelligence/Labs/My_Fork/Computational_Intelligence/new_quixo/game.py:145\u001b[0m, in \u001b[0;36m__move\u001b[0;34m(self, from_pos, slide, player_id)\u001b[0m\n\u001b[1;32m    113\u001b[0m         winner = self.check_winner()\n\u001b[1;32m    114\u001b[0m     return winner\n\u001b[1;32m    116\u001b[0m # def play(self, player1: Player, player2: Player, human_player : bool = False) -> int:\n\u001b[1;32m    117\u001b[0m #     '''Play the game. Returns the winning player'''\n\u001b[1;32m    118\u001b[0m #     players = [player1, player2]\n\u001b[1;32m    119\u001b[0m #     winner = -1\n\u001b[1;32m    120\u001b[0m #     game_print = []\n\u001b[1;32m    121\u001b[0m #     # players_moving = []\n\u001b[1;32m    122\u001b[0m #     # moves = []\n\u001b[1;32m    123\u001b[0m #     # moves_done = 0\n\u001b[1;32m    124\u001b[0m #     while winner < 0:\n\u001b[1;32m    125\u001b[0m #         self.current_player_idx += 1\n\u001b[1;32m    126\u001b[0m #         self.current_player_idx %= len(players)\n\u001b[1;32m    127\u001b[0m #         ok = False\n\u001b[1;32m    128\u001b[0m #         while not ok:\n\u001b[1;32m    129\u001b[0m #             from_pos, slide = players[self.current_player_idx].make_move(\n\u001b[1;32m    130\u001b[0m #                 self)\n\u001b[1;32m    131\u001b[0m #             ok = self.__move(from_pos, slide, self.current_player_idx)\n\u001b[1;32m    132\u001b[0m #         if human_player:\n\u001b[1;32m    133\u001b[0m #             # print(f\"Player {self.current_player_idx} moved\")\n\u001b[1;32m    134\u001b[0m #             # print(f\"Move: {from_pos} {slide}\")\n\u001b[1;32m    135\u001b[0m #             game_print.append(self.nice_print())\n\u001b[1;32m    136\u001b[0m #             # moves.append((from_pos, slide))\n\u001b[1;32m    137\u001b[0m #             # players_moving.append(self.current_player_idx)\n\u001b[1;32m    138\u001b[0m #             print(self.nice_print())\n\u001b[1;32m    139\u001b[0m #         # moves_done += 1\n\u001b[1;32m    140\u001b[0m #         winner = self.check_winner()\n\u001b[1;32m    141\u001b[0m #         # print(\"Move: \", from_pos, slide)\n\u001b[1;32m    142\u001b[0m #     if winner == 1:\n\u001b[1;32m    143\u001b[0m #         for i in range(len(game_print)):\n\u001b[1;32m    144\u001b[0m #             print(game_print[i])\n\u001b[0;32m--> 145\u001b[0m #             # print(players_moving[i])\n\u001b[1;32m    146\u001b[0m #             # print(moves[i])\n\u001b[1;32m    147\u001b[0m #     # return winner, moves_done\n\u001b[1;32m    148\u001b[0m #     return winner\n\u001b[1;32m    150\u001b[0m def __move(self, from_pos: tuple[int, int], slide: Move, player_id: int) -> bool:\n\u001b[1;32m    151\u001b[0m     '''Perform a move'''\n",
      "File \u001b[0;32m~/anaconda3/envs/Computational_Intelligence/lib/python3.10/copy.py:151\u001b[0m, in \u001b[0;36mdeepcopy\u001b[0;34m(x, memo, _nil)\u001b[0m\n\u001b[1;32m    149\u001b[0m     y \u001b[38;5;241m=\u001b[39m _deepcopy_atomic(x, memo)\n\u001b[1;32m    150\u001b[0m \u001b[38;5;28;01melse\u001b[39;00m:\n\u001b[0;32m--> 151\u001b[0m     copier \u001b[38;5;241m=\u001b[39m \u001b[38;5;28;43mgetattr\u001b[39;49m\u001b[43m(\u001b[49m\u001b[43mx\u001b[49m\u001b[43m,\u001b[49m\u001b[43m \u001b[49m\u001b[38;5;124;43m\"\u001b[39;49m\u001b[38;5;124;43m__deepcopy__\u001b[39;49m\u001b[38;5;124;43m\"\u001b[39;49m\u001b[43m,\u001b[49m\u001b[43m \u001b[49m\u001b[38;5;28;43;01mNone\u001b[39;49;00m\u001b[43m)\u001b[49m\n\u001b[1;32m    152\u001b[0m     \u001b[38;5;28;01mif\u001b[39;00m copier \u001b[38;5;129;01mis\u001b[39;00m \u001b[38;5;129;01mnot\u001b[39;00m \u001b[38;5;28;01mNone\u001b[39;00m:\n\u001b[1;32m    153\u001b[0m         y \u001b[38;5;241m=\u001b[39m copier(memo)\n",
      "\u001b[0;31mKeyboardInterrupt\u001b[0m: "
     ]
    }
   ],
   "source": [
    "environment.train(random_player, reinforcement_player, 1_000_000, 100, -100, decreasing_exp_rate=True)"
   ]
  },
  {
   "cell_type": "code",
   "execution_count": 6,
   "metadata": {},
   "outputs": [
    {
     "ename": "FileNotFoundError",
     "evalue": "[Errno 2] No such file or directory: 'policy_2'",
     "output_type": "error",
     "traceback": [
      "\u001b[0;31m---------------------------------------------------------------------------\u001b[0m",
      "\u001b[0;31mFileNotFoundError\u001b[0m                         Traceback (most recent call last)",
      "Cell \u001b[0;32mIn[6], line 1\u001b[0m\n\u001b[0;32m----> 1\u001b[0m \u001b[43menvironment\u001b[49m\u001b[38;5;241;43m.\u001b[39;49m\u001b[43mtest\u001b[49m\u001b[43m(\u001b[49m\u001b[43mrandom_player\u001b[49m\u001b[43m,\u001b[49m\u001b[43m \u001b[49m\u001b[43mreinforcement_player\u001b[49m\u001b[43m)\u001b[49m\n",
      "File \u001b[0;32m~/Desktop/nico/UNIVERSITA/MAGISTRALE/3_Semestre/Computational_Intelligence/Labs/My_Fork/Computational_Intelligence/new_quixo/utils.py:161\u001b[0m, in \u001b[0;36mUtils.test\u001b[0;34m(self, player1, player2, games, policy_name, plot)\u001b[0m\n\u001b[1;32m    159\u001b[0m     player2\u001b[38;5;241m.\u001b[39mset_random_move(\u001b[38;5;241m0\u001b[39m) \u001b[38;5;66;03m# set the random move to 0 to perform the test\u001b[39;00m\n\u001b[1;32m    160\u001b[0m     \u001b[38;5;28;01mif\u001b[39;00m \u001b[38;5;129;01mnot\u001b[39;00m plot:\n\u001b[0;32m--> 161\u001b[0m         \u001b[43mplayer2\u001b[49m\u001b[38;5;241;43m.\u001b[39;49m\u001b[43mload_policy\u001b[49m\u001b[43m(\u001b[49m\u001b[43mpolicy_name\u001b[49m\u001b[43m \u001b[49m\u001b[38;5;241;43m+\u001b[39;49m\u001b[43m \u001b[49m\u001b[38;5;124;43m\"\u001b[39;49m\u001b[38;5;124;43m_2\u001b[39;49m\u001b[38;5;124;43m\"\u001b[39;49m\u001b[43m)\u001b[49m\n\u001b[1;32m    163\u001b[0m \u001b[38;5;28;01mfor\u001b[39;00m _ \u001b[38;5;129;01min\u001b[39;00m \u001b[38;5;28mrange\u001b[39m(games):\n\u001b[1;32m    164\u001b[0m     game \u001b[38;5;241m=\u001b[39m Game()\n",
      "File \u001b[0;32m~/Desktop/nico/UNIVERSITA/MAGISTRALE/3_Semestre/Computational_Intelligence/Labs/My_Fork/Computational_Intelligence/new_quixo/my_players.py:265\u001b[0m, in \u001b[0;36mload_policy\u001b[0;34m(self, policy_file)\u001b[0m\n\u001b[1;32m    263\u001b[0m \u001b[38;5;250m\u001b[39m\u001b[38;5;124;03m\"\"\"Loads the policy file\"\"\"\u001b[39;00m\n\u001b[1;32m    264\u001b[0m fr \u001b[38;5;241m=\u001b[39m \u001b[38;5;28mopen\u001b[39m(policy_file, \u001b[38;5;124m'\u001b[39m\u001b[38;5;124mrb\u001b[39m\u001b[38;5;124m'\u001b[39m)\n\u001b[0;32m--> 265\u001b[0m \u001b[38;5;28mself\u001b[39m\u001b[38;5;241m.\u001b[39mvalue_dictionary \u001b[38;5;241m=\u001b[39m pickle\u001b[38;5;241m.\u001b[39mload(fr)\n\u001b[1;32m    266\u001b[0m fr\u001b[38;5;241m.\u001b[39mclose()\n",
      "\u001b[0;31mFileNotFoundError\u001b[0m: [Errno 2] No such file or directory: 'policy_2'"
     ]
    }
   ],
   "source": [
    "environment.test(random_player, reinforcement_player, plot=True)"
   ]
  },
  {
   "cell_type": "code",
   "execution_count": null,
   "metadata": {},
   "outputs": [],
   "source": [
    "environment.evaluate_player(reinforcement_player, \"test_policy_2\")"
   ]
  },
  {
   "cell_type": "code",
   "execution_count": null,
   "metadata": {},
   "outputs": [],
   "source": [
    "for _ in range(3):\n",
    "    reinforcement_player.set_random_move(0.9)\n",
    "    environment.train(reinforcement_player, random_player, 1_000_000, 100, -100, decreasing_exp_rate=True)\n",
    "    len(reinforcement_player.value_dictionary)"
   ]
  },
  {
   "cell_type": "code",
   "execution_count": null,
   "metadata": {},
   "outputs": [
    {
     "data": {
      "text/plain": [
       "0"
      ]
     },
     "execution_count": 6,
     "metadata": {},
     "output_type": "execute_result"
    }
   ],
   "source": [
    "3//5"
   ]
  }
 ],
 "metadata": {
  "kernelspec": {
   "display_name": "Computational_Intelligence",
   "language": "python",
   "name": "python3"
  },
  "language_info": {
   "codemirror_mode": {
    "name": "ipython",
    "version": 3
   },
   "file_extension": ".py",
   "mimetype": "text/x-python",
   "name": "python",
   "nbconvert_exporter": "python",
   "pygments_lexer": "ipython3",
   "version": "3.10.13"
  }
 },
 "nbformat": 4,
 "nbformat_minor": 2
}
