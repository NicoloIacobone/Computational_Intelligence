{
 "cells": [
  {
   "cell_type": "code",
   "execution_count": 1,
   "metadata": {},
   "outputs": [],
   "source": [
    "from my_players import MinimaxPlayer, HumanPlayer\n",
    "from game import Game\n",
    "from main import RandomPlayer\n",
    "from tqdm import tqdm"
   ]
  },
  {
   "cell_type": "code",
   "execution_count": 2,
   "metadata": {},
   "outputs": [],
   "source": [
    "random_player = RandomPlayer()\n",
    "minimax_player = MinimaxPlayer(depth=3, eval_function=4)\n",
    "human_player = HumanPlayer()"
   ]
  },
  {
   "cell_type": "code",
   "execution_count": 3,
   "metadata": {},
   "outputs": [
    {
     "name": "stderr",
     "output_type": "stream",
     "text": [
      "100%|██████████| 100/100 [02:03<00:00,  1.23s/it]"
     ]
    },
    {
     "name": "stdout",
     "output_type": "stream",
     "text": [
      "Minimax won 100 games out of 100\n",
      "Average game length: 13.36\n"
     ]
    },
    {
     "name": "stderr",
     "output_type": "stream",
     "text": [
      "\n"
     ]
    }
   ],
   "source": [
    "win_counter = 0\n",
    "average_game_length = 0\n",
    "\n",
    "for _ in tqdm(range(100)):\n",
    "    game = Game()\n",
    "    winner, game_lenght = game.play(random_player, minimax_player, True)\n",
    "    if winner == 1:\n",
    "        win_counter += 1\n",
    "    else:\n",
    "        print(\"Minimax lost\")\n",
    "    average_game_length += game_lenght\n",
    "\n",
    "print(f\"Minimax won {win_counter} games out of 100\")\n",
    "print(f\"Average game length: {average_game_length/100}\")"
   ]
  },
  {
   "cell_type": "code",
   "execution_count": 4,
   "metadata": {},
   "outputs": [
    {
     "name": "stdout",
     "output_type": "stream",
     "text": [
      "Eval function: 4\n",
      "Player playing SECOND\n",
      "Minimax won 100 games out of 100\n",
      "Average game length: 13.36\n"
     ]
    }
   ],
   "source": [
    "print(f\"Eval function: {minimax_player.eval_function}\")\n",
    "print(\"Player playing SECOND\")\n",
    "print(f\"Minimax won {win_counter} games out of 100\")\n",
    "print(f\"Average game length: {average_game_length/100}\")"
   ]
  }
 ],
 "metadata": {
  "kernelspec": {
   "display_name": "Computational_Intelligence",
   "language": "python",
   "name": "python3"
  },
  "language_info": {
   "codemirror_mode": {
    "name": "ipython",
    "version": 3
   },
   "file_extension": ".py",
   "mimetype": "text/x-python",
   "name": "python",
   "nbconvert_exporter": "python",
   "pygments_lexer": "ipython3",
   "version": "3.10.13"
  }
 },
 "nbformat": 4,
 "nbformat_minor": 2
}
