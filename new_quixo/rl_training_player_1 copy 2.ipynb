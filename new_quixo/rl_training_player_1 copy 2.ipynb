{
 "cells": [
  {
   "cell_type": "code",
   "execution_count": 1,
   "metadata": {},
   "outputs": [],
   "source": [
    "from my_players_1 import ReinforcementPlayer, HumanPlayer\n",
    "from utils import Utils\n",
    "from main import RandomPlayer\n",
    "import numpy as np\n",
    "from tqdm import tqdm"
   ]
  },
  {
   "cell_type": "code",
   "execution_count": 2,
   "metadata": {},
   "outputs": [],
   "source": [
    "random_player = RandomPlayer()\n",
    "human_player = HumanPlayer()\n",
    "reinforcement_player = ReinforcementPlayer()\n",
    "reinforcement_player.set_random_move(0.9)\n",
    "\n",
    "environment = Utils()"
   ]
  },
  {
   "cell_type": "code",
   "execution_count": 3,
   "metadata": {},
   "outputs": [
    {
     "name": "stderr",
     "output_type": "stream",
     "text": [
      "100%|██████████| 100000/100000 [13:15<00:00, 125.72it/s]\n"
     ]
    }
   ],
   "source": [
    "environment.train(reinforcement_player, random_player, 100_000, 100, -100, policy_name=\"policies/policy_old\")"
   ]
  },
  {
   "cell_type": "code",
   "execution_count": 5,
   "metadata": {},
   "outputs": [
    {
     "data": {
      "text/plain": [
       "0"
      ]
     },
     "execution_count": 5,
     "metadata": {},
     "output_type": "execute_result"
    }
   ],
   "source": [
    "len(reinforcement_player.value_dictionary)"
   ]
  },
  {
   "cell_type": "code",
   "execution_count": 6,
   "metadata": {},
   "outputs": [
    {
     "name": "stdout",
     "output_type": "stream",
     "text": [
      "Win rate player 1: 50.5%\n",
      "Lose rate player 1: 49.5%\n",
      "Draw rate: 0.0%\n",
      "Average trajectory size: 23.0\n",
      "---------------------------------------------\n"
     ]
    }
   ],
   "source": [
    "environment.test(reinforcement_player, random_player)"
   ]
  },
  {
   "cell_type": "code",
   "execution_count": 5,
   "metadata": {},
   "outputs": [],
   "source": [
    "# board_to_hash_rotated = np.rot90(test_board._board, k=i) # rotate the board\n",
    "# board_to_hash_flipped = np.flip(board_to_hash_rotated)\n",
    "\n",
    "# hashable_state_rotated = board_to_hash_rotated.astype(np.int8).flatten().tobytes() # get the hashable state\n",
    "# hashable_state_flipped = board_to_hash_flipped.astype(np.int8).flatten().tobytes()\n",
    "\n",
    "val_dict = reinforcement_player.value_dictionary\n",
    "keys_val_dict = list(val_dict.keys())\n",
    "# first_100_keys = keys_val_dict[:100]\n",
    "# print(first_100_keys)\n"
   ]
  },
  {
   "cell_type": "code",
   "execution_count": null,
   "metadata": {},
   "outputs": [],
   "source": [
    "# del val_dict[key]\n",
    "# for key in keys_val_dict:\n",
    "#     del val_dict[key]\n",
    "#     if key in val_dict:\n",
    "#         print(\"key still in dict\")\n"
   ]
  },
  {
   "cell_type": "code",
   "execution_count": 7,
   "metadata": {},
   "outputs": [
    {
     "name": "stderr",
     "output_type": "stream",
     "text": [
      "  9%|▊         | 11868/137146 [00:58<10:21, 201.46it/s]\n"
     ]
    },
    {
     "ename": "KeyboardInterrupt",
     "evalue": "",
     "output_type": "error",
     "traceback": [
      "\u001b[0;31m---------------------------------------------------------------------------\u001b[0m",
      "\u001b[0;31mKeyboardInterrupt\u001b[0m                         Traceback (most recent call last)",
      "Cell \u001b[0;32mIn[7], line 9\u001b[0m\n\u001b[1;32m      7\u001b[0m hashable_state_rotated \u001b[38;5;241m=\u001b[39m rotated_board\u001b[38;5;241m.\u001b[39mastype(np\u001b[38;5;241m.\u001b[39mint8)\u001b[38;5;241m.\u001b[39mflatten()\u001b[38;5;241m.\u001b[39mtobytes()\n\u001b[1;32m      8\u001b[0m hashable_state_flipped \u001b[38;5;241m=\u001b[39m flipped_board\u001b[38;5;241m.\u001b[39mastype(np\u001b[38;5;241m.\u001b[39mint8)\u001b[38;5;241m.\u001b[39mflatten()\u001b[38;5;241m.\u001b[39mtobytes()\n\u001b[0;32m----> 9\u001b[0m \u001b[38;5;28;01mif\u001b[39;00m hashable_state_rotated \u001b[38;5;129;01min\u001b[39;00m keys_val_dict \u001b[38;5;129;01mand\u001b[39;00m hashable_state_rotated \u001b[38;5;241m!=\u001b[39m key:\n\u001b[1;32m     10\u001b[0m     \u001b[38;5;28mprint\u001b[39m(\u001b[38;5;124m\"\u001b[39m\u001b[38;5;124mFound rotation\u001b[39m\u001b[38;5;124m\"\u001b[39m)\n\u001b[1;32m     11\u001b[0m     \u001b[38;5;28mprint\u001b[39m(key)\n",
      "\u001b[0;31mKeyboardInterrupt\u001b[0m: "
     ]
    }
   ],
   "source": [
    "count = 0\n",
    "for key in tqdm(keys_val_dict):\n",
    "    original_state = np.frombuffer(key, dtype=np.int8).reshape(5, 5)\n",
    "    for i in range(4):\n",
    "        rotated_board = np.rot90(original_state, k=i)\n",
    "        flipped_board = np.flip(rotated_board, axis = 0)\n",
    "        hashable_state_rotated = rotated_board.astype(np.int8).flatten().tobytes()\n",
    "        hashable_state_flipped = flipped_board.astype(np.int8).flatten().tobytes()\n",
    "        if hashable_state_rotated in keys_val_dict and hashable_state_rotated != key:\n",
    "            print(\"Found rotation\")\n",
    "            print(key)\n",
    "            print(rotated_board)\n",
    "            print(\"k=\", i)\n",
    "            count+=1\n",
    "        elif hashable_state_flipped in keys_val_dict and hashable_state_flipped != key:\n",
    "            print(\"Found flip\")\n",
    "            print(key)\n",
    "            print(flipped_board)\n",
    "            print(\"k=\", i)\n",
    "            count+=1\n",
    "\n",
    "print(count)"
   ]
  },
  {
   "cell_type": "code",
   "execution_count": 8,
   "metadata": {},
   "outputs": [
    {
     "name": "stdout",
     "output_type": "stream",
     "text": [
      "0\n"
     ]
    }
   ],
   "source": [
    "print(count)"
   ]
  },
  {
   "cell_type": "code",
   "execution_count": null,
   "metadata": {},
   "outputs": [],
   "source": [
    "import numpy as np\n",
    "\n",
    "array_originale = np.array([[1, 2, 3, 4, 5],\n",
    "                            [6, 7, 8, 9, 10],\n",
    "                            [11, 12, 13, 14, 15],\n",
    "                            [16, 17, 18, 19, 20],\n",
    "                            [21, 22, 23, 24, 25]])\n",
    "\n",
    "# array_speculare_orizzontale = np.flip(np.rot90(array_originale))\n",
    "# print(array_speculare_orizzontale)\n",
    "print(np.flip(array_originale, axis=0))\n",
    "print(np.flip(array_originale))"
   ]
  },
  {
   "cell_type": "code",
   "execution_count": null,
   "metadata": {},
   "outputs": [],
   "source": [
    "for i in range(1, 4):\n",
    "    print(\"k=\", i)\n",
    "    print(np.rot90(array_originale, k=i))\n",
    "    # print(np.rot90(array_speculare_orizzontale, k=i))\n",
    "    # print(np.flip(np.rot90(array_originale, k=i)))\n",
    "    # print(np.flip(np.rot90(array_speculare_orizzontale, k=i)))"
   ]
  }
 ],
 "metadata": {
  "kernelspec": {
   "display_name": "Computational_Intelligence",
   "language": "python",
   "name": "python3"
  },
  "language_info": {
   "codemirror_mode": {
    "name": "ipython",
    "version": 3
   },
   "file_extension": ".py",
   "mimetype": "text/x-python",
   "name": "python",
   "nbconvert_exporter": "python",
   "pygments_lexer": "ipython3",
   "version": "3.10.13"
  }
 },
 "nbformat": 4,
 "nbformat_minor": 2
}
