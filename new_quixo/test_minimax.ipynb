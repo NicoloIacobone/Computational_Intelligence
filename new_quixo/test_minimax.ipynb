{
 "cells": [
  {
   "cell_type": "code",
   "execution_count": 1,
   "metadata": {},
   "outputs": [],
   "source": [
    "from my_players import MinimaxPlayer\n",
    "from main import RandomPlayer\n",
    "from game import Game\n",
    "from tqdm import tqdm"
   ]
  },
  {
   "cell_type": "code",
   "execution_count": 3,
   "metadata": {},
   "outputs": [
    {
     "name": "stderr",
     "output_type": "stream",
     "text": [
      "100%|██████████| 100/100 [01:56<00:00,  1.17s/it]"
     ]
    },
    {
     "name": "stdout",
     "output_type": "stream",
     "text": [
      "Win rate player 1: 86\n"
     ]
    },
    {
     "name": "stderr",
     "output_type": "stream",
     "text": [
      "\n"
     ]
    }
   ],
   "source": [
    "minimax_player = MinimaxPlayer()\n",
    "random_player = RandomPlayer()\n",
    "\n",
    "win_counter = 0\n",
    "\n",
    "for _ in tqdm(range(100)):\n",
    "    game = Game()\n",
    "    winner = game.play(minimax_player, random_player)\n",
    "    if winner == 0:\n",
    "        win_counter += 1\n",
    "\n",
    "print(\"Win rate player 1:\", win_counter)\n"
   ]
  }
 ],
 "metadata": {
  "kernelspec": {
   "display_name": "Computational_Intelligence",
   "language": "python",
   "name": "python3"
  },
  "language_info": {
   "codemirror_mode": {
    "name": "ipython",
    "version": 3
   },
   "file_extension": ".py",
   "mimetype": "text/x-python",
   "name": "python",
   "nbconvert_exporter": "python",
   "pygments_lexer": "ipython3",
   "version": "3.10.13"
  }
 },
 "nbformat": 4,
 "nbformat_minor": 2
}
