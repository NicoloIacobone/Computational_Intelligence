{
 "cells": [
  {
   "cell_type": "code",
   "execution_count": 1,
   "metadata": {},
   "outputs": [],
   "source": [
    "from my_players import ReinforcementPlayer\n",
    "from utils import Utils\n",
    "from main import RandomPlayer"
   ]
  },
  {
   "cell_type": "code",
   "execution_count": 2,
   "metadata": {},
   "outputs": [],
   "source": [
    "random_player = RandomPlayer()\n",
    "reinforcement_player = ReinforcementPlayer()\n",
    "reinforcement_player.set_random_move(0.9)\n",
    "\n",
    "environment = Utils()"
   ]
  },
  {
   "cell_type": "code",
   "execution_count": 3,
   "metadata": {},
   "outputs": [],
   "source": [
    "reinforcement_player.load_policy(\"test_policy_1\")"
   ]
  },
  {
   "cell_type": "code",
   "execution_count": 4,
   "metadata": {},
   "outputs": [
    {
     "data": {
      "text/plain": [
       "54060575"
      ]
     },
     "execution_count": 4,
     "metadata": {},
     "output_type": "execute_result"
    }
   ],
   "source": [
    "len(reinforcement_player.value_dictionary)"
   ]
  },
  {
   "cell_type": "code",
   "execution_count": 5,
   "metadata": {},
   "outputs": [
    {
     "name": "stderr",
     "output_type": "stream",
     "text": [
      "100%|██████████| 1000000/1000000 [2:33:34<00:00, 108.52it/s] \n"
     ]
    }
   ],
   "source": [
    "environment.train(reinforcement_player, random_player, 1_000_000, 100, -100, decreasing_exp_rate=True)"
   ]
  },
  {
   "cell_type": "code",
   "execution_count": 6,
   "metadata": {},
   "outputs": [
    {
     "name": "stderr",
     "output_type": "stream",
     "text": [
      "100%|██████████| 1000000/1000000 [3:02:56<00:00, 91.10it/s]  \n",
      "100%|██████████| 1000000/1000000 [3:35:24<00:00, 77.38it/s]  \n",
      "100%|██████████| 1000000/1000000 [3:39:15<00:00, 76.02it/s]  \n"
     ]
    }
   ],
   "source": [
    "for _ in range(3):\n",
    "    reinforcement_player.set_random_move(0.9)\n",
    "    environment.train(reinforcement_player, random_player, 1_000_000, 100, -100, decreasing_exp_rate=True)\n",
    "    len(reinforcement_player.value_dictionary)"
   ]
  },
  {
   "cell_type": "code",
   "execution_count": 7,
   "metadata": {},
   "outputs": [
    {
     "name": "stdout",
     "output_type": "stream",
     "text": [
      "Win rate player 1: 92.10000000000001%\n",
      "Lose rate player 1: 7.9%\n",
      "Draw rate: 0.0%\n",
      "Average trajectory size: 32.0\n",
      "---------------------------------------------\n"
     ]
    }
   ],
   "source": [
    "environment.test(reinforcement_player, random_player)"
   ]
  },
  {
   "cell_type": "code",
   "execution_count": 8,
   "metadata": {},
   "outputs": [
    {
     "name": "stdout",
     "output_type": "stream",
     "text": [
      "Entries: 94777382\n",
      "Policy size: 5.88 GB\n"
     ]
    }
   ],
   "source": [
    "environment.evaluate_player(reinforcement_player, \"test_policy_1\")"
   ]
  }
 ],
 "metadata": {
  "kernelspec": {
   "display_name": "Computational_Intelligence",
   "language": "python",
   "name": "python3"
  },
  "language_info": {
   "codemirror_mode": {
    "name": "ipython",
    "version": 3
   },
   "file_extension": ".py",
   "mimetype": "text/x-python",
   "name": "python",
   "nbconvert_exporter": "python",
   "pygments_lexer": "ipython3",
   "version": "3.10.13"
  }
 },
 "nbformat": 4,
 "nbformat_minor": 2
}
