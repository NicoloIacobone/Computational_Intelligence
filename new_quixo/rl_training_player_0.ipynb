{
 "cells": [
  {
   "cell_type": "code",
   "execution_count": null,
   "metadata": {},
   "outputs": [],
   "source": [
    "from my_players import ReinforcementPlayer\n",
    "from utils import Utils\n",
    "from main import RandomPlayer"
   ]
  },
  {
   "cell_type": "code",
   "execution_count": null,
   "metadata": {},
   "outputs": [],
   "source": [
    "random_player = RandomPlayer()\n",
    "reinforcement_player = ReinforcementPlayer()\n",
    "reinforcement_player.set_random_move(0.9)\n",
    "\n",
    "environment = Utils()"
   ]
  },
  {
   "cell_type": "code",
   "execution_count": null,
   "metadata": {},
   "outputs": [],
   "source": [
    "reinforcement_player.set_random_move(0.9)\n",
    "environment.train(reinforcement_player, random_player, 500_000, 100, -100, decreasing_exp_rate=True)\n",
    "len(reinforcement_player.value_dictionary)"
   ]
  },
  {
   "cell_type": "code",
   "execution_count": null,
   "metadata": {},
   "outputs": [],
   "source": [
    "environment.test(reinforcement_player, random_player)"
   ]
  },
  {
   "cell_type": "code",
   "execution_count": null,
   "metadata": {},
   "outputs": [],
   "source": [
    "reinforcement_player.set_random_move(0.9)\n",
    "environment.train(reinforcement_player, random_player, 500_000, 100, -100, decreasing_exp_rate=True)\n",
    "len(reinforcement_player.value_dictionary)"
   ]
  },
  {
   "cell_type": "code",
   "execution_count": null,
   "metadata": {},
   "outputs": [],
   "source": [
    "environment.test(reinforcement_player, random_player)"
   ]
  },
  {
   "cell_type": "code",
   "execution_count": null,
   "metadata": {},
   "outputs": [],
   "source": [
    "reinforcement_player.set_random_move(0.9)\n",
    "environment.train(reinforcement_player, random_player, 500_000, 100, -100, decreasing_exp_rate=True)\n",
    "len(reinforcement_player.value_dictionary)"
   ]
  },
  {
   "cell_type": "code",
   "execution_count": null,
   "metadata": {},
   "outputs": [],
   "source": [
    "environment.test(reinforcement_player, random_player)"
   ]
  },
  {
   "cell_type": "code",
   "execution_count": null,
   "metadata": {},
   "outputs": [],
   "source": [
    "reinforcement_player.set_random_move(0.9)\n",
    "environment.train(reinforcement_player, random_player, 500_000, 100, -100, decreasing_exp_rate=True)\n",
    "len(reinforcement_player.value_dictionary)"
   ]
  },
  {
   "cell_type": "code",
   "execution_count": null,
   "metadata": {},
   "outputs": [],
   "source": [
    "environment.test(reinforcement_player, random_player)"
   ]
  },
  {
   "cell_type": "code",
   "execution_count": null,
   "metadata": {},
   "outputs": [],
   "source": [
    "reinforcement_player.set_random_move(0.9)\n",
    "environment.train(reinforcement_player, random_player, 500_000, 100, -100, decreasing_exp_rate=True)\n",
    "len(reinforcement_player.value_dictionary)"
   ]
  },
  {
   "cell_type": "code",
   "execution_count": null,
   "metadata": {},
   "outputs": [],
   "source": [
    "environment.test(reinforcement_player, random_player)"
   ]
  },
  {
   "cell_type": "code",
   "execution_count": null,
   "metadata": {},
   "outputs": [],
   "source": [
    "# reinforcement_player.load_policy(\"policies/policy_0\")"
   ]
  }
 ],
 "metadata": {
  "kernelspec": {
   "display_name": "Computational_Intelligence",
   "language": "python",
   "name": "python3"
  },
  "language_info": {
   "codemirror_mode": {
    "name": "ipython",
    "version": 3
   },
   "file_extension": ".py",
   "mimetype": "text/x-python",
   "name": "python",
   "nbconvert_exporter": "python",
   "pygments_lexer": "ipython3",
   "version": "3.10.13"
  }
 },
 "nbformat": 4,
 "nbformat_minor": 2
}
