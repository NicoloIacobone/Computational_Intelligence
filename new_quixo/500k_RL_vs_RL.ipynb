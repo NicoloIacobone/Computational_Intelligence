{
 "cells": [
  {
   "cell_type": "code",
   "execution_count": 4,
   "metadata": {},
   "outputs": [],
   "source": [
    "from my_players import ReinforcementPlayer\n",
    "from utils import Utils\n",
    "from main import RandomPlayer"
   ]
  },
  {
   "cell_type": "code",
   "execution_count": null,
   "metadata": {},
   "outputs": [],
   "source": [
    "reinforcement_player_1 = ReinforcementPlayer()\n",
    "reinforcement_player_2 = ReinforcementPlayer()\n",
    "environment = Utils()\n",
    "\n",
    "environment.train(reinforcement_player_1, reinforcement_player_2, 250_000, policy_name=\"RLvsRL_500k\", plot=True, decreasing_exp_rate=True)\n",
    "environment.test(reinforcement_player_1, reinforcement_player_2, policy_name=\"RLvsRL_500k\")\n",
    "environment.evaluate_player(reinforcement_player_1, \"RLvsRL_500k_1\")"
   ]
  },
  {
   "cell_type": "code",
   "execution_count": 8,
   "metadata": {},
   "outputs": [
    {
     "data": {
      "text/plain": [
       "17.8"
      ]
     },
     "execution_count": 8,
     "metadata": {},
     "output_type": "execute_result"
    }
   ],
   "source": [
    "random_player = RandomPlayer()\n",
    "reinforcement_player_1.set_random_move(0)\n",
    "environment.test(reinforcement_player_1, random_player, plot=True)"
   ]
  }
 ],
 "metadata": {
  "kernelspec": {
   "display_name": "Computational_Intelligence",
   "language": "python",
   "name": "python3"
  },
  "language_info": {
   "codemirror_mode": {
    "name": "ipython",
    "version": 3
   },
   "file_extension": ".py",
   "mimetype": "text/x-python",
   "name": "python",
   "nbconvert_exporter": "python",
   "pygments_lexer": "ipython3",
   "version": "3.10.13"
  }
 },
 "nbformat": 4,
 "nbformat_minor": 2
}
