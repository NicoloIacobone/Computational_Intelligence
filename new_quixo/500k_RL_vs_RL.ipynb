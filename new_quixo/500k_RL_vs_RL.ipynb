{
 "cells": [
  {
   "cell_type": "code",
   "execution_count": 1,
   "metadata": {},
   "outputs": [],
   "source": [
    "from my_players import ReinforcementPlayer\n",
    "from utils import Utils\n",
    "from main import RandomPlayer"
   ]
  },
  {
   "cell_type": "code",
   "execution_count": 2,
   "metadata": {},
   "outputs": [
    {
     "name": "stderr",
     "output_type": "stream",
     "text": [
      "  0%|          | 0/100000 [00:00<?, ?it/s]"
     ]
    },
    {
     "name": "stderr",
     "output_type": "stream",
     "text": [
      "100%|██████████| 100000/100000 [13:23<00:00, 124.47it/s]\n"
     ]
    },
    {
     "name": "stdout",
     "output_type": "stream",
     "text": [
      "Win rate player 1: 51.0%\n",
      "Lose rate player 1: 49.0%\n",
      "Draw rate: 0.0%\n",
      "Average trajectory size: 28.0\n",
      "---------------------------------------------\n"
     ]
    }
   ],
   "source": [
    "random_player = RandomPlayer()\n",
    "reinforcement_player = ReinforcementPlayer()\n",
    "reinforcement_player.set_random_move(0.9)\n",
    "\n",
    "environment = Utils()\n",
    "\n",
    "environment.train(reinforcement_player, random_player, 100_000, 100, -100, decreasing_exp_rate=True)\n",
    "environment.test(reinforcement_player, random_player)"
   ]
  },
  {
   "cell_type": "code",
   "execution_count": 4,
   "metadata": {},
   "outputs": [
    {
     "name": "stdout",
     "output_type": "stream",
     "text": [
      "0\n",
      "1319744\n"
     ]
    }
   ],
   "source": [
    "print(reinforcement_player.random_move)\n",
    "print(len(reinforcement_player.value_dictionary))"
   ]
  },
  {
   "cell_type": "code",
   "execution_count": 5,
   "metadata": {},
   "outputs": [
    {
     "name": "stderr",
     "output_type": "stream",
     "text": [
      "100%|██████████| 100000/100000 [13:37<00:00, 122.33it/s]\n"
     ]
    }
   ],
   "source": [
    "reinforcement_player.set_random_move(0.9)\n",
    "environment.train(reinforcement_player, random_player, 100_000, 100, -100, decreasing_exp_rate=True)"
   ]
  },
  {
   "cell_type": "code",
   "execution_count": 6,
   "metadata": {},
   "outputs": [
    {
     "name": "stdout",
     "output_type": "stream",
     "text": [
      "Win rate player 1: 51.6%\n",
      "Lose rate player 1: 48.4%\n",
      "Draw rate: 0.0%\n",
      "Average trajectory size: 19.0\n",
      "---------------------------------------------\n"
     ]
    }
   ],
   "source": [
    "environment.test(reinforcement_player, random_player)"
   ]
  },
  {
   "cell_type": "code",
   "execution_count": 7,
   "metadata": {},
   "outputs": [
    {
     "name": "stderr",
     "output_type": "stream",
     "text": [
      "100%|██████████| 500000/500000 [1:06:12<00:00, 125.85it/s]\n"
     ]
    }
   ],
   "source": [
    "reinforcement_player.set_random_move(0.9)\n",
    "environment.train(reinforcement_player, random_player, 500_000, 100, -100, decreasing_exp_rate=True)"
   ]
  },
  {
   "cell_type": "code",
   "execution_count": 8,
   "metadata": {},
   "outputs": [
    {
     "name": "stderr",
     "output_type": "stream",
     "text": [
      "100%|██████████| 100000/100000 [13:08<00:00, 126.79it/s]\n"
     ]
    }
   ],
   "source": [
    "reinforcement_player.set_random_move(0.9)\n",
    "environment.train(reinforcement_player, random_player, 100_000, 100, -100, decreasing_exp_rate=True)"
   ]
  },
  {
   "cell_type": "code",
   "execution_count": 9,
   "metadata": {},
   "outputs": [
    {
     "name": "stderr",
     "output_type": "stream",
     "text": [
      "100%|██████████| 3000000/3000000 [6:44:04<00:00, 123.74it/s]  \n"
     ]
    }
   ],
   "source": [
    "reinforcement_player.set_random_move(0.9)\n",
    "environment.train(reinforcement_player, random_player, 3_000_000, 100, -100, decreasing_exp_rate=True)"
   ]
  },
  {
   "cell_type": "code",
   "execution_count": 11,
   "metadata": {},
   "outputs": [
    {
     "name": "stdout",
     "output_type": "stream",
     "text": [
      "Win rate player 1: 85.1%\n",
      "Lose rate player 1: 14.899999999999999%\n",
      "Draw rate: 0.0%\n",
      "Average trajectory size: 16.0\n",
      "---------------------------------------------\n"
     ]
    }
   ],
   "source": [
    "environment.test(reinforcement_player, random_player)"
   ]
  }
 ],
 "metadata": {
  "kernelspec": {
   "display_name": "Computational_Intelligence",
   "language": "python",
   "name": "python3"
  },
  "language_info": {
   "codemirror_mode": {
    "name": "ipython",
    "version": 3
   },
   "file_extension": ".py",
   "mimetype": "text/x-python",
   "name": "python",
   "nbconvert_exporter": "python",
   "pygments_lexer": "ipython3",
   "version": "3.10.13"
  }
 },
 "nbformat": 4,
 "nbformat_minor": 2
}
